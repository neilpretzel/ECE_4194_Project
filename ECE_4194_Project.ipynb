{
 "cells": [
  {
   "cell_type": "code",
   "execution_count": 1,
   "metadata": {},
   "outputs": [],
   "source": [
    "import pandas as pd\n",
    "import numpy as np\n",
    "import sklearn\n",
    "import matplotlib.pyplot as plt"
   ]
  },
  {
   "cell_type": "code",
   "execution_count": 327,
   "metadata": {},
   "outputs": [],
   "source": [
    "df_train = pd.read_csv(\"sign_mnist_train.csv\")\n",
    "df_test = pd.read_csv(\"sign_mnist_test.csv\")"
   ]
  },
  {
   "cell_type": "code",
   "execution_count": 328,
   "metadata": {
    "scrolled": true
   },
   "outputs": [
    {
     "data": {
      "text/html": [
       "<div>\n",
       "<style scoped>\n",
       "    .dataframe tbody tr th:only-of-type {\n",
       "        vertical-align: middle;\n",
       "    }\n",
       "\n",
       "    .dataframe tbody tr th {\n",
       "        vertical-align: top;\n",
       "    }\n",
       "\n",
       "    .dataframe thead th {\n",
       "        text-align: right;\n",
       "    }\n",
       "</style>\n",
       "<table border=\"1\" class=\"dataframe\">\n",
       "  <thead>\n",
       "    <tr style=\"text-align: right;\">\n",
       "      <th></th>\n",
       "      <th>label</th>\n",
       "      <th>pixel1</th>\n",
       "      <th>pixel2</th>\n",
       "      <th>pixel3</th>\n",
       "      <th>pixel4</th>\n",
       "      <th>pixel5</th>\n",
       "      <th>pixel6</th>\n",
       "      <th>pixel7</th>\n",
       "      <th>pixel8</th>\n",
       "      <th>pixel9</th>\n",
       "      <th>...</th>\n",
       "      <th>pixel775</th>\n",
       "      <th>pixel776</th>\n",
       "      <th>pixel777</th>\n",
       "      <th>pixel778</th>\n",
       "      <th>pixel779</th>\n",
       "      <th>pixel780</th>\n",
       "      <th>pixel781</th>\n",
       "      <th>pixel782</th>\n",
       "      <th>pixel783</th>\n",
       "      <th>pixel784</th>\n",
       "    </tr>\n",
       "  </thead>\n",
       "  <tbody>\n",
       "    <tr>\n",
       "      <th>0</th>\n",
       "      <td>3</td>\n",
       "      <td>107</td>\n",
       "      <td>118</td>\n",
       "      <td>127</td>\n",
       "      <td>134</td>\n",
       "      <td>139</td>\n",
       "      <td>143</td>\n",
       "      <td>146</td>\n",
       "      <td>150</td>\n",
       "      <td>153</td>\n",
       "      <td>...</td>\n",
       "      <td>207</td>\n",
       "      <td>207</td>\n",
       "      <td>207</td>\n",
       "      <td>207</td>\n",
       "      <td>206</td>\n",
       "      <td>206</td>\n",
       "      <td>206</td>\n",
       "      <td>204</td>\n",
       "      <td>203</td>\n",
       "      <td>202</td>\n",
       "    </tr>\n",
       "    <tr>\n",
       "      <th>1</th>\n",
       "      <td>6</td>\n",
       "      <td>155</td>\n",
       "      <td>157</td>\n",
       "      <td>156</td>\n",
       "      <td>156</td>\n",
       "      <td>156</td>\n",
       "      <td>157</td>\n",
       "      <td>156</td>\n",
       "      <td>158</td>\n",
       "      <td>158</td>\n",
       "      <td>...</td>\n",
       "      <td>69</td>\n",
       "      <td>149</td>\n",
       "      <td>128</td>\n",
       "      <td>87</td>\n",
       "      <td>94</td>\n",
       "      <td>163</td>\n",
       "      <td>175</td>\n",
       "      <td>103</td>\n",
       "      <td>135</td>\n",
       "      <td>149</td>\n",
       "    </tr>\n",
       "    <tr>\n",
       "      <th>2</th>\n",
       "      <td>2</td>\n",
       "      <td>187</td>\n",
       "      <td>188</td>\n",
       "      <td>188</td>\n",
       "      <td>187</td>\n",
       "      <td>187</td>\n",
       "      <td>186</td>\n",
       "      <td>187</td>\n",
       "      <td>188</td>\n",
       "      <td>187</td>\n",
       "      <td>...</td>\n",
       "      <td>202</td>\n",
       "      <td>201</td>\n",
       "      <td>200</td>\n",
       "      <td>199</td>\n",
       "      <td>198</td>\n",
       "      <td>199</td>\n",
       "      <td>198</td>\n",
       "      <td>195</td>\n",
       "      <td>194</td>\n",
       "      <td>195</td>\n",
       "    </tr>\n",
       "    <tr>\n",
       "      <th>3</th>\n",
       "      <td>2</td>\n",
       "      <td>211</td>\n",
       "      <td>211</td>\n",
       "      <td>212</td>\n",
       "      <td>212</td>\n",
       "      <td>211</td>\n",
       "      <td>210</td>\n",
       "      <td>211</td>\n",
       "      <td>210</td>\n",
       "      <td>210</td>\n",
       "      <td>...</td>\n",
       "      <td>235</td>\n",
       "      <td>234</td>\n",
       "      <td>233</td>\n",
       "      <td>231</td>\n",
       "      <td>230</td>\n",
       "      <td>226</td>\n",
       "      <td>225</td>\n",
       "      <td>222</td>\n",
       "      <td>229</td>\n",
       "      <td>163</td>\n",
       "    </tr>\n",
       "    <tr>\n",
       "      <th>4</th>\n",
       "      <td>13</td>\n",
       "      <td>164</td>\n",
       "      <td>167</td>\n",
       "      <td>170</td>\n",
       "      <td>172</td>\n",
       "      <td>176</td>\n",
       "      <td>179</td>\n",
       "      <td>180</td>\n",
       "      <td>184</td>\n",
       "      <td>185</td>\n",
       "      <td>...</td>\n",
       "      <td>92</td>\n",
       "      <td>105</td>\n",
       "      <td>105</td>\n",
       "      <td>108</td>\n",
       "      <td>133</td>\n",
       "      <td>163</td>\n",
       "      <td>157</td>\n",
       "      <td>163</td>\n",
       "      <td>164</td>\n",
       "      <td>179</td>\n",
       "    </tr>\n",
       "  </tbody>\n",
       "</table>\n",
       "<p>5 rows × 785 columns</p>\n",
       "</div>"
      ],
      "text/plain": [
       "   label  pixel1  pixel2  pixel3  pixel4  pixel5  pixel6  pixel7  pixel8  \\\n",
       "0      3     107     118     127     134     139     143     146     150   \n",
       "1      6     155     157     156     156     156     157     156     158   \n",
       "2      2     187     188     188     187     187     186     187     188   \n",
       "3      2     211     211     212     212     211     210     211     210   \n",
       "4     13     164     167     170     172     176     179     180     184   \n",
       "\n",
       "   pixel9  ...  pixel775  pixel776  pixel777  pixel778  pixel779  pixel780  \\\n",
       "0     153  ...       207       207       207       207       206       206   \n",
       "1     158  ...        69       149       128        87        94       163   \n",
       "2     187  ...       202       201       200       199       198       199   \n",
       "3     210  ...       235       234       233       231       230       226   \n",
       "4     185  ...        92       105       105       108       133       163   \n",
       "\n",
       "   pixel781  pixel782  pixel783  pixel784  \n",
       "0       206       204       203       202  \n",
       "1       175       103       135       149  \n",
       "2       198       195       194       195  \n",
       "3       225       222       229       163  \n",
       "4       157       163       164       179  \n",
       "\n",
       "[5 rows x 785 columns]"
      ]
     },
     "execution_count": 328,
     "metadata": {},
     "output_type": "execute_result"
    }
   ],
   "source": [
    "df_train.head()"
   ]
  },
  {
   "cell_type": "code",
   "execution_count": 329,
   "metadata": {},
   "outputs": [],
   "source": [
    "# https://stackoverflow.com/questions/41624241/pandas-split-dataframe-into-two-dataframes\n",
    "df_train_targets = df_train.iloc[:, 0]\n",
    "df_train_images = df_train.iloc[:, 1:]\n",
    "df_test_targets = df_test.iloc[:, 0]\n",
    "df_test_images = df_test.iloc[:, 1:]"
   ]
  },
  {
   "cell_type": "code",
   "execution_count": 330,
   "metadata": {
    "scrolled": true
   },
   "outputs": [
    {
     "data": {
      "text/html": [
       "<div>\n",
       "<style scoped>\n",
       "    .dataframe tbody tr th:only-of-type {\n",
       "        vertical-align: middle;\n",
       "    }\n",
       "\n",
       "    .dataframe tbody tr th {\n",
       "        vertical-align: top;\n",
       "    }\n",
       "\n",
       "    .dataframe thead th {\n",
       "        text-align: right;\n",
       "    }\n",
       "</style>\n",
       "<table border=\"1\" class=\"dataframe\">\n",
       "  <thead>\n",
       "    <tr style=\"text-align: right;\">\n",
       "      <th></th>\n",
       "      <th>pixel1</th>\n",
       "      <th>pixel2</th>\n",
       "      <th>pixel3</th>\n",
       "      <th>pixel4</th>\n",
       "      <th>pixel5</th>\n",
       "      <th>pixel6</th>\n",
       "      <th>pixel7</th>\n",
       "      <th>pixel8</th>\n",
       "      <th>pixel9</th>\n",
       "      <th>pixel10</th>\n",
       "      <th>...</th>\n",
       "      <th>pixel775</th>\n",
       "      <th>pixel776</th>\n",
       "      <th>pixel777</th>\n",
       "      <th>pixel778</th>\n",
       "      <th>pixel779</th>\n",
       "      <th>pixel780</th>\n",
       "      <th>pixel781</th>\n",
       "      <th>pixel782</th>\n",
       "      <th>pixel783</th>\n",
       "      <th>pixel784</th>\n",
       "    </tr>\n",
       "  </thead>\n",
       "  <tbody>\n",
       "    <tr>\n",
       "      <th>0</th>\n",
       "      <td>107</td>\n",
       "      <td>118</td>\n",
       "      <td>127</td>\n",
       "      <td>134</td>\n",
       "      <td>139</td>\n",
       "      <td>143</td>\n",
       "      <td>146</td>\n",
       "      <td>150</td>\n",
       "      <td>153</td>\n",
       "      <td>156</td>\n",
       "      <td>...</td>\n",
       "      <td>207</td>\n",
       "      <td>207</td>\n",
       "      <td>207</td>\n",
       "      <td>207</td>\n",
       "      <td>206</td>\n",
       "      <td>206</td>\n",
       "      <td>206</td>\n",
       "      <td>204</td>\n",
       "      <td>203</td>\n",
       "      <td>202</td>\n",
       "    </tr>\n",
       "    <tr>\n",
       "      <th>1</th>\n",
       "      <td>155</td>\n",
       "      <td>157</td>\n",
       "      <td>156</td>\n",
       "      <td>156</td>\n",
       "      <td>156</td>\n",
       "      <td>157</td>\n",
       "      <td>156</td>\n",
       "      <td>158</td>\n",
       "      <td>158</td>\n",
       "      <td>157</td>\n",
       "      <td>...</td>\n",
       "      <td>69</td>\n",
       "      <td>149</td>\n",
       "      <td>128</td>\n",
       "      <td>87</td>\n",
       "      <td>94</td>\n",
       "      <td>163</td>\n",
       "      <td>175</td>\n",
       "      <td>103</td>\n",
       "      <td>135</td>\n",
       "      <td>149</td>\n",
       "    </tr>\n",
       "    <tr>\n",
       "      <th>2</th>\n",
       "      <td>187</td>\n",
       "      <td>188</td>\n",
       "      <td>188</td>\n",
       "      <td>187</td>\n",
       "      <td>187</td>\n",
       "      <td>186</td>\n",
       "      <td>187</td>\n",
       "      <td>188</td>\n",
       "      <td>187</td>\n",
       "      <td>186</td>\n",
       "      <td>...</td>\n",
       "      <td>202</td>\n",
       "      <td>201</td>\n",
       "      <td>200</td>\n",
       "      <td>199</td>\n",
       "      <td>198</td>\n",
       "      <td>199</td>\n",
       "      <td>198</td>\n",
       "      <td>195</td>\n",
       "      <td>194</td>\n",
       "      <td>195</td>\n",
       "    </tr>\n",
       "    <tr>\n",
       "      <th>3</th>\n",
       "      <td>211</td>\n",
       "      <td>211</td>\n",
       "      <td>212</td>\n",
       "      <td>212</td>\n",
       "      <td>211</td>\n",
       "      <td>210</td>\n",
       "      <td>211</td>\n",
       "      <td>210</td>\n",
       "      <td>210</td>\n",
       "      <td>211</td>\n",
       "      <td>...</td>\n",
       "      <td>235</td>\n",
       "      <td>234</td>\n",
       "      <td>233</td>\n",
       "      <td>231</td>\n",
       "      <td>230</td>\n",
       "      <td>226</td>\n",
       "      <td>225</td>\n",
       "      <td>222</td>\n",
       "      <td>229</td>\n",
       "      <td>163</td>\n",
       "    </tr>\n",
       "    <tr>\n",
       "      <th>4</th>\n",
       "      <td>164</td>\n",
       "      <td>167</td>\n",
       "      <td>170</td>\n",
       "      <td>172</td>\n",
       "      <td>176</td>\n",
       "      <td>179</td>\n",
       "      <td>180</td>\n",
       "      <td>184</td>\n",
       "      <td>185</td>\n",
       "      <td>186</td>\n",
       "      <td>...</td>\n",
       "      <td>92</td>\n",
       "      <td>105</td>\n",
       "      <td>105</td>\n",
       "      <td>108</td>\n",
       "      <td>133</td>\n",
       "      <td>163</td>\n",
       "      <td>157</td>\n",
       "      <td>163</td>\n",
       "      <td>164</td>\n",
       "      <td>179</td>\n",
       "    </tr>\n",
       "  </tbody>\n",
       "</table>\n",
       "<p>5 rows × 784 columns</p>\n",
       "</div>"
      ],
      "text/plain": [
       "   pixel1  pixel2  pixel3  pixel4  pixel5  pixel6  pixel7  pixel8  pixel9  \\\n",
       "0     107     118     127     134     139     143     146     150     153   \n",
       "1     155     157     156     156     156     157     156     158     158   \n",
       "2     187     188     188     187     187     186     187     188     187   \n",
       "3     211     211     212     212     211     210     211     210     210   \n",
       "4     164     167     170     172     176     179     180     184     185   \n",
       "\n",
       "   pixel10  ...  pixel775  pixel776  pixel777  pixel778  pixel779  pixel780  \\\n",
       "0      156  ...       207       207       207       207       206       206   \n",
       "1      157  ...        69       149       128        87        94       163   \n",
       "2      186  ...       202       201       200       199       198       199   \n",
       "3      211  ...       235       234       233       231       230       226   \n",
       "4      186  ...        92       105       105       108       133       163   \n",
       "\n",
       "   pixel781  pixel782  pixel783  pixel784  \n",
       "0       206       204       203       202  \n",
       "1       175       103       135       149  \n",
       "2       198       195       194       195  \n",
       "3       225       222       229       163  \n",
       "4       157       163       164       179  \n",
       "\n",
       "[5 rows x 784 columns]"
      ]
     },
     "execution_count": 330,
     "metadata": {},
     "output_type": "execute_result"
    }
   ],
   "source": [
    "df_train_images.head()"
   ]
  },
  {
   "cell_type": "code",
   "execution_count": 331,
   "metadata": {
    "scrolled": true
   },
   "outputs": [],
   "source": [
    "X_train = df_train_images.values\n",
    "y_train = df_train_targets.values\n",
    "X_test = df_test_images.values\n",
    "y_test = df_test_targets.values\n",
    "# print(y_train.shape)"
   ]
  },
  {
   "cell_type": "code",
   "execution_count": 332,
   "metadata": {},
   "outputs": [],
   "source": [
    "# shifts labels because of the missing J in the alphabet (value 9)\n",
    "for i in range(np.shape(y_train)[0]):\n",
    "    if (y_train[i] > 9):\n",
    "        y_train[i] -= 1\n",
    "        \n",
    "for i in range(np.shape(y_test)[0]):\n",
    "    if (y_test[i] > 9):\n",
    "        y_test[i] -= 1"
   ]
  },
  {
   "cell_type": "code",
   "execution_count": 333,
   "metadata": {},
   "outputs": [
    {
     "name": "stdout",
     "output_type": "stream",
     "text": [
      "['D' 'G' 'C' ... 'S' 'R' 'X']\n",
      "['G' 'F' 'K' ... 'C' 'E' 'C']\n"
     ]
    }
   ],
   "source": [
    "# https://codereview.stackexchange.com/questions/183658/replacing-letters-with-numbers-with-its-position-in-alphabet\n",
    "# https://docs.python.org/2/library/string.html\n",
    "from string import ascii_uppercase\n",
    "alphabet = \"ABCDEFGHIKLMNOPQRSTUVWXY\"\n",
    "\n",
    "# function to convert 0-23 number to A-Z character (minus J and Z)\n",
    "def to_char(num, char = None):\n",
    "    char = alphabet[num]\n",
    "    return char\n",
    "\n",
    "y_train_char = np.empty((y_train.shape[0], ), dtype = np.str)\n",
    "for i in range(y_train.shape[0]):\n",
    "    y_train_char[i] = to_char(y_train[i])\n",
    "print(y_train_char)\n",
    "\n",
    "y_test_char = np.empty((y_test.shape[0], ), dtype = np.str)\n",
    "for i in range(y_test.shape[0]):\n",
    "    y_test_char[i] = to_char(y_test[i])\n",
    "print(y_test_char)\n"
   ]
  },
  {
   "cell_type": "code",
   "execution_count": 336,
   "metadata": {
    "scrolled": false
   },
   "outputs": [
    {
     "data": {
      "image/png": "[encoded data removed]",
      "text/plain": [
       "<Figure size 432x288 with 4 Axes>"
      ]
     },
     "metadata": {},
     "output_type": "display_data"
    }
   ],
   "source": [
    "# From demo \"demo_mnist_svm\" with modifications\n",
    "def plt_digit(x):\n",
    "    nrow = 28\n",
    "    ncol = 28\n",
    "    xsq = x.reshape((nrow,ncol))\n",
    "    plt.imshow(xsq,  cmap='Greys_r')\n",
    "    plt.xticks([])\n",
    "    plt.yticks([])\n",
    "    \n",
    "Iperm = np.random.permutation(X_test[0])\n",
    "    \n",
    "for i in range(4):\n",
    "    ind = Iperm[i]\n",
    "    plt.subplot(1,4,i+1)\n",
    "    plt_digit(X_test[ind,:])\n",
    "    plt.title(y_test_char[ind])"
   ]
  },
  {
   "cell_type": "code",
   "execution_count": 23,
   "metadata": {},
   "outputs": [],
   "source": [
    "# Normalize data (From SVM MNIST demo)\n",
    "X_train = X_train/255.0*2 - 1 # convert to range [-1,1]\n",
    "X_test = X_test/255.0*2 - 1 # convert to range [-1,1]"
   ]
  },
  {
   "cell_type": "code",
   "execution_count": 143,
   "metadata": {},
   "outputs": [
    {
     "name": "stderr",
     "output_type": "stream",
     "text": [
      "[Parallel(n_jobs=1)]: Using backend SequentialBackend with 1 concurrent workers.\n",
      "/anaconda3/lib/python3.7/site-packages/sklearn/linear_model/logistic.py:758: ConvergenceWarning: lbfgs failed to converge. Increase the number of iterations.\n",
      "  \"of iterations.\", ConvergenceWarning)\n",
      "[Parallel(n_jobs=1)]: Done   1 out of   1 | elapsed:   40.1s finished\n"
     ]
    },
    {
     "data": {
      "text/plain": [
       "LogisticRegression(C=1.0, class_weight=None, dual=False, fit_intercept=True,\n",
       "          intercept_scaling=1, max_iter=500, multi_class='multinomial',\n",
       "          n_jobs=None, penalty='l2', random_state=None, solver='lbfgs',\n",
       "          tol=0.0001, verbose=1, warm_start=False)"
      ]
     },
     "execution_count": 143,
     "metadata": {},
     "output_type": "execute_result"
    }
   ],
   "source": [
    "import sklearn\n",
    "from sklearn import datasets, linear_model, preprocessing\n",
    "logreg = linear_model.LogisticRegression(verbose=1, multi_class='multinomial', \n",
    "                                         solver='lbfgs', max_iter=500)\n",
    "logreg.fit(X_train,y_train)"
   ]
  },
  {
   "cell_type": "code",
   "execution_count": 144,
   "metadata": {
    "scrolled": true
   },
   "outputs": [
    {
     "name": "stdout",
     "output_type": "stream",
     "text": [
      "Accuracy = 0.686977\n"
     ]
    }
   ],
   "source": [
    "yhat_logreg = logreg.predict(X_test)\n",
    "acc_logreg = np.mean(yhat_logreg == y_test)\n",
    "print('Accuracy = {0:f}'.format(acc_logreg))\n",
    "# Accuracy before normalization = 0.674986\n",
    "# Accuracy after normalization  = 0.686977"
   ]
  },
  {
   "cell_type": "code",
   "execution_count": 145,
   "metadata": {},
   "outputs": [
    {
     "data": {
      "image/png": "[encoded data removed]",
      "text/plain": [
       "<Figure size 1080x288 with 8 Axes>"
      ]
     },
     "metadata": {},
     "output_type": "display_data"
    }
   ],
   "source": [
    "nplt = 8\n",
    "Ierr = np.where(y_test != yhat_logreg)[0]\n",
    "\n",
    "Iperm = np.random.permutation(Ierr)\n",
    "\n",
    "plt.figure(figsize=(15, 4))\n",
    "for i in range(nplt):        \n",
    "    plt.subplot(1,nplt,i+1)        \n",
    "    ind = Iperm[i]    \n",
    "    plt_digit(X_test[ind,:]) \n",
    "    title = \"true=\" + to_char(y_test[ind]) + \" est=\" + to_char(yhat_logreg[ind])\n",
    "    plt.title(title)"
   ]
  },
  {
   "cell_type": "code",
   "execution_count": 148,
   "metadata": {},
   "outputs": [
    {
     "name": "stdout",
     "output_type": "stream",
     "text": [
      "[LibSVM]"
     ]
    },
    {
     "data": {
      "text/plain": [
       "SVC(C=1.0, cache_size=200, class_weight=None, coef0=0.0,\n",
       "  decision_function_shape='ovr', degree=3, gamma='auto_deprecated',\n",
       "  kernel='linear', max_iter=-1, probability=False, random_state=None,\n",
       "  shrinking=True, tol=0.001, verbose=1)"
      ]
     },
     "execution_count": 148,
     "metadata": {},
     "output_type": "execute_result"
    }
   ],
   "source": [
    "from sklearn import svm\n",
    "# Create a classifier: a support vector classifier with linear kernel\n",
    "svc = svm.SVC(probability=False, kernel=\"linear\", verbose=1)\n",
    "\n",
    "svc.fit(X_train,y_train)"
   ]
  },
  {
   "cell_type": "code",
   "execution_count": 149,
   "metadata": {
    "scrolled": false
   },
   "outputs": [
    {
     "name": "stdout",
     "output_type": "stream",
     "text": [
      "Accuracy = 0.781651\n"
     ]
    }
   ],
   "source": [
    "yhat_svc_linear = svc.predict(X_test)\n",
    "acc_svc_linear = np.mean(yhat_svc_linear == y_test)\n",
    "print('Accuracy = {0:f}'.format(acc_svc_linear))\n",
    "# Accuracy before normalization = 0.781651\n",
    "# Accuracy after normalization  = 0.781651"
   ]
  },
  {
   "cell_type": "code",
   "execution_count": 17,
   "metadata": {},
   "outputs": [],
   "source": [
    "X_train_subset = X_train[0:10000]\n",
    "y_train_subset = y_train[0:10000]"
   ]
  },
  {
   "cell_type": "code",
   "execution_count": 34,
   "metadata": {},
   "outputs": [
    {
     "name": "stdout",
     "output_type": "stream",
     "text": [
      "The best parameters are {'C': 10.0, 'gamma': 1e-07} with a score of 1.00\n"
     ]
    }
   ],
   "source": [
    "# https://scikit-learn.org/stable/auto_examples/svm/plot_rbf_parameters.html\n",
    "\n",
    "from sklearn.model_selection import StratifiedShuffleSplit\n",
    "from sklearn.model_selection import GridSearchCV\n",
    "\n",
    "# usually a range of 10^-3 to 10^3 is sufficient according to source above, so we will do 10^-4 and 10^4\n",
    "#C_range = np.logspace(2, 18, 9)\n",
    "#gamma_range = np.logspace(-13, -5, 9)\n",
    "C_range = np.logspace(0,5,6)\n",
    "gamma_range = np.logspace(-5, -10, 6)\n",
    "param_grid = dict(gamma=gamma_range, C=C_range)\n",
    "cv = StratifiedShuffleSplit(n_splits=5, test_size=0.2, random_state=42)\n",
    "grid = GridSearchCV(svm.SVC(kernel=\"rbf\"), param_grid=param_grid, cv=cv)\n",
    "grid.fit(X_train, y_train)\n",
    "\n",
    "print(\"The best parameters are %s with a score of %0.2f\"\n",
    "      % (grid.best_params_, grid.best_score_))"
   ]
  },
  {
   "cell_type": "code",
   "execution_count": 36,
   "metadata": {
    "scrolled": false
   },
   "outputs": [
    {
     "data": {
      "image/png": "[encoded data removed]",
      "text/plain": [
       "<Figure size 576x432 with 2 Axes>"
      ]
     },
     "metadata": {
      "needs_background": "light"
     },
     "output_type": "display_data"
    }
   ],
   "source": [
    "from matplotlib.colors import Normalize\n",
    "class MidpointNormalize(Normalize):\n",
    "\n",
    "    def __init__(self, vmin=None, vmax=None, midpoint=None, clip=False):\n",
    "        self.midpoint = midpoint\n",
    "        Normalize.__init__(self, vmin, vmax, clip)\n",
    "\n",
    "    def __call__(self, value, clip=None):\n",
    "        x, y = [self.vmin, self.midpoint, self.vmax], [0, 0.5, 1]\n",
    "        return np.ma.masked_array(np.interp(value, x, y))\n",
    "\n",
    "scores = grid.cv_results_['mean_test_score'].reshape(len(C_range), len(gamma_range))\n",
    "\n",
    "plt.figure(figsize=(8, 6))\n",
    "plt.subplots_adjust(left=.2, right=0.95, bottom=0.15, top=0.95)\n",
    "# https://matplotlib.org/tutorials/colors/colormaps.html\n",
    "plt.imshow(scores, interpolation='nearest', cmap=plt.cm.hot, norm=MidpointNormalize(vmin=0.8, midpoint=0.9975))\n",
    "plt.xlabel('gamma')\n",
    "plt.ylabel('C')\n",
    "plt.colorbar()\n",
    "plt.xticks(np.arange(len(gamma_range)), gamma_range, rotation=45)\n",
    "plt.yticks(np.arange(len(C_range)), C_range)\n",
    "plt.title('Validation accuracy')\n",
    "plt.show()"
   ]
  },
  {
   "cell_type": "code",
   "execution_count": 37,
   "metadata": {},
   "outputs": [
    {
     "name": "stdout",
     "output_type": "stream",
     "text": [
      "[[0.98710617 0.99967219 0.96860317 0.70198507 0.21114551 0.04716809]\n",
      " [0.98728829 0.99996358 1.         0.96106356 0.70238572 0.21158259]\n",
      " [0.98728829 0.99996358 1.         1.         0.95938809 0.70202149]\n",
      " [0.98728829 0.99996358 1.         1.         1.         0.95906028]\n",
      " [0.98728829 0.99996358 1.         1.         1.         1.        ]\n",
      " [0.98728829 0.99996358 1.         1.         1.         1.        ]]\n"
     ]
    }
   ],
   "source": [
    "print(scores)"
   ]
  },
  {
   "cell_type": "code",
   "execution_count": null,
   "metadata": {},
   "outputs": [
    {
     "name": "stdout",
     "output_type": "stream",
     "text": [
      "[LibSVM]"
     ]
    }
   ],
   "source": [
    "# Create a classifier: a support vector classifier with RBF kernel\n",
    "svcrbf = svm.SVC(probability=False, kernel=\"rbf\", C=100, gamma=1e-7, verbose=1)\n",
    "svcrbf.fit(X_train,y_train)"
   ]
  },
  {
   "cell_type": "code",
   "execution_count": 39,
   "metadata": {
    "scrolled": true
   },
   "outputs": [
    {
     "name": "stdout",
     "output_type": "stream",
     "text": [
      "Accuracy = 0.815254\n"
     ]
    }
   ],
   "source": [
    "yhat_svc_rbf = svcrbf.predict(X_test)\n",
    "acc_svc_rbf = np.mean(yhat_svc_rbf == y_test)\n",
    "print('Accuracy = {0:f}'.format(acc_svc_rbf))\n",
    "# Accuracy before normalization = 0.815254\n",
    "# Accuracy after normalization  = 0.781651"
   ]
  },
  {
   "cell_type": "code",
   "execution_count": 79,
   "metadata": {},
   "outputs": [],
   "source": [
    "# Basic Neural Network from MNIST Neural Network Demo\n",
    "\n",
    "import torch\n",
    "import torch.utils.data\n",
    "\n",
    "batch_size = 240\n",
    "\n",
    "# Convert the numpy arrays to PyTorch tensors\n",
    "Xtr_torch = torch.Tensor(X_train)\n",
    "ytr_torch = torch.Tensor(y_train)\n",
    "Xts_torch = torch.Tensor(X_test)\n",
    "yts_torch = torch.Tensor(y_test)\n",
    "\n",
    "# Create a training Dataset\n",
    "train_ds = torch.utils.data.TensorDataset(Xtr_torch, ytr_torch)\n",
    "# Creates a training DataLoader from this Dataset\n",
    "train_loader = torch.utils.data.DataLoader(train_ds, batch_size=batch_size, shuffle=True) \n",
    "\n",
    "# Create a testing Dataset\n",
    "test_ds = torch.utils.data.TensorDataset(Xts_torch, yts_torch)\n",
    "# Creates a testing DataLoader from this Dataset\n",
    "test_loader = torch.utils.data.DataLoader(test_ds, batch_size=batch_size)"
   ]
  },
  {
   "cell_type": "code",
   "execution_count": 80,
   "metadata": {},
   "outputs": [],
   "source": [
    "import torch.nn as nn\n",
    "\n",
    "nin = X_train.shape[1] # dimension of input data\n",
    "nh = 240 # number of hidden units\n",
    "nout = int(np.max(y_train)+1) # number of outputs = 10 since there are 10 classes\n",
    "\n",
    "class Net(nn.Module):\n",
    "    def __init__(self,nin,nh,nout):\n",
    "        super(Net,self).__init__()\n",
    "        self.sigmoid = nn.Sigmoid()\n",
    "        self.Dense1 = nn.Linear(nin,nh)\n",
    "        self.Dense2 = nn.Linear(nh,nout)\n",
    "        \n",
    "    def forward(self,x):\n",
    "        x = self.sigmoid(self.Dense1(x))\n",
    "        out = self.Dense2(x)\n",
    "        return out\n",
    "\n",
    "model = Net(nin=nin, nh=nh, nout=nout)"
   ]
  },
  {
   "cell_type": "code",
   "execution_count": 81,
   "metadata": {},
   "outputs": [],
   "source": [
    "import torch.optim as optim\n",
    "\n",
    "# if lr = .001 too high\n",
    "# if lr = .0001 then accuracy 62.69 after 50 epochs\n",
    "# if lr = .000075 then accuracy 67.5 after 50 epochs\n",
    "# if lr = .00005 then accuracy 70.69 after 50 epochs\n",
    "# if lr = .0000375 then accuracy 67.44 after 50 epochs\n",
    "# if lr = .000025 then accuracy 69.3 after 50 epochs\n",
    "# if lr = .00001 then accuracy 59.98 after 50 epochs\n",
    "opt = optim.Adam(model.parameters(), lr= 0.00005)\n",
    "\n",
    "criterion = nn.CrossEntropyLoss()"
   ]
  },
  {
   "cell_type": "code",
   "execution_count": 82,
   "metadata": {},
   "outputs": [
    {
     "name": "stdout",
     "output_type": "stream",
     "text": [
      "Epoch:  1   Train Loss: 3.110   Train Accuracy: 11.23    Test Loss: 3.072   Test Accuracy: 14.88\n",
      "Epoch:  2   Train Loss: 2.974   Train Accuracy: 24.48    Test Loss: 2.962   Test Accuracy: 22.48\n",
      "Epoch:  3   Train Loss: 2.843   Train Accuracy: 33.65    Test Loss: 2.838   Test Accuracy: 29.31\n",
      "Epoch:  4   Train Loss: 2.708   Train Accuracy: 41.73    Test Loss: 2.727   Test Accuracy: 35.76\n",
      "Epoch:  5   Train Loss: 2.577   Train Accuracy: 48.69    Test Loss: 2.620   Test Accuracy: 38.94\n",
      "Epoch:  6   Train Loss: 2.456   Train Accuracy: 53.76    Test Loss: 2.536   Test Accuracy: 38.75\n",
      "Epoch:  7   Train Loss: 2.335   Train Accuracy: 57.53    Test Loss: 2.427   Test Accuracy: 43.24\n",
      "Epoch:  8   Train Loss: 2.223   Train Accuracy: 61.37    Test Loss: 2.339   Test Accuracy: 46.22\n",
      "Epoch:  9   Train Loss: 2.116   Train Accuracy: 64.41    Test Loss: 2.252   Test Accuracy: 48.93\n",
      "Epoch: 10   Train Loss: 2.019   Train Accuracy: 66.53    Test Loss: 2.178   Test Accuracy: 48.44\n",
      "Epoch: 11   Train Loss: 1.926   Train Accuracy: 69.38    Test Loss: 2.105   Test Accuracy: 52.76\n",
      "Epoch: 12   Train Loss: 1.841   Train Accuracy: 71.21    Test Loss: 2.053   Test Accuracy: 52.62\n",
      "Epoch: 13   Train Loss: 1.758   Train Accuracy: 72.96    Test Loss: 1.988   Test Accuracy: 53.18\n",
      "Epoch: 14   Train Loss: 1.677   Train Accuracy: 74.62    Test Loss: 1.933   Test Accuracy: 54.29\n",
      "Epoch: 15   Train Loss: 1.599   Train Accuracy: 76.32    Test Loss: 1.874   Test Accuracy: 55.28\n",
      "Epoch: 16   Train Loss: 1.530   Train Accuracy: 77.48    Test Loss: 1.831   Test Accuracy: 56.46\n",
      "Epoch: 17   Train Loss: 1.462   Train Accuracy: 79.20    Test Loss: 1.779   Test Accuracy: 58.24\n",
      "Epoch: 18   Train Loss: 1.399   Train Accuracy: 79.85    Test Loss: 1.735   Test Accuracy: 59.12\n",
      "Epoch: 19   Train Loss: 1.338   Train Accuracy: 81.21    Test Loss: 1.698   Test Accuracy: 59.19\n",
      "Epoch: 20   Train Loss: 1.282   Train Accuracy: 82.40    Test Loss: 1.660   Test Accuracy: 60.54\n",
      "Epoch: 21   Train Loss: 1.225   Train Accuracy: 83.31    Test Loss: 1.622   Test Accuracy: 60.72\n",
      "Epoch: 22   Train Loss: 1.176   Train Accuracy: 84.26    Test Loss: 1.596   Test Accuracy: 60.55\n",
      "Epoch: 23   Train Loss: 1.128   Train Accuracy: 85.21    Test Loss: 1.563   Test Accuracy: 61.50\n",
      "Epoch: 24   Train Loss: 1.081   Train Accuracy: 86.28    Test Loss: 1.533   Test Accuracy: 61.99\n",
      "Epoch: 25   Train Loss: 1.036   Train Accuracy: 87.14    Test Loss: 1.510   Test Accuracy: 62.07\n",
      "Epoch: 26   Train Loss: 0.994   Train Accuracy: 87.89    Test Loss: 1.488   Test Accuracy: 62.47\n",
      "Epoch: 27   Train Loss: 0.954   Train Accuracy: 88.79    Test Loss: 1.457   Test Accuracy: 62.98\n",
      "Epoch: 28   Train Loss: 0.917   Train Accuracy: 89.45    Test Loss: 1.433   Test Accuracy: 63.65\n",
      "Epoch: 29   Train Loss: 0.879   Train Accuracy: 90.12    Test Loss: 1.414   Test Accuracy: 64.05\n",
      "Epoch: 30   Train Loss: 0.844   Train Accuracy: 90.78    Test Loss: 1.386   Test Accuracy: 63.75\n",
      "Epoch: 31   Train Loss: 0.813   Train Accuracy: 91.10    Test Loss: 1.379   Test Accuracy: 64.57\n",
      "Epoch: 32   Train Loss: 0.780   Train Accuracy: 91.63    Test Loss: 1.352   Test Accuracy: 65.35\n",
      "Epoch: 33   Train Loss: 0.749   Train Accuracy: 92.13    Test Loss: 1.336   Test Accuracy: 64.72\n",
      "Epoch: 34   Train Loss: 0.720   Train Accuracy: 92.52    Test Loss: 1.319   Test Accuracy: 65.20\n",
      "Epoch: 35   Train Loss: 0.694   Train Accuracy: 92.84    Test Loss: 1.308   Test Accuracy: 65.71\n",
      "Epoch: 36   Train Loss: 0.670   Train Accuracy: 93.08    Test Loss: 1.293   Test Accuracy: 65.71\n",
      "Epoch: 37   Train Loss: 0.643   Train Accuracy: 93.43    Test Loss: 1.268   Test Accuracy: 66.17\n",
      "Epoch: 38   Train Loss: 0.618   Train Accuracy: 93.63    Test Loss: 1.264   Test Accuracy: 66.12\n",
      "Epoch: 39   Train Loss: 0.592   Train Accuracy: 94.03    Test Loss: 1.248   Test Accuracy: 66.05\n",
      "Epoch: 40   Train Loss: 0.572   Train Accuracy: 94.19    Test Loss: 1.244   Test Accuracy: 66.05\n",
      "Epoch: 41   Train Loss: 0.549   Train Accuracy: 94.53    Test Loss: 1.227   Test Accuracy: 67.19\n",
      "Epoch: 42   Train Loss: 0.531   Train Accuracy: 94.79    Test Loss: 1.216   Test Accuracy: 66.01\n",
      "Epoch: 43   Train Loss: 0.510   Train Accuracy: 95.12    Test Loss: 1.201   Test Accuracy: 66.79\n",
      "Epoch: 44   Train Loss: 0.490   Train Accuracy: 95.41    Test Loss: 1.193   Test Accuracy: 67.21\n",
      "Epoch: 45   Train Loss: 0.471   Train Accuracy: 95.64    Test Loss: 1.179   Test Accuracy: 67.36\n",
      "Epoch: 46   Train Loss: 0.453   Train Accuracy: 95.94    Test Loss: 1.171   Test Accuracy: 67.46\n",
      "Epoch: 47   Train Loss: 0.437   Train Accuracy: 96.32    Test Loss: 1.167   Test Accuracy: 67.76\n",
      "Epoch: 48   Train Loss: 0.421   Train Accuracy: 96.50    Test Loss: 1.146   Test Accuracy: 67.61\n",
      "Epoch: 49   Train Loss: 0.405   Train Accuracy: 96.74    Test Loss: 1.143   Test Accuracy: 67.81\n",
      "Epoch: 50   Train Loss: 0.390   Train Accuracy: 96.85    Test Loss: 1.142   Test Accuracy: 67.96\n",
      "Epoch: 51   Train Loss: 0.376   Train Accuracy: 96.97    Test Loss: 1.131   Test Accuracy: 67.41\n",
      "Epoch: 52   Train Loss: 0.363   Train Accuracy: 97.09    Test Loss: 1.114   Test Accuracy: 68.21\n",
      "Epoch: 53   Train Loss: 0.349   Train Accuracy: 97.27    Test Loss: 1.108   Test Accuracy: 69.03\n",
      "Epoch: 54   Train Loss: 0.337   Train Accuracy: 97.33    Test Loss: 1.101   Test Accuracy: 69.69\n",
      "Epoch: 55   Train Loss: 0.326   Train Accuracy: 97.42    Test Loss: 1.113   Test Accuracy: 68.36\n",
      "Epoch: 56   Train Loss: 0.313   Train Accuracy: 97.52    Test Loss: 1.096   Test Accuracy: 68.70\n",
      "Epoch: 57   Train Loss: 0.302   Train Accuracy: 97.69    Test Loss: 1.096   Test Accuracy: 68.59\n",
      "Epoch: 58   Train Loss: 0.291   Train Accuracy: 97.83    Test Loss: 1.089   Test Accuracy: 68.40\n",
      "Epoch: 59   Train Loss: 0.281   Train Accuracy: 98.10    Test Loss: 1.083   Test Accuracy: 68.98\n",
      "Epoch: 60   Train Loss: 0.270   Train Accuracy: 98.22    Test Loss: 1.076   Test Accuracy: 69.27\n",
      "Epoch: 61   Train Loss: 0.261   Train Accuracy: 98.31    Test Loss: 1.072   Test Accuracy: 69.60\n",
      "Epoch: 62   Train Loss: 0.252   Train Accuracy: 98.37    Test Loss: 1.060   Test Accuracy: 68.99\n",
      "Epoch: 63   Train Loss: 0.242   Train Accuracy: 98.46    Test Loss: 1.068   Test Accuracy: 68.35\n",
      "Epoch: 64   Train Loss: 0.234   Train Accuracy: 98.57    Test Loss: 1.063   Test Accuracy: 69.77\n",
      "Epoch: 65   Train Loss: 0.225   Train Accuracy: 98.56    Test Loss: 1.051   Test Accuracy: 70.09\n",
      "Epoch: 66   Train Loss: 0.217   Train Accuracy: 98.66    Test Loss: 1.051   Test Accuracy: 70.20\n",
      "Epoch: 67   Train Loss: 0.209   Train Accuracy: 98.71    Test Loss: 1.051   Test Accuracy: 69.80\n",
      "Epoch: 68   Train Loss: 0.203   Train Accuracy: 98.74    Test Loss: 1.037   Test Accuracy: 69.45\n",
      "Epoch: 69   Train Loss: 0.195   Train Accuracy: 98.76    Test Loss: 1.040   Test Accuracy: 70.09\n",
      "Epoch: 70   Train Loss: 0.188   Train Accuracy: 98.83    Test Loss: 1.034   Test Accuracy: 70.64\n",
      "Epoch: 71   Train Loss: 0.182   Train Accuracy: 98.83    Test Loss: 1.041   Test Accuracy: 69.90\n",
      "Epoch: 72   Train Loss: 0.175   Train Accuracy: 98.90    Test Loss: 1.029   Test Accuracy: 70.20\n",
      "Epoch: 73   Train Loss: 0.168   Train Accuracy: 98.89    Test Loss: 1.035   Test Accuracy: 69.27\n",
      "Epoch: 74   Train Loss: 0.163   Train Accuracy: 98.97    Test Loss: 1.022   Test Accuracy: 70.66\n",
      "Epoch: 75   Train Loss: 0.157   Train Accuracy: 99.03    Test Loss: 1.022   Test Accuracy: 69.69\n",
      "Epoch: 76   Train Loss: 0.151   Train Accuracy: 99.10    Test Loss: 1.020   Test Accuracy: 70.62\n",
      "Epoch: 77   Train Loss: 0.146   Train Accuracy: 99.17    Test Loss: 1.021   Test Accuracy: 70.50\n",
      "Epoch: 78   Train Loss: 0.140   Train Accuracy: 99.23    Test Loss: 1.019   Test Accuracy: 70.40\n",
      "Epoch: 79   Train Loss: 0.135   Train Accuracy: 99.28    Test Loss: 1.009   Test Accuracy: 70.61\n",
      "Epoch: 80   Train Loss: 0.131   Train Accuracy: 99.29    Test Loss: 1.016   Test Accuracy: 70.69\n",
      "Epoch: 81   Train Loss: 0.127   Train Accuracy: 99.33    Test Loss: 1.006   Test Accuracy: 71.21\n",
      "Epoch: 82   Train Loss: 0.121   Train Accuracy: 99.36    Test Loss: 1.003   Test Accuracy: 71.49\n",
      "Epoch: 83   Train Loss: 0.117   Train Accuracy: 99.50    Test Loss: 1.008   Test Accuracy: 71.26\n",
      "Epoch: 84   Train Loss: 0.113   Train Accuracy: 99.50    Test Loss: 0.994   Test Accuracy: 70.32\n",
      "Epoch: 85   Train Loss: 0.110   Train Accuracy: 99.56    Test Loss: 0.997   Test Accuracy: 72.00\n"
     ]
    },
    {
     "name": "stdout",
     "output_type": "stream",
     "text": [
      "Epoch: 86   Train Loss: 0.106   Train Accuracy: 99.59    Test Loss: 0.994   Test Accuracy: 71.32\n",
      "Epoch: 87   Train Loss: 0.101   Train Accuracy: 99.62    Test Loss: 1.007   Test Accuracy: 71.24\n",
      "Epoch: 88   Train Loss: 0.098   Train Accuracy: 99.64    Test Loss: 0.995   Test Accuracy: 70.65\n",
      "Epoch: 89   Train Loss: 0.095   Train Accuracy: 99.66    Test Loss: 0.991   Test Accuracy: 71.67\n",
      "Epoch: 90   Train Loss: 0.091   Train Accuracy: 99.67    Test Loss: 0.993   Test Accuracy: 70.54\n",
      "Epoch: 91   Train Loss: 0.088   Train Accuracy: 99.66    Test Loss: 0.994   Test Accuracy: 71.35\n",
      "Epoch: 92   Train Loss: 0.085   Train Accuracy: 99.68    Test Loss: 0.989   Test Accuracy: 71.19\n",
      "Epoch: 93   Train Loss: 0.082   Train Accuracy: 99.69    Test Loss: 0.994   Test Accuracy: 71.83\n",
      "Epoch: 94   Train Loss: 0.079   Train Accuracy: 99.70    Test Loss: 0.983   Test Accuracy: 71.88\n",
      "Epoch: 95   Train Loss: 0.077   Train Accuracy: 99.73    Test Loss: 0.983   Test Accuracy: 70.87\n",
      "Epoch: 96   Train Loss: 0.074   Train Accuracy: 99.77    Test Loss: 0.980   Test Accuracy: 71.70\n",
      "Epoch: 97   Train Loss: 0.072   Train Accuracy: 99.83    Test Loss: 0.988   Test Accuracy: 71.40\n",
      "Epoch: 98   Train Loss: 0.069   Train Accuracy: 99.84    Test Loss: 0.993   Test Accuracy: 70.89\n",
      "Epoch: 99   Train Loss: 0.066   Train Accuracy: 99.90    Test Loss: 0.988   Test Accuracy: 71.32\n",
      "Epoch: 100   Train Loss: 0.063   Train Accuracy: 99.90    Test Loss: 0.997   Test Accuracy: 71.10\n"
     ]
    }
   ],
   "source": [
    "num_epoch = 100\n",
    "\n",
    "a_tr_loss = np.zeros([num_epoch])\n",
    "a_tr_accuracy = np.zeros([num_epoch])\n",
    "a_ts_loss = np.zeros([num_epoch])\n",
    "a_ts_accuracy = np.zeros([num_epoch])\n",
    "\n",
    "for epoch in range(num_epoch):\n",
    "\n",
    "    model.train() # put model in training mode\n",
    "    correct = 0 # initialize error counter\n",
    "    total = 0 # initialize total counter\n",
    "    batch_loss = []\n",
    "    # iterate over training set\n",
    "    for train_iter, data in enumerate(train_loader):\n",
    "        x_batch,y_batch = data\n",
    "        y_batch = y_batch.type(torch.long)\n",
    "        out = model(x_batch)\n",
    "        # Compute Loss\n",
    "        loss = criterion(out,y_batch)\n",
    "        batch_loss.append(loss.item())\n",
    "        # Compute gradients using back propagation\n",
    "        opt.zero_grad()\n",
    "        loss.backward()\n",
    "        # Take an optimization 'step'\n",
    "        opt.step()\n",
    "        # Do hard classification: index of largest score\n",
    "        _, predicted = torch.max(out.data, 1)\n",
    "        # Compute number of decision errors\n",
    "        total += y_batch.size(0)\n",
    "        correct += (predicted == y_batch).sum().item()\n",
    "        \n",
    "    tr_accuracy = 100*correct/total # Compute accuracy over epoch\n",
    "    a_tr_loss[epoch] = np.mean(batch_loss) # Compute average loss over epoch\n",
    "    a_tr_accuracy[epoch] = 100*correct/total\n",
    "\n",
    "    model.eval() # put model in evaluation mode\n",
    "    correct = 0 # initialize error counter\n",
    "    total = 0 # initialize total counter\n",
    "    batch_loss = []\n",
    "    with torch.no_grad():\n",
    "        for data in test_loader:\n",
    "            images, labels = data\n",
    "            labels = labels.type(torch.long)\n",
    "            outputs = model(images)\n",
    "            batch_loss.append(criterion(outputs,labels).item())\n",
    "            _, predicted = torch.max(outputs.data, 1)\n",
    "            total += labels.size(0)\n",
    "            correct += (predicted == labels).sum().item()\n",
    "            \n",
    "    a_ts_loss[epoch] = np.mean(batch_loss)\n",
    "    a_ts_accuracy[epoch] = 100*correct/total\n",
    "    # Print details every print_mod epoch\n",
    "    print('Epoch: {0:2d}   Train Loss: {1:.3f}   '.format(epoch+1, a_tr_loss[epoch])\n",
    "          +'Train Accuracy: {0:.2f}    Test Loss: {1:.3f}   '.format(a_tr_accuracy[epoch], a_ts_loss[epoch])\n",
    "          +'Test Accuracy: {0:.2f}'.format(a_ts_accuracy[epoch]))\n",
    "        "
   ]
  },
  {
   "cell_type": "code",
   "execution_count": 83,
   "metadata": {
    "scrolled": true
   },
   "outputs": [
    {
     "data": {
      "text/plain": [
       "<matplotlib.legend.Legend at 0xa23018be0>"
      ]
     },
     "execution_count": 83,
     "metadata": {},
     "output_type": "execute_result"
    },
    {
     "data": {
      "image/png": "[encoded data removed]",
      "text/plain": [
       "<Figure size 432x288 with 1 Axes>"
      ]
     },
     "metadata": {
      "needs_background": "light"
     },
     "output_type": "display_data"
    }
   ],
   "source": [
    "plt.plot(a_tr_accuracy)\n",
    "plt.plot(a_ts_accuracy)\n",
    "plt.grid()\n",
    "plt.xlabel('epochs')\n",
    "plt.ylabel('accuracy')\n",
    "plt.legend(['training accuracy', 'test accuracy'])"
   ]
  },
  {
   "cell_type": "code",
   "execution_count": null,
   "metadata": {},
   "outputs": [],
   "source": []
  },
  {
   "cell_type": "code",
   "execution_count": 342,
   "metadata": {},
   "outputs": [],
   "source": [
    "X_train = df_train_images.values\n",
    "y_train = df_train_targets.values\n",
    "X_test = df_test_images.values\n",
    "y_test = df_test_targets.values\n",
    "\n",
    "# shifts labels because of the missing J in the alphabet (value 9)\n",
    "for i in range(np.shape(y_train)[0]):\n",
    "    if (y_train[i] > 9):\n",
    "        y_train[i] -= 1\n",
    "        \n",
    "for i in range(np.shape(y_test)[0]):\n",
    "    if (y_test[i] > 9):\n",
    "        y_test[i] -= 1\n",
    "\n",
    "# Normalize data from [-1, 1]\n",
    "X_train = (X_train/255)*2 - 1\n",
    "X_test = (X_test/255)*2 - 1\n",
    "\n",
    "nrow = 28\n",
    "ncol = 28\n",
    "\n",
    "Xtr_box = np.zeros((X_train.shape[0],nrow,ncol))\n",
    "for i in range(np.shape(X_train)[0]):\n",
    "    Xtr_box[i] = X_train[i].reshape((nrow,ncol))\n",
    "\n",
    "Xts_box =  np.zeros((X_test.shape[0],nrow,ncol))\n",
    "for i in range(np.shape(X_test)[0]):\n",
    "    Xts_box[i] = X_test[i].reshape((nrow,ncol))"
   ]
  },
  {
   "cell_type": "code",
   "execution_count": 343,
   "metadata": {
    "scrolled": true
   },
   "outputs": [
    {
     "name": "stdout",
     "output_type": "stream",
     "text": [
      "(7172, 28, 28)\n",
      "9\n"
     ]
    },
    {
     "data": {
      "image/png": "[encoded data removed]",
      "text/plain": [
       "<Figure size 432x288 with 1 Axes>"
      ]
     },
     "metadata": {},
     "output_type": "display_data"
    }
   ],
   "source": [
    "print(Xts_box.shape)\n",
    "plt.imshow(Xts_box[2],  cmap='Greys_r')\n",
    "plt.xticks([])\n",
    "plt.yticks([])\n",
    "print(y_test[2])"
   ]
  },
  {
   "cell_type": "code",
   "execution_count": 344,
   "metadata": {},
   "outputs": [],
   "source": [
    "nchan_in = 1       # number of input channels = 1 since it is a greyscale image\n",
    "reshape_tr = (Xtr_box.shape[0],nchan_in,nrow,ncol)\n",
    "reshape_ts = (Xts_box.shape[0],nchan_in,nrow,ncol)\n",
    "\n",
    "Xtr = Xtr_box.reshape(reshape_tr)\n",
    "Xts = Xts_box.reshape(reshape_ts)"
   ]
  },
  {
   "cell_type": "code",
   "execution_count": 345,
   "metadata": {
    "scrolled": true
   },
   "outputs": [
    {
     "name": "stdout",
     "output_type": "stream",
     "text": [
      "(7172, 1, 28, 28)\n"
     ]
    }
   ],
   "source": [
    "print(Xts.shape)"
   ]
  },
  {
   "cell_type": "code",
   "execution_count": 352,
   "metadata": {
    "scrolled": true
   },
   "outputs": [],
   "source": [
    "# https://adventuresinmachinelearning.com/convolutional-neural-networks-tutorial-in-pytorch/\n",
    "\n",
    "import torch\n",
    "import torch.utils.data\n",
    "import torch.nn as nn\n",
    "import torch.optim as optim\n",
    "\n",
    "batch_size = 64\n",
    "\n",
    "# Convert the numpy arrays to PyTorch tensors\n",
    "Xtr_torch = torch.Tensor(Xtr)\n",
    "ytr_torch = torch.Tensor(y_train)\n",
    "Xts_torch = torch.Tensor(Xts)\n",
    "yts_torch = torch.Tensor(y_test)\n",
    "\n",
    "# Create a training Dataset\n",
    "train_ds = torch.utils.data.TensorDataset(Xtr_torch, ytr_torch)\n",
    "# Creates a training DataLoader from this Dataset\n",
    "train_loader = torch.utils.data.DataLoader(train_ds, batch_size=batch_size, shuffle=True) \n",
    "\n",
    "# Create a testing Dataset\n",
    "test_ds = torch.utils.data.TensorDataset(Xts_torch, yts_torch)\n",
    "# Creates a testing DataLoader from this Dataset\n",
    "test_loader = torch.utils.data.DataLoader(test_ds, batch_size=batch_size)"
   ]
  },
  {
   "cell_type": "code",
   "execution_count": 358,
   "metadata": {},
   "outputs": [],
   "source": [
    "class BasicCNN(nn.Module):\n",
    "    def __init__(self):\n",
    "        super(BasicCNN, self).__init__()\n",
    "        self.relu = nn.ReLU()\n",
    "        self.pool = nn.MaxPool2d(2,2)\n",
    "        \n",
    "        self.conv1 = nn.Conv2d(1,16,3,padding=1)\n",
    "        # outputs 16 channels of 14x14\n",
    "        \n",
    "        self.conv2 = nn.Conv2d(16,16,3,padding=1)\n",
    "        # outputs 16 channels of 7x7\n",
    "        \n",
    "        self.fc1 = nn.Linear(16*7*7, 392) #392 is 784/2\n",
    "        self.fc2 = nn.Linear(392, num_classes)\n",
    "        \n",
    "    def forward(self,x):\n",
    "        x = self.pool(self.relu(self.conv1(x)))\n",
    "        x = self.pool(self.relu(self.conv2(x)))\n",
    "        x = x.view(x.size(0),-1)\n",
    "        x = self.relu(self.fc1(x))\n",
    "        x = self.fc2(x)\n",
    "        return x\n",
    "\n",
    "model = BasicCNN()"
   ]
  },
  {
   "cell_type": "code",
   "execution_count": 359,
   "metadata": {},
   "outputs": [],
   "source": [
    "# num_classes = np.max(y_train)+1\n",
    "\n",
    "# class ConvNet(nn.Module):\n",
    "#     def __init__(self):\n",
    "#         super(ConvNet, self).__init__()\n",
    "#         self.relu = nn.ReLU()\n",
    "#         self.layer1 = nn.Sequential(\n",
    "#             nn.Conv2d(1, 32, kernel_size=5, stride=1, padding=2),\n",
    "#             nn.ReLU(),\n",
    "#             nn.MaxPool2d(kernel_size=2, stride=2))\n",
    "#         self.layer2 = nn.Sequential(\n",
    "#             nn.Conv2d(32, 64, kernel_size=5, stride=1, padding=2),\n",
    "#             nn.ReLU(),\n",
    "#             nn.MaxPool2d(kernel_size=2, stride=2))\n",
    "#         self.drop_out = nn.Dropout()\n",
    "#         self.fc1 = nn.Linear(7 * 7 * 64, 1000)\n",
    "#         self.fc2 = nn.Linear(1000, num_classes)\n",
    "        \n",
    "#     def forward(self, x):\n",
    "#         out = self.layer1(x)\n",
    "#         out = self.layer2(out)\n",
    "#         out = out.reshape(out.size(0), -1)\n",
    "#         out = self.drop_out(out)\n",
    "#         out = self.relu(self.fc1(out))\n",
    "#         out = self.fc2(out)\n",
    "#         return out\n",
    "    \n",
    "# model = ConvNet()"
   ]
  },
  {
   "cell_type": "code",
   "execution_count": 360,
   "metadata": {},
   "outputs": [],
   "source": [
    "# picked learning rate based on last NN, but could be different\n",
    "epochs = 20\n",
    "lrate = .01\n",
    "decay = lrate/epochs"
   ]
  },
  {
   "cell_type": "code",
   "execution_count": 361,
   "metadata": {},
   "outputs": [
    {
     "name": "stdout",
     "output_type": "stream",
     "text": [
      "BasicCNN(\n",
      "  (relu): ReLU()\n",
      "  (pool): MaxPool2d(kernel_size=2, stride=2, padding=0, dilation=1, ceil_mode=False)\n",
      "  (conv1): Conv2d(1, 16, kernel_size=(3, 3), stride=(1, 1), padding=(1, 1))\n",
      "  (conv2): Conv2d(16, 16, kernel_size=(3, 3), stride=(1, 1), padding=(1, 1))\n",
      "  (fc1): Linear(in_features=784, out_features=392, bias=True)\n",
      "  (fc2): Linear(in_features=392, out_features=24, bias=True)\n",
      ")\n"
     ]
    }
   ],
   "source": [
    "# initiate Adam optimizer\n",
    "opt = optim.Adam(model.parameters(), lr=lrate)\n",
    "\n",
    "# Create learning rate scheduler\n",
    "lambda1 = lambda epoch: lrate - decay*epoch\n",
    "scheduler = optim.lr_scheduler.LambdaLR(opt, lr_lambda=lambda1)\n",
    "\n",
    "# initiate loss function\n",
    "criterion = nn.CrossEntropyLoss()\n",
    "\n",
    "print(str(model))"
   ]
  },
  {
   "cell_type": "code",
   "execution_count": null,
   "metadata": {},
   "outputs": [
    {
     "name": "stdout",
     "output_type": "stream",
     "text": [
      "Epoch:  1   Train Accuracy: 28.119%   Test Accuracy: 48.717%\n"
     ]
    }
   ],
   "source": [
    "basic_tr_accuracy = []\n",
    "basic_ts_accuracy = []\n",
    "\n",
    "for epoch in range(epochs):\n",
    "    # Take scheduler step\n",
    "    scheduler.step()\n",
    "    \n",
    "    correct = 0 # initialize error counter\n",
    "    total = 0 # initialize total counter\n",
    "    model.train() # put model in training mode\n",
    "    # iterate over training set\n",
    "    for train_iter, data in enumerate(train_loader):\n",
    "        x_batch,y_batch = data\n",
    "        y_batch = y_batch.type(torch.long)\n",
    "        out = model(x_batch)\n",
    "        # Compute Loss\n",
    "        loss = criterion(out,y_batch)\n",
    "        # Zero gradients\n",
    "        opt.zero_grad()\n",
    "        # Compute gradients using back propagation\n",
    "        loss.backward()\n",
    "        # Take an optimization 'step'\n",
    "        opt.step()\n",
    "        \n",
    "        # Compute Accuracy\n",
    "        _, predicted = torch.max(out.data, 1)\n",
    "        total += y_batch.size(0)\n",
    "        correct += (predicted == y_batch).sum().item()\n",
    "        \n",
    "\n",
    "    basic_tr_accuracy.append( 100*correct/total )\n",
    "    \n",
    "    correct = 0\n",
    "    total = 0\n",
    "    model.eval() # put model in evaluation mode\n",
    "    with torch.no_grad():\n",
    "        for data in test_loader:\n",
    "            images, labels = data\n",
    "            labels = labels.type(torch.long)\n",
    "            outputs = model(images)\n",
    "            _, predicted = torch.max(outputs.data, 1)\n",
    "            total += labels.size(0)\n",
    "            correct += (predicted == labels).sum().item()\n",
    "    \n",
    "    basic_ts_accuracy.append( 100*correct/total )\n",
    "    \n",
    "    # Print details every print_mod epoch\n",
    "    print('Epoch: {0:2d}   Train Accuracy: {1:.3f}%   Test Accuracy: {2:.3f}%'.format(epoch+1, basic_tr_accuracy[epoch], basic_ts_accuracy[epoch]))\n",
    "        \n",
    "\n",
    "print('Done!')"
   ]
  },
  {
   "cell_type": "code",
   "execution_count": 316,
   "metadata": {
    "scrolled": true
   },
   "outputs": [
    {
     "name": "stdout",
     "output_type": "stream",
     "text": [
      "tensor([ 6.,  5.,  9.,  0.,  3., 19.,  9., 12.,  3.,  7.,  8.,  8., 19., 10.,\n",
      "         7.,  4., 20.,  0.,  7.,  7.,  2.,  0., 19.,  4.,  9., 13.,  2., 13.,\n",
      "         7.,  1.,  7.,  8., 11., 17.,  3., 19., 11.,  3., 16., 12., 13., 21.,\n",
      "         8., 13., 12.,  5., 15.,  4., 17., 11., 18., 20., 18.,  5., 14., 14.,\n",
      "        19.,  4.,  7., 20.,  9., 11.,  9., 20.])\n"
     ]
    },
    {
     "data": {
      "text/plain": [
       "([], <a list of 0 Text yticklabel objects>)"
      ]
     },
     "execution_count": 316,
     "metadata": {},
     "output_type": "execute_result"
    },
    {
     "data": {
      "image/png": "[encoded data removed]",
      "text/plain": [
       "<Figure size 432x288 with 1 Axes>"
      ]
     },
     "metadata": {},
     "output_type": "display_data"
    }
   ],
   "source": [
    "class BNNet(nn.Module):\n",
    "    def __init__(self):\n",
    "        super(BNNet, self).__init__()\n",
    "        self.relu = nn.ReLU()\n",
    "        self.pool = nn.MaxPool2d(2,2)\n",
    "        self.conv1 = nn.Conv2d(1,16,3,padding=1)\n",
    "        self.bn1 = nn.BatchNorm2d(16)\n",
    "        self.conv2 = nn.Conv2d(16,16,3,padding=1)\n",
    "        self.bn2 = nn.BatchNorm1d(16*7**2)\n",
    "        self.fc1 = nn.Linear(16*7**2, 392)\n",
    "        self.bn3 = nn.BatchNorm1d(392)\n",
    "        self.fc2 = nn.Linear(392, num_classes)\n",
    "        \n",
    "    def forward(self,x):\n",
    "        x = self.bn1(self.pool(self.relu(self.conv1(x))))\n",
    "        x = self.pool(self.relu(self.conv2(x)))\n",
    "        x = self.bn2(x.view(x.size(0),-1))\n",
    "        x = self.bn3(self.relu(self.fc1(x)))\n",
    "        x = self.fc2(x)\n",
    "        return x\n",
    "\n",
    "\n",
    "model = BNNet()\n",
    "\n",
    "\n",
    "# initiate Adam optimizer\n",
    "opt = optim.Adam(model.parameters(), lr=lrate)\n",
    "\n",
    "# Create learning rate scheduler\n",
    "lambda1 = lambda epoch: lrate - decay*epoch\n",
    "scheduler = optim.lr_scheduler.LambdaLR(opt, lr_lambda=lambda1)\n",
    "\n",
    "# initiate loss function\n",
    "criterion = nn.CrossEntropyLoss()\n",
    "\n",
    "print(str(model))"
   ]
  },
  {
   "cell_type": "code",
   "execution_count": null,
   "metadata": {},
   "outputs": [],
   "source": []
  }
 ],
 "metadata": {
  "kernelspec": {
   "display_name": "Python 3",
   "language": "python",
   "name": "python3"
  },
  "language_info": {
   "codemirror_mode": {
    "name": "ipython",
    "version": 3
   },
   "file_extension": ".py",
   "mimetype": "text/x-python",
   "name": "python",
   "nbconvert_exporter": "python",
   "pygments_lexer": "ipython3",
   "version": "3.7.3"
  }
 },
 "nbformat": 4,
 "nbformat_minor": 2
}
