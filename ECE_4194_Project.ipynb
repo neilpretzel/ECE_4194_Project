{
 "cells": [
  {
   "cell_type": "code",
   "execution_count": 3,
   "metadata": {},
   "outputs": [],
   "source": [
    "import pandas as pd\n",
    "import numpy as np\n",
    "import sklearn\n",
    "import matplotlib.pyplot as plt\n",
    "\n",
    "import sklearn\n",
    "from sklearn import datasets, linear_model, preprocessing\n",
    "\n"
   ]
  },
  {
   "cell_type": "code",
   "execution_count": 4,
   "metadata": {},
   "outputs": [
    {
     "data": {
      "text/html": [
       "<div>\n",
       "<style scoped>\n",
       "    .dataframe tbody tr th:only-of-type {\n",
       "        vertical-align: middle;\n",
       "    }\n",
       "\n",
       "    .dataframe tbody tr th {\n",
       "        vertical-align: top;\n",
       "    }\n",
       "\n",
       "    .dataframe thead th {\n",
       "        text-align: right;\n",
       "    }\n",
       "</style>\n",
       "<table border=\"1\" class=\"dataframe\">\n",
       "  <thead>\n",
       "    <tr style=\"text-align: right;\">\n",
       "      <th></th>\n",
       "      <th>label</th>\n",
       "      <th>pixel1</th>\n",
       "      <th>pixel2</th>\n",
       "      <th>pixel3</th>\n",
       "      <th>pixel4</th>\n",
       "      <th>pixel5</th>\n",
       "      <th>pixel6</th>\n",
       "      <th>pixel7</th>\n",
       "      <th>pixel8</th>\n",
       "      <th>pixel9</th>\n",
       "      <th>...</th>\n",
       "      <th>pixel775</th>\n",
       "      <th>pixel776</th>\n",
       "      <th>pixel777</th>\n",
       "      <th>pixel778</th>\n",
       "      <th>pixel779</th>\n",
       "      <th>pixel780</th>\n",
       "      <th>pixel781</th>\n",
       "      <th>pixel782</th>\n",
       "      <th>pixel783</th>\n",
       "      <th>pixel784</th>\n",
       "    </tr>\n",
       "  </thead>\n",
       "  <tbody>\n",
       "    <tr>\n",
       "      <th>0</th>\n",
       "      <td>3</td>\n",
       "      <td>107</td>\n",
       "      <td>118</td>\n",
       "      <td>127</td>\n",
       "      <td>134</td>\n",
       "      <td>139</td>\n",
       "      <td>143</td>\n",
       "      <td>146</td>\n",
       "      <td>150</td>\n",
       "      <td>153</td>\n",
       "      <td>...</td>\n",
       "      <td>207</td>\n",
       "      <td>207</td>\n",
       "      <td>207</td>\n",
       "      <td>207</td>\n",
       "      <td>206</td>\n",
       "      <td>206</td>\n",
       "      <td>206</td>\n",
       "      <td>204</td>\n",
       "      <td>203</td>\n",
       "      <td>202</td>\n",
       "    </tr>\n",
       "    <tr>\n",
       "      <th>1</th>\n",
       "      <td>6</td>\n",
       "      <td>155</td>\n",
       "      <td>157</td>\n",
       "      <td>156</td>\n",
       "      <td>156</td>\n",
       "      <td>156</td>\n",
       "      <td>157</td>\n",
       "      <td>156</td>\n",
       "      <td>158</td>\n",
       "      <td>158</td>\n",
       "      <td>...</td>\n",
       "      <td>69</td>\n",
       "      <td>149</td>\n",
       "      <td>128</td>\n",
       "      <td>87</td>\n",
       "      <td>94</td>\n",
       "      <td>163</td>\n",
       "      <td>175</td>\n",
       "      <td>103</td>\n",
       "      <td>135</td>\n",
       "      <td>149</td>\n",
       "    </tr>\n",
       "    <tr>\n",
       "      <th>2</th>\n",
       "      <td>2</td>\n",
       "      <td>187</td>\n",
       "      <td>188</td>\n",
       "      <td>188</td>\n",
       "      <td>187</td>\n",
       "      <td>187</td>\n",
       "      <td>186</td>\n",
       "      <td>187</td>\n",
       "      <td>188</td>\n",
       "      <td>187</td>\n",
       "      <td>...</td>\n",
       "      <td>202</td>\n",
       "      <td>201</td>\n",
       "      <td>200</td>\n",
       "      <td>199</td>\n",
       "      <td>198</td>\n",
       "      <td>199</td>\n",
       "      <td>198</td>\n",
       "      <td>195</td>\n",
       "      <td>194</td>\n",
       "      <td>195</td>\n",
       "    </tr>\n",
       "    <tr>\n",
       "      <th>3</th>\n",
       "      <td>2</td>\n",
       "      <td>211</td>\n",
       "      <td>211</td>\n",
       "      <td>212</td>\n",
       "      <td>212</td>\n",
       "      <td>211</td>\n",
       "      <td>210</td>\n",
       "      <td>211</td>\n",
       "      <td>210</td>\n",
       "      <td>210</td>\n",
       "      <td>...</td>\n",
       "      <td>235</td>\n",
       "      <td>234</td>\n",
       "      <td>233</td>\n",
       "      <td>231</td>\n",
       "      <td>230</td>\n",
       "      <td>226</td>\n",
       "      <td>225</td>\n",
       "      <td>222</td>\n",
       "      <td>229</td>\n",
       "      <td>163</td>\n",
       "    </tr>\n",
       "    <tr>\n",
       "      <th>4</th>\n",
       "      <td>13</td>\n",
       "      <td>164</td>\n",
       "      <td>167</td>\n",
       "      <td>170</td>\n",
       "      <td>172</td>\n",
       "      <td>176</td>\n",
       "      <td>179</td>\n",
       "      <td>180</td>\n",
       "      <td>184</td>\n",
       "      <td>185</td>\n",
       "      <td>...</td>\n",
       "      <td>92</td>\n",
       "      <td>105</td>\n",
       "      <td>105</td>\n",
       "      <td>108</td>\n",
       "      <td>133</td>\n",
       "      <td>163</td>\n",
       "      <td>157</td>\n",
       "      <td>163</td>\n",
       "      <td>164</td>\n",
       "      <td>179</td>\n",
       "    </tr>\n",
       "  </tbody>\n",
       "</table>\n",
       "<p>5 rows × 785 columns</p>\n",
       "</div>"
      ],
      "text/plain": [
       "   label  pixel1  pixel2  pixel3  pixel4  pixel5  pixel6  pixel7  pixel8  \\\n",
       "0      3     107     118     127     134     139     143     146     150   \n",
       "1      6     155     157     156     156     156     157     156     158   \n",
       "2      2     187     188     188     187     187     186     187     188   \n",
       "3      2     211     211     212     212     211     210     211     210   \n",
       "4     13     164     167     170     172     176     179     180     184   \n",
       "\n",
       "   pixel9  ...  pixel775  pixel776  pixel777  pixel778  pixel779  pixel780  \\\n",
       "0     153  ...       207       207       207       207       206       206   \n",
       "1     158  ...        69       149       128        87        94       163   \n",
       "2     187  ...       202       201       200       199       198       199   \n",
       "3     210  ...       235       234       233       231       230       226   \n",
       "4     185  ...        92       105       105       108       133       163   \n",
       "\n",
       "   pixel781  pixel782  pixel783  pixel784  \n",
       "0       206       204       203       202  \n",
       "1       175       103       135       149  \n",
       "2       198       195       194       195  \n",
       "3       225       222       229       163  \n",
       "4       157       163       164       179  \n",
       "\n",
       "[5 rows x 785 columns]"
      ]
     },
     "execution_count": 4,
     "metadata": {},
     "output_type": "execute_result"
    }
   ],
   "source": [
    "df_train = pd.read_csv(\"sign_mnist_train.csv\")\n",
    "df_test = pd.read_csv(\"sign_mnist_test.csv\")\n",
    "\n",
    "df_train.head()"
   ]
  },
  {
   "cell_type": "code",
   "execution_count": 5,
   "metadata": {
    "scrolled": true
   },
   "outputs": [
    {
     "data": {
      "text/html": [
       "<div>\n",
       "<style scoped>\n",
       "    .dataframe tbody tr th:only-of-type {\n",
       "        vertical-align: middle;\n",
       "    }\n",
       "\n",
       "    .dataframe tbody tr th {\n",
       "        vertical-align: top;\n",
       "    }\n",
       "\n",
       "    .dataframe thead th {\n",
       "        text-align: right;\n",
       "    }\n",
       "</style>\n",
       "<table border=\"1\" class=\"dataframe\">\n",
       "  <thead>\n",
       "    <tr style=\"text-align: right;\">\n",
       "      <th></th>\n",
       "      <th>pixel1</th>\n",
       "      <th>pixel2</th>\n",
       "      <th>pixel3</th>\n",
       "      <th>pixel4</th>\n",
       "      <th>pixel5</th>\n",
       "      <th>pixel6</th>\n",
       "      <th>pixel7</th>\n",
       "      <th>pixel8</th>\n",
       "      <th>pixel9</th>\n",
       "      <th>pixel10</th>\n",
       "      <th>...</th>\n",
       "      <th>pixel775</th>\n",
       "      <th>pixel776</th>\n",
       "      <th>pixel777</th>\n",
       "      <th>pixel778</th>\n",
       "      <th>pixel779</th>\n",
       "      <th>pixel780</th>\n",
       "      <th>pixel781</th>\n",
       "      <th>pixel782</th>\n",
       "      <th>pixel783</th>\n",
       "      <th>pixel784</th>\n",
       "    </tr>\n",
       "  </thead>\n",
       "  <tbody>\n",
       "    <tr>\n",
       "      <th>0</th>\n",
       "      <td>107</td>\n",
       "      <td>118</td>\n",
       "      <td>127</td>\n",
       "      <td>134</td>\n",
       "      <td>139</td>\n",
       "      <td>143</td>\n",
       "      <td>146</td>\n",
       "      <td>150</td>\n",
       "      <td>153</td>\n",
       "      <td>156</td>\n",
       "      <td>...</td>\n",
       "      <td>207</td>\n",
       "      <td>207</td>\n",
       "      <td>207</td>\n",
       "      <td>207</td>\n",
       "      <td>206</td>\n",
       "      <td>206</td>\n",
       "      <td>206</td>\n",
       "      <td>204</td>\n",
       "      <td>203</td>\n",
       "      <td>202</td>\n",
       "    </tr>\n",
       "    <tr>\n",
       "      <th>1</th>\n",
       "      <td>155</td>\n",
       "      <td>157</td>\n",
       "      <td>156</td>\n",
       "      <td>156</td>\n",
       "      <td>156</td>\n",
       "      <td>157</td>\n",
       "      <td>156</td>\n",
       "      <td>158</td>\n",
       "      <td>158</td>\n",
       "      <td>157</td>\n",
       "      <td>...</td>\n",
       "      <td>69</td>\n",
       "      <td>149</td>\n",
       "      <td>128</td>\n",
       "      <td>87</td>\n",
       "      <td>94</td>\n",
       "      <td>163</td>\n",
       "      <td>175</td>\n",
       "      <td>103</td>\n",
       "      <td>135</td>\n",
       "      <td>149</td>\n",
       "    </tr>\n",
       "    <tr>\n",
       "      <th>2</th>\n",
       "      <td>187</td>\n",
       "      <td>188</td>\n",
       "      <td>188</td>\n",
       "      <td>187</td>\n",
       "      <td>187</td>\n",
       "      <td>186</td>\n",
       "      <td>187</td>\n",
       "      <td>188</td>\n",
       "      <td>187</td>\n",
       "      <td>186</td>\n",
       "      <td>...</td>\n",
       "      <td>202</td>\n",
       "      <td>201</td>\n",
       "      <td>200</td>\n",
       "      <td>199</td>\n",
       "      <td>198</td>\n",
       "      <td>199</td>\n",
       "      <td>198</td>\n",
       "      <td>195</td>\n",
       "      <td>194</td>\n",
       "      <td>195</td>\n",
       "    </tr>\n",
       "    <tr>\n",
       "      <th>3</th>\n",
       "      <td>211</td>\n",
       "      <td>211</td>\n",
       "      <td>212</td>\n",
       "      <td>212</td>\n",
       "      <td>211</td>\n",
       "      <td>210</td>\n",
       "      <td>211</td>\n",
       "      <td>210</td>\n",
       "      <td>210</td>\n",
       "      <td>211</td>\n",
       "      <td>...</td>\n",
       "      <td>235</td>\n",
       "      <td>234</td>\n",
       "      <td>233</td>\n",
       "      <td>231</td>\n",
       "      <td>230</td>\n",
       "      <td>226</td>\n",
       "      <td>225</td>\n",
       "      <td>222</td>\n",
       "      <td>229</td>\n",
       "      <td>163</td>\n",
       "    </tr>\n",
       "    <tr>\n",
       "      <th>4</th>\n",
       "      <td>164</td>\n",
       "      <td>167</td>\n",
       "      <td>170</td>\n",
       "      <td>172</td>\n",
       "      <td>176</td>\n",
       "      <td>179</td>\n",
       "      <td>180</td>\n",
       "      <td>184</td>\n",
       "      <td>185</td>\n",
       "      <td>186</td>\n",
       "      <td>...</td>\n",
       "      <td>92</td>\n",
       "      <td>105</td>\n",
       "      <td>105</td>\n",
       "      <td>108</td>\n",
       "      <td>133</td>\n",
       "      <td>163</td>\n",
       "      <td>157</td>\n",
       "      <td>163</td>\n",
       "      <td>164</td>\n",
       "      <td>179</td>\n",
       "    </tr>\n",
       "  </tbody>\n",
       "</table>\n",
       "<p>5 rows × 784 columns</p>\n",
       "</div>"
      ],
      "text/plain": [
       "   pixel1  pixel2  pixel3  pixel4  pixel5  pixel6  pixel7  pixel8  pixel9  \\\n",
       "0     107     118     127     134     139     143     146     150     153   \n",
       "1     155     157     156     156     156     157     156     158     158   \n",
       "2     187     188     188     187     187     186     187     188     187   \n",
       "3     211     211     212     212     211     210     211     210     210   \n",
       "4     164     167     170     172     176     179     180     184     185   \n",
       "\n",
       "   pixel10  ...  pixel775  pixel776  pixel777  pixel778  pixel779  pixel780  \\\n",
       "0      156  ...       207       207       207       207       206       206   \n",
       "1      157  ...        69       149       128        87        94       163   \n",
       "2      186  ...       202       201       200       199       198       199   \n",
       "3      211  ...       235       234       233       231       230       226   \n",
       "4      186  ...        92       105       105       108       133       163   \n",
       "\n",
       "   pixel781  pixel782  pixel783  pixel784  \n",
       "0       206       204       203       202  \n",
       "1       175       103       135       149  \n",
       "2       198       195       194       195  \n",
       "3       225       222       229       163  \n",
       "4       157       163       164       179  \n",
       "\n",
       "[5 rows x 784 columns]"
      ]
     },
     "execution_count": 5,
     "metadata": {},
     "output_type": "execute_result"
    }
   ],
   "source": [
    "# Here we are splitting the label from the pixels\n",
    "# https://stackoverflow.com/questions/41624241/pandas-split-dataframe-into-two-dataframes\n",
    "df_train_targets = df_train.iloc[:, 0]\n",
    "df_train_images = df_train.iloc[:, 1:]\n",
    "df_test_targets = df_test.iloc[:, 0]\n",
    "df_test_images = df_test.iloc[:, 1:]\n",
    "\n",
    "df_train_images.head()"
   ]
  },
  {
   "cell_type": "code",
   "execution_count": 6,
   "metadata": {
    "scrolled": true
   },
   "outputs": [],
   "source": [
    "# Change the DataFrames into matrices/arrays\n",
    "X_train = df_train_images.values\n",
    "y_train = df_train_targets.values\n",
    "X_test = df_test_images.values\n",
    "y_test = df_test_targets.values"
   ]
  },
  {
   "cell_type": "markdown",
   "metadata": {},
   "source": [
    "## Normalizing and Adjusting the Data\n",
    "\n",
    "In the following sections we will normalize our data from [-1, 1] and shift the values of our label to skip J."
   ]
  },
  {
   "cell_type": "code",
   "execution_count": 7,
   "metadata": {},
   "outputs": [
    {
     "name": "stdout",
     "output_type": "stream",
     "text": [
      "[ 0  1  2  3  4  5  6  7  8  9 10 11 12 13 14 15 16 17 18 19 20 21 22 23]\n"
     ]
    }
   ],
   "source": [
    "# J and Z do not appear in dataset as they include movement\n",
    "# shifts labels because of the missing J in the alphabet (value 9)\n",
    "# Now instead of 0-24 we have 0-23 after removing the value for J\n",
    "# Note: Z would be in spot 25, but since it never shows, y_train is default 0-24\n",
    "for i in range(np.shape(y_train)[0]):\n",
    "    if (y_train[i] > 9):\n",
    "        y_train[i] -= 1\n",
    "        \n",
    "for i in range(np.shape(y_test)[0]):\n",
    "    if (y_test[i] > 9):\n",
    "        y_test[i] -= 1\n",
    "\n",
    "print(np.unique(y_test))"
   ]
  },
  {
   "cell_type": "code",
   "execution_count": 8,
   "metadata": {},
   "outputs": [],
   "source": [
    "# Normalize data (From demo_mnist_svm)\n",
    "X_train = X_train/255.0*2 - 1 # convert to range [-1,1]\n",
    "X_test = X_test/255.0*2 - 1 # convert to range [-1,1]"
   ]
  },
  {
   "cell_type": "markdown",
   "metadata": {},
   "source": [
    "## Showing the Dataset\n",
    "\n",
    "In the following sections we will create an array of characters (A-Y w/o J) corresponding to each label (0-23).\n",
    "Then we will show what each character looks like in sign language. "
   ]
  },
  {
   "cell_type": "code",
   "execution_count": 9,
   "metadata": {},
   "outputs": [
    {
     "name": "stdout",
     "output_type": "stream",
     "text": [
      "['D' 'G' 'C' ... 'S' 'R' 'X']\n",
      "['G' 'F' 'K' ... 'C' 'E' 'C']\n"
     ]
    }
   ],
   "source": [
    "# https://codereview.stackexchange.com/questions/183658/replacing-letters-with-numbers-with-its-position-in-alphabet\n",
    "# https://docs.python.org/2/library/string.html\n",
    "\n",
    "alphabet = \"ABCDEFGHIKLMNOPQRSTUVWXY\"\n",
    "\n",
    "# function to convert 0-23 number to A-Z character (minus J and Z)\n",
    "def to_char(num, char = None):\n",
    "    char = alphabet[num]\n",
    "    return char\n",
    "\n",
    "y_tr_char = np.empty((y_train.shape[0], ), dtype = np.str)\n",
    "for i in range(y_train.shape[0]):\n",
    "    y_tr_char[i] = to_char(y_train[i])\n",
    "print(y_tr_char)\n",
    "\n",
    "y_ts_char = np.empty((y_test.shape[0], ), dtype = np.str)\n",
    "for i in range(y_test.shape[0]):\n",
    "    y_ts_char[i] = to_char(y_test[i])\n",
    "print(y_ts_char)"
   ]
  },
  {
   "cell_type": "code",
   "execution_count": 11,
   "metadata": {
    "scrolled": true
   },
   "outputs": [
    {
     "data": {
      "image/png": "[encoded data removed]",
      "text/plain": [
       "<Figure size 1152x432 with 24 Axes>"
      ]
     },
     "metadata": {},
     "output_type": "display_data"
    }
   ],
   "source": [
    "# From demo \"demo_mnist_svm\" with modifications\n",
    "# https://stackoverflow.com/questions/27671748/how-to-print-y-axis-label-horizontally-in-a-matplotlib-pylab-chart\n",
    "def plt_image(x):\n",
    "    nrow = 28\n",
    "    ncol = 28\n",
    "    xsq = x.reshape((nrow,ncol))\n",
    "    plt.imshow(xsq,  cmap='Greys_r')\n",
    "    plt.xticks([])\n",
    "    plt.yticks([])\n",
    "    \n",
    "Iperm = np.random.permutation(X_train.shape[0])\n",
    "\n",
    "plt.figure(figsize=(16, 6))\n",
    "for i in range(24):\n",
    "    plt.subplot(4,6,i+1)\n",
    "    j = 0\n",
    "    while (y_train[j] != (i)): # find a label equal to i\n",
    "        j += 1\n",
    "    plt_image(X_train[j])\n",
    "    # https://matplotlib.org/api/text_api.html#matplotlib.text.Text\n",
    "    plt.ylabel(y_tr_char[j], rotation = 0, fontsize=20, labelpad=20, verticalalignment = 'center')\n",
    "    \n",
    "# plt.figure(figsize=(15, 4))\n",
    "# for i in range(nplt):        \n",
    "#     plt.subplot(1,nplt,i+1)        \n",
    "#     ind = Iperm[i]    \n",
    "#     plt_digit(X_test[ind,:]) \n",
    "#     title = \"true=\" + to_char(y_test[ind]) + \" est=\" + to_char(yhat_logreg[ind])\n",
    "#     plt.title(title)"
   ]
  },
  {
   "cell_type": "markdown",
   "metadata": {},
   "source": [
    "## Logistic Regression\n",
    "\n",
    "In the following section we see how well we can fit the data using Logistic Regression. This section is taken direcly from \"demo_mnist_svm\"."
   ]
  },
  {
   "cell_type": "code",
   "execution_count": 12,
   "metadata": {
    "scrolled": true
   },
   "outputs": [
    {
     "name": "stderr",
     "output_type": "stream",
     "text": [
      "[Parallel(n_jobs=1)]: Using backend SequentialBackend with 1 concurrent workers.\n",
      "/anaconda3/lib/python3.7/site-packages/sklearn/linear_model/logistic.py:758: ConvergenceWarning: lbfgs failed to converge. Increase the number of iterations.\n",
      "  \"of iterations.\", ConvergenceWarning)\n",
      "[Parallel(n_jobs=1)]: Done   1 out of   1 | elapsed:   45.1s finished\n"
     ]
    },
    {
     "data": {
      "text/plain": [
       "LogisticRegression(C=1.0, class_weight=None, dual=False, fit_intercept=True,\n",
       "          intercept_scaling=1, max_iter=500, multi_class='multinomial',\n",
       "          n_jobs=None, penalty='l2', random_state=None, solver='lbfgs',\n",
       "          tol=0.0001, verbose=1, warm_start=False)"
      ]
     },
     "execution_count": 12,
     "metadata": {},
     "output_type": "execute_result"
    }
   ],
   "source": [
    "logreg = linear_model.LogisticRegression(verbose=1, multi_class='multinomial', \n",
    "                                         solver='lbfgs', max_iter=500)\n",
    "logreg.fit(X_train,y_train)"
   ]
  },
  {
   "cell_type": "code",
   "execution_count": 13,
   "metadata": {
    "scrolled": true
   },
   "outputs": [
    {
     "name": "stdout",
     "output_type": "stream",
     "text": [
      "Accuracy = 0.686977\n"
     ]
    }
   ],
   "source": [
    "yhat_logreg = logreg.predict(X_test)\n",
    "acc_logreg = np.mean(yhat_logreg == y_test)\n",
    "print('Accuracy = {0:f}'.format(acc_logreg))"
   ]
  },
  {
   "cell_type": "code",
   "execution_count": 15,
   "metadata": {
    "scrolled": true
   },
   "outputs": [
    {
     "data": {
      "image/png": "[encoded data removed]",
      "text/plain": [
       "<Figure size 1296x360 with 8 Axes>"
      ]
     },
     "metadata": {},
     "output_type": "display_data"
    }
   ],
   "source": [
    "# Here we show what the data got wrong \n",
    "\n",
    "nplt = 8\n",
    "Ierr = np.where(y_test != yhat_logreg)[0]\n",
    "\n",
    "Iperm = np.random.permutation(Ierr)\n",
    "\n",
    "plt.figure(figsize=(18, 5))\n",
    "for i in range(nplt):        \n",
    "    plt.subplot(1,nplt,i+1)        \n",
    "    ind = Iperm[i]    \n",
    "    plt_image(X_test[ind,:]) \n",
    "    title = \"true=\" + to_char(y_test[ind]) + \" est=\" + to_char(yhat_logreg[ind])\n",
    "    plt.title(title)"
   ]
  },
  {
   "cell_type": "code",
   "execution_count": 22,
   "metadata": {
    "scrolled": true
   },
   "outputs": [
    {
     "data": {
      "text/plain": [
       "<matplotlib.colorbar.Colorbar at 0x1a1ed73a20>"
      ]
     },
     "execution_count": 22,
     "metadata": {},
     "output_type": "execute_result"
    },
    {
     "data": {
      "image/png": "[encoded data removed]",
      "text/plain": [
       "<Figure size 864x864 with 2 Axes>"
      ]
     },
     "metadata": {
      "needs_background": "light"
     },
     "output_type": "display_data"
    }
   ],
   "source": [
    "# https://scikit-learn.org/stable/auto_examples/model_selection/plot_confusion_matrix.html\n",
    "from sklearn.metrics import confusion_matrix\n",
    "C = confusion_matrix(y_test,yhat_logreg)\n",
    "\n",
    "# Normalize the confusion matrix\n",
    "Csum = np.sum(C,1)\n",
    "C = C / Csum[None,:]\n",
    "\n",
    "# Print the confusion matrix\n",
    "plt.figure(figsize=(12, 12))\n",
    "plt.subplots_adjust(left=.2, right=0.95, bottom=0.4, top=0.95)\n",
    "plt.imshow(C, interpolation='none')\n",
    "plt.xlabel(\"Predicted\", fontsize= 'x-large')\n",
    "plt.ylabel(\"True\", fontsize= 'x-large')\n",
    "plt.title(\"Predicted vs. True of Logistic Regression\", fontsize= 'xx-large')\n",
    "plt.xticks(np.arange(24), alphabet)\n",
    "plt.yticks(np.arange(24), alphabet)\n",
    "plt.colorbar()"
   ]
  },
  {
   "cell_type": "markdown",
   "metadata": {},
   "source": [
    "## SVC\n",
    "\n",
    "In the following section we see how well we can fit the data using SVC. This section is taken direcly from \"demo_mnist_svm\"."
   ]
  },
  {
   "cell_type": "code",
   "execution_count": 17,
   "metadata": {},
   "outputs": [
    {
     "name": "stdout",
     "output_type": "stream",
     "text": [
      "[LibSVM]"
     ]
    },
    {
     "data": {
      "text/plain": [
       "SVC(C=1.0, cache_size=200, class_weight=None, coef0=0.0,\n",
       "  decision_function_shape='ovr', degree=3, gamma='auto_deprecated',\n",
       "  kernel='linear', max_iter=-1, probability=False, random_state=None,\n",
       "  shrinking=True, tol=0.001, verbose=1)"
      ]
     },
     "execution_count": 17,
     "metadata": {},
     "output_type": "execute_result"
    }
   ],
   "source": [
    "from sklearn import svm\n",
    "# Create a classifier: a support vector classifier with linear kernel\n",
    "svc = svm.SVC(probability=False, kernel=\"linear\", verbose=1)\n",
    "svc.fit(X_train,y_train)"
   ]
  },
  {
   "cell_type": "code",
   "execution_count": 25,
   "metadata": {
    "scrolled": true
   },
   "outputs": [
    {
     "name": "stdout",
     "output_type": "stream",
     "text": [
      "Accuracy = 0.781651\n"
     ]
    }
   ],
   "source": [
    "yhat_svc = svc.predict(X_test)\n",
    "acc_svc = np.mean(yhat_svc == y_test)\n",
    "print('Accuracy = {0:f}'.format(acc_svc))"
   ]
  },
  {
   "cell_type": "code",
   "execution_count": 26,
   "metadata": {
    "scrolled": true
   },
   "outputs": [
    {
     "data": {
      "text/plain": [
       "<matplotlib.colorbar.Colorbar at 0x1a1f280588>"
      ]
     },
     "execution_count": 26,
     "metadata": {},
     "output_type": "execute_result"
    },
    {
     "data": {
      "image/png": "[encoded data removed]",
      "text/plain": [
       "<Figure size 864x864 with 2 Axes>"
      ]
     },
     "metadata": {
      "needs_background": "light"
     },
     "output_type": "display_data"
    }
   ],
   "source": [
    "C = confusion_matrix(y_test,yhat_svc)\n",
    "\n",
    "# Normalize the confusion matrix\n",
    "Csum = np.sum(C,1)\n",
    "C = C / Csum[None,:]\n",
    "\n",
    "# Print the confusion matrix\n",
    "plt.figure(figsize=(12, 12))\n",
    "plt.subplots_adjust(left=.2, right=0.95, bottom=0.4, top=0.95)\n",
    "plt.imshow(C, interpolation='none')\n",
    "plt.xlabel(\"Predicted\", fontsize= 'x-large')\n",
    "plt.ylabel(\"True\", fontsize= 'x-large')\n",
    "plt.title(\"Predicted vs. True of SVC\", fontsize= 'xx-large')\n",
    "plt.xticks(np.arange(24), alphabet)\n",
    "plt.yticks(np.arange(24), alphabet)\n",
    "plt.colorbar()"
   ]
  },
  {
   "cell_type": "markdown",
   "metadata": {},
   "source": [
    "## Finding C and Gamma for SVM\n",
    "\n",
    "The following sections were used to find the optimal C and Gamma for SVM 'rbf'. This method was found on sklearn. We used StratifiedShuffleSplit which acted similar to K-Fold. We also used a smaller set of the data as this took a long time. \n",
    "\n",
    "We do not suggest running this code, you can skip to the SVM section."
   ]
  },
  {
   "cell_type": "code",
   "execution_count": 29,
   "metadata": {},
   "outputs": [],
   "source": [
    "X_train_subset = X_train[0:5000]\n",
    "y_train_subset = y_train[0:5000]"
   ]
  },
  {
   "cell_type": "code",
   "execution_count": null,
   "metadata": {},
   "outputs": [],
   "source": [
    "# https://scikit-learn.org/stable/auto_examples/svm/plot_rbf_parameters.html\n",
    "\n",
    "from sklearn.model_selection import StratifiedShuffleSplit\n",
    "from sklearn.model_selection import GridSearchCV\n",
    "\n",
    "C_range = np.logspace(-2,2,5)\n",
    "gamma_range = np.logspace(-2,2,5)\n",
    "param_grid = dict(gamma=gamma_range, C=C_range)\n",
    "cv = StratifiedShuffleSplit(n_splits=5, test_size=0.2, random_state=42)\n",
    "grid = GridSearchCV(svm.SVC(kernel=\"rbf\"), param_grid=param_grid, cv=cv)\n",
    "grid.fit(X_train_subset, y_train_subset)\n",
    "\n",
    "print(\"The best parameters are %s with a score of %0.2f\"\n",
    "      % (grid.best_params_, grid.best_score_))"
   ]
  },
  {
   "cell_type": "code",
   "execution_count": null,
   "metadata": {
    "scrolled": false
   },
   "outputs": [],
   "source": [
    "from matplotlib.colors import Normalize\n",
    "class MidpointNormalize(Normalize):\n",
    "\n",
    "    def __init__(self, vmin=None, vmax=None, midpoint=None, clip=False):\n",
    "        self.midpoint = midpoint\n",
    "        Normalize.__init__(self, vmin, vmax, clip)\n",
    "\n",
    "    def __call__(self, value, clip=None):\n",
    "        x, y = [self.vmin, self.midpoint, self.vmax], [0, 0.5, 1]\n",
    "        return np.ma.masked_array(np.interp(value, x, y))\n",
    "\n",
    "scores = grid.cv_results_['mean_test_score'].reshape(len(C_range), len(gamma_range))\n",
    "\n",
    "plt.figure(figsize=(8, 6))\n",
    "plt.subplots_adjust(left=.2, right=0.95, bottom=0.15, top=0.95)\n",
    "# https://matplotlib.org/tutorials/colors/colormaps.html\n",
    "plt.imshow(scores, interpolation='nearest', cmap=plt.cm.hot, norm=MidpointNormalize(vmin=0.8, midpoint=0.99))\n",
    "plt.xlabel('gamma')\n",
    "plt.ylabel('C')\n",
    "plt.colorbar()\n",
    "plt.xticks(np.arange(len(gamma_range)), gamma_range, rotation=45)\n",
    "plt.yticks(np.arange(len(C_range)), C_range)\n",
    "plt.title('Validation accuracy')\n",
    "plt.show()"
   ]
  },
  {
   "cell_type": "code",
   "execution_count": null,
   "metadata": {
    "scrolled": false
   },
   "outputs": [],
   "source": [
    "print(scores)"
   ]
  },
  {
   "cell_type": "markdown",
   "metadata": {},
   "source": [
    "## SVM\n",
    "\n",
    "In the following section we see how well we can fit the data using SVM. This section is taken direcly from \"demo_mnist_svm\"."
   ]
  },
  {
   "cell_type": "code",
   "execution_count": 27,
   "metadata": {},
   "outputs": [
    {
     "name": "stdout",
     "output_type": "stream",
     "text": [
      "[LibSVM]"
     ]
    },
    {
     "data": {
      "text/plain": [
       "SVC(C=100, cache_size=200, class_weight=None, coef0=0.0,\n",
       "  decision_function_shape='ovr', degree=3, gamma=1e-07, kernel='rbf',\n",
       "  max_iter=-1, probability=False, random_state=None, shrinking=True,\n",
       "  tol=0.001, verbose=1)"
      ]
     },
     "execution_count": 27,
     "metadata": {},
     "output_type": "execute_result"
    }
   ],
   "source": [
    "# Create a classifier: a support vector classifier with RBF kernel\n",
    "svmrbf = svm.SVC(probability=False, kernel=\"rbf\", C=100, gamma=1e-7, verbose=1)\n",
    "svmrbf.fit(X_train,y_train)"
   ]
  },
  {
   "cell_type": "code",
   "execution_count": 28,
   "metadata": {
    "scrolled": true
   },
   "outputs": [
    {
     "name": "stdout",
     "output_type": "stream",
     "text": [
      "Accuracy = 0.103876\n"
     ]
    }
   ],
   "source": [
    "yhat_svm = svmrbf.predict(X_test)\n",
    "acc_svm = np.mean(yhat_svm == y_test)\n",
    "print('Accuracy = {0:f}'.format(acc_svm))\n",
    "# Accuracy before normalization = 0.815254\n",
    "# Accuracy after normalization  = 0.781651"
   ]
  },
  {
   "cell_type": "code",
   "execution_count": null,
   "metadata": {},
   "outputs": [],
   "source": [
    "C = confusion_matrix(y_test,yhat_svm)\n",
    "\n",
    "# Normalize the confusion matrix\n",
    "Csum = np.sum(C,1)\n",
    "C = C / Csum[None,:]\n",
    "\n",
    "# Print the confusion matrix\n",
    "plt.figure(figsize=(12, 12))\n",
    "plt.subplots_adjust(left=.2, right=0.95, bottom=0.4, top=0.95)\n",
    "plt.imshow(C, interpolation='none')\n",
    "plt.xlabel(\"Predicted\", fontsize= 'x-large')\n",
    "plt.ylabel(\"True\", fontsize= 'x-large')\n",
    "plt.title(\"Predicted vs. True of SVM RBF\", fontsize= 'xx-large')\n",
    "plt.xticks(np.arange(24), alphabet)\n",
    "plt.yticks(np.arange(24), alphabet)\n",
    "plt.colorbar()"
   ]
  },
  {
   "cell_type": "code",
   "execution_count": null,
   "metadata": {},
   "outputs": [],
   "source": [
    "# Basic Neural Network from MNIST Neural Network Demo\n",
    "\n",
    "import torch\n",
    "import torch.utils.data\n",
    "import torch.nn as nn\n",
    "\n",
    "batch_size = 240\n",
    "\n",
    "# Convert the numpy arrays to PyTorch tensors\n",
    "Xtr_torch = torch.Tensor(X_train)\n",
    "ytr_torch = torch.Tensor(y_train)\n",
    "Xts_torch = torch.Tensor(X_test)\n",
    "yts_torch = torch.Tensor(y_test)\n",
    "\n",
    "# Create a training Dataset\n",
    "train_ds = torch.utils.data.TensorDataset(Xtr_torch, ytr_torch)\n",
    "# Creates a training DataLoader from this Dataset\n",
    "train_loader = torch.utils.data.DataLoader(train_ds, batch_size=batch_size, shuffle=True) \n",
    "\n",
    "# Create a testing Dataset\n",
    "test_ds = torch.utils.data.TensorDataset(Xts_torch, yts_torch)\n",
    "# Creates a testing DataLoader from this Dataset\n",
    "test_loader = torch.utils.data.DataLoader(test_ds, batch_size=batch_size)"
   ]
  },
  {
   "cell_type": "code",
   "execution_count": null,
   "metadata": {},
   "outputs": [],
   "source": [
    "nin = X_train.shape[1] # dimension of input data\n",
    "nh = 240 # number of hidden units\n",
    "nout = int(np.max(y_train)+1) # number of outputs = 10 since there are 10 classes\n",
    "\n",
    "class Net(nn.Module):\n",
    "    def __init__(self,nin,nh,nout):\n",
    "        super(Net,self).__init__()\n",
    "        self.sigmoid = nn.Sigmoid()\n",
    "        self.Dense1 = nn.Linear(nin,nh)\n",
    "        self.Dense2 = nn.Linear(nh,nout)\n",
    "        \n",
    "    def forward(self,x):\n",
    "        x = self.sigmoid(self.Dense1(x))\n",
    "        out = self.Dense2(x)\n",
    "        return out\n",
    "\n",
    "model = Net(nin=nin, nh=nh, nout=nout)"
   ]
  },
  {
   "cell_type": "code",
   "execution_count": null,
   "metadata": {},
   "outputs": [],
   "source": [
    "import torch.optim as optim\n",
    "\n",
    "# if lr = .001 too high\n",
    "# if lr = .0001 then accuracy 62.69 after 50 epochs\n",
    "# if lr = .000075 then accuracy 67.5 after 50 epochs\n",
    "# if lr = .00005 then accuracy 70.69 after 50 epochs\n",
    "# if lr = .0000375 then accuracy 67.44 after 50 epochs\n",
    "# if lr = .000025 then accuracy 69.3 after 50 epochs\n",
    "# if lr = .00001 then accuracy 59.98 after 50 epochs\n",
    "opt = optim.Adam(model.parameters(), lr= 0.00005)\n",
    "\n",
    "criterion = nn.CrossEntropyLoss()"
   ]
  },
  {
   "cell_type": "code",
   "execution_count": null,
   "metadata": {},
   "outputs": [],
   "source": [
    "num_epoch = 100\n",
    "\n",
    "a_tr_loss = np.zeros([num_epoch])\n",
    "a_tr_accuracy = np.zeros([num_epoch])\n",
    "a_ts_loss = np.zeros([num_epoch])\n",
    "a_ts_accuracy = np.zeros([num_epoch])\n",
    "\n",
    "for epoch in range(num_epoch):\n",
    "\n",
    "    model.train() # put model in training mode\n",
    "    correct = 0 # initialize error counter\n",
    "    total = 0 # initialize total counter\n",
    "    batch_loss = []\n",
    "    # iterate over training set\n",
    "    for train_iter, data in enumerate(train_loader):\n",
    "        x_batch,y_batch = data\n",
    "        y_batch = y_batch.type(torch.long)\n",
    "        out = model(x_batch)\n",
    "        # Compute Loss\n",
    "        loss = criterion(out,y_batch)\n",
    "        batch_loss.append(loss.item())\n",
    "        # Compute gradients using back propagation\n",
    "        opt.zero_grad()\n",
    "        loss.backward()\n",
    "        # Take an optimization 'step'\n",
    "        opt.step()\n",
    "        # Do hard classification: index of largest score\n",
    "        _, predicted = torch.max(out.data, 1)\n",
    "        # Compute number of decision errors\n",
    "        total += y_batch.size(0)\n",
    "        correct += (predicted == y_batch).sum().item()\n",
    "        \n",
    "    tr_accuracy = 100*correct/total # Compute accuracy over epoch\n",
    "    a_tr_loss[epoch] = np.mean(batch_loss) # Compute average loss over epoch\n",
    "    a_tr_accuracy[epoch] = 100*correct/total\n",
    "\n",
    "    model.eval() # put model in evaluation mode\n",
    "    correct = 0 # initialize error counter\n",
    "    total = 0 # initialize total counter\n",
    "    batch_loss = []\n",
    "    with torch.no_grad():\n",
    "        for data in test_loader:\n",
    "            images, labels = data\n",
    "            labels = labels.type(torch.long)\n",
    "            outputs = model(images)\n",
    "            batch_loss.append(criterion(outputs,labels).item())\n",
    "            _, predicted = torch.max(outputs.data, 1)\n",
    "            total += labels.size(0)\n",
    "            correct += (predicted == labels).sum().item()\n",
    "            \n",
    "    a_ts_loss[epoch] = np.mean(batch_loss)\n",
    "    a_ts_accuracy[epoch] = 100*correct/total\n",
    "    # Print details every print_mod epoch\n",
    "    print('Epoch: {0:2d}   Train Loss: {1:.3f}   '.format(epoch+1, a_tr_loss[epoch])\n",
    "          +'Train Accuracy: {0:.2f}    Test Loss: {1:.3f}   '.format(a_tr_accuracy[epoch], a_ts_loss[epoch])\n",
    "          +'Test Accuracy: {0:.2f}'.format(a_ts_accuracy[epoch]))\n",
    "        "
   ]
  },
  {
   "cell_type": "code",
   "execution_count": null,
   "metadata": {
    "scrolled": true
   },
   "outputs": [],
   "source": [
    "plt.plot(a_tr_accuracy)\n",
    "plt.plot(a_ts_accuracy)\n",
    "plt.grid()\n",
    "plt.xlabel('epochs')\n",
    "plt.ylabel('accuracy')\n",
    "plt.legend(['training accuracy', 'test accuracy'])"
   ]
  },
  {
   "cell_type": "code",
   "execution_count": null,
   "metadata": {},
   "outputs": [],
   "source": []
  },
  {
   "cell_type": "code",
   "execution_count": null,
   "metadata": {},
   "outputs": [],
   "source": [
    "X_train = df_train_images.values\n",
    "y_train = df_train_targets.values\n",
    "X_test = df_test_images.values\n",
    "y_test = df_test_targets.values\n",
    "\n",
    "# shifts labels because of the missing J in the alphabet (value 9)\n",
    "for i in range(np.shape(y_train)[0]):\n",
    "    if (y_train[i] > 9):\n",
    "        y_train[i] -= 1\n",
    "        \n",
    "for i in range(np.shape(y_test)[0]):\n",
    "    if (y_test[i] > 9):\n",
    "        y_test[i] -= 1\n",
    "\n",
    "# Normalize data from [-1, 1]\n",
    "X_train = (X_train/255)*2 - 1\n",
    "X_test = (X_test/255)*2 - 1\n",
    "\n",
    "nrow = 28\n",
    "ncol = 28\n",
    "\n",
    "Xtr_box = np.zeros((X_train.shape[0],nrow,ncol))\n",
    "for i in range(np.shape(X_train)[0]):\n",
    "    Xtr_box[i] = X_train[i].reshape((nrow,ncol))\n",
    "\n",
    "Xts_box =  np.zeros((X_test.shape[0],nrow,ncol))\n",
    "for i in range(np.shape(X_test)[0]):\n",
    "    Xts_box[i] = X_test[i].reshape((nrow,ncol))"
   ]
  },
  {
   "cell_type": "code",
   "execution_count": null,
   "metadata": {
    "scrolled": true
   },
   "outputs": [],
   "source": [
    "print(Xts_box.shape)\n",
    "plt.imshow(Xts_box[2],  cmap='Greys_r')\n",
    "plt.xticks([])\n",
    "plt.yticks([])\n",
    "print(y_test[2])"
   ]
  },
  {
   "cell_type": "code",
   "execution_count": null,
   "metadata": {},
   "outputs": [],
   "source": [
    "nchan_in = 1       # number of input channels = 1 since it is a greyscale image\n",
    "reshape_tr = (Xtr_box.shape[0],nchan_in,nrow,ncol)\n",
    "reshape_ts = (Xts_box.shape[0],nchan_in,nrow,ncol)\n",
    "\n",
    "Xtr = Xtr_box.reshape(reshape_tr)\n",
    "Xts = Xts_box.reshape(reshape_ts)"
   ]
  },
  {
   "cell_type": "code",
   "execution_count": null,
   "metadata": {
    "scrolled": true
   },
   "outputs": [],
   "source": [
    "print(Xts.shape)"
   ]
  },
  {
   "cell_type": "code",
   "execution_count": null,
   "metadata": {
    "scrolled": true
   },
   "outputs": [],
   "source": [
    "# https://adventuresinmachinelearning.com/convolutional-neural-networks-tutorial-in-pytorch/\n",
    "\n",
    "import torch\n",
    "import torch.utils.data\n",
    "import torch.nn as nn\n",
    "import torch.optim as optim\n",
    "\n",
    "batch_size = 64\n",
    "\n",
    "# Convert the numpy arrays to PyTorch tensors\n",
    "Xtr_torch = torch.Tensor(Xtr)\n",
    "ytr_torch = torch.Tensor(y_train)\n",
    "Xts_torch = torch.Tensor(Xts)\n",
    "yts_torch = torch.Tensor(y_test)\n",
    "\n",
    "# Create a training Dataset\n",
    "train_ds = torch.utils.data.TensorDataset(Xtr_torch, ytr_torch)\n",
    "# Creates a training DataLoader from this Dataset\n",
    "train_loader = torch.utils.data.DataLoader(train_ds, batch_size=batch_size, shuffle=True) \n",
    "\n",
    "# Create a testing Dataset\n",
    "test_ds = torch.utils.data.TensorDataset(Xts_torch, yts_torch)\n",
    "# Creates a testing DataLoader from this Dataset\n",
    "test_loader = torch.utils.data.DataLoader(test_ds, batch_size=batch_size)"
   ]
  },
  {
   "cell_type": "code",
   "execution_count": null,
   "metadata": {},
   "outputs": [],
   "source": [
    "class BasicCNN(nn.Module):\n",
    "    def __init__(self):\n",
    "        super(BasicCNN, self).__init__()\n",
    "        self.relu = nn.ReLU()\n",
    "        self.pool = nn.MaxPool2d(2,2)\n",
    "        \n",
    "        self.conv1 = nn.Conv2d(1,16,3,padding=1)\n",
    "        # outputs 16 channels of 14x14\n",
    "        \n",
    "        self.conv2 = nn.Conv2d(16,16,3,padding=1)\n",
    "        # outputs 16 channels of 7x7\n",
    "        \n",
    "        self.fc1 = nn.Linear(16*7*7, 392) #392 is 784/2\n",
    "        self.fc2 = nn.Linear(392, num_classes)\n",
    "        \n",
    "    def forward(self,x):\n",
    "        x = self.pool(self.relu(self.conv1(x)))\n",
    "        x = self.pool(self.relu(self.conv2(x)))\n",
    "        x = x.view(x.size(0),-1)\n",
    "        x = self.relu(self.fc1(x))\n",
    "        x = self.fc2(x)\n",
    "        return x\n",
    "\n",
    "model = BasicCNN()"
   ]
  },
  {
   "cell_type": "code",
   "execution_count": null,
   "metadata": {},
   "outputs": [],
   "source": [
    "epochs = 20\n",
    "lrate = .05\n",
    "# with lr .05 = 93.6\n",
    "decay = lrate/epochs"
   ]
  },
  {
   "cell_type": "code",
   "execution_count": null,
   "metadata": {},
   "outputs": [],
   "source": [
    "# initiate Adam optimizer\n",
    "opt = optim.Adam(model.parameters(), lr=lrate)\n",
    "\n",
    "# Create learning rate scheduler\n",
    "lambda1 = lambda epoch: lrate - decay*epoch\n",
    "scheduler = optim.lr_scheduler.LambdaLR(opt, lr_lambda=lambda1)\n",
    "\n",
    "# initiate loss function\n",
    "criterion = nn.CrossEntropyLoss()\n",
    "\n",
    "print(str(model))"
   ]
  },
  {
   "cell_type": "code",
   "execution_count": null,
   "metadata": {},
   "outputs": [],
   "source": [
    "basic_tr_accuracy = []\n",
    "basic_ts_accuracy = []\n",
    "\n",
    "for epoch in range(epochs):\n",
    "    # Take scheduler step\n",
    "    scheduler.step()\n",
    "    \n",
    "    correct = 0 # initialize error counter\n",
    "    total = 0 # initialize total counter\n",
    "    model.train() # put model in training mode\n",
    "    # iterate over training set\n",
    "    for train_iter, data in enumerate(train_loader):\n",
    "        x_batch,y_batch = data\n",
    "        y_batch = y_batch.type(torch.long)\n",
    "        out = model(x_batch)\n",
    "        # Compute Loss\n",
    "        loss = criterion(out,y_batch)\n",
    "        # Zero gradients\n",
    "        opt.zero_grad()\n",
    "        # Compute gradients using back propagation\n",
    "        loss.backward()\n",
    "        # Take an optimization 'step'\n",
    "        opt.step()\n",
    "        \n",
    "        # Compute Accuracy\n",
    "        _, predicted = torch.max(out.data, 1)\n",
    "        total += y_batch.size(0)\n",
    "        correct += (predicted == y_batch).sum().item()\n",
    "        \n",
    "\n",
    "    basic_tr_accuracy.append( 100*correct/total )\n",
    "    \n",
    "    correct = 0\n",
    "    total = 0\n",
    "    model.eval() # put model in evaluation mode\n",
    "    with torch.no_grad():\n",
    "        for data in test_loader:\n",
    "            images, labels = data\n",
    "            labels = labels.type(torch.long)\n",
    "            outputs = model(images)\n",
    "            _, predicted = torch.max(outputs.data, 1)\n",
    "            total += labels.size(0)\n",
    "            correct += (predicted == labels).sum().item()\n",
    "    \n",
    "    basic_ts_accuracy.append( 100*correct/total )\n",
    "    \n",
    "    # Print details every print_mod epoch\n",
    "    print('Epoch: {0:2d}   Train Accuracy: {1:.3f}%   Test Accuracy: {2:.3f}%'.format(epoch+1, basic_tr_accuracy[epoch], basic_ts_accuracy[epoch]))\n",
    "        \n",
    "\n",
    "print('Done!')"
   ]
  },
  {
   "cell_type": "code",
   "execution_count": null,
   "metadata": {
    "scrolled": true
   },
   "outputs": [],
   "source": [
    "class BNNet(nn.Module):\n",
    "    def __init__(self):\n",
    "        super(BNNet, self).__init__()\n",
    "        self.relu = nn.ReLU()\n",
    "        self.pool = nn.MaxPool2d(2,2)\n",
    "        self.conv1 = nn.Conv2d(1,16,3,padding=1)\n",
    "        self.bn1 = nn.BatchNorm2d(16)\n",
    "        self.conv2 = nn.Conv2d(16,16,3,padding=1)\n",
    "        self.bn2 = nn.BatchNorm1d(16*7**2)\n",
    "        self.fc1 = nn.Linear(16*7**2, 392)\n",
    "        self.bn3 = nn.BatchNorm1d(392)\n",
    "        self.fc2 = nn.Linear(392, num_classes)\n",
    "        \n",
    "    def forward(self,x):\n",
    "        x = self.bn1(self.pool(self.relu(self.conv1(x))))\n",
    "        x = self.pool(self.relu(self.conv2(x)))\n",
    "        x = self.bn2(x.view(x.size(0),-1))\n",
    "        x = self.bn3(self.relu(self.fc1(x)))\n",
    "        x = self.fc2(x)\n",
    "        return x\n",
    "\n",
    "\n",
    "model = BNNet()\n",
    "\n",
    "\n",
    "# initiate Adam optimizer\n",
    "opt = optim.Adam(model.parameters(), lr=lrate)\n",
    "\n",
    "# Create learning rate scheduler\n",
    "lambda1 = lambda epoch: lrate - decay*epoch\n",
    "scheduler = optim.lr_scheduler.LambdaLR(opt, lr_lambda=lambda1)\n",
    "\n",
    "# initiate loss function\n",
    "criterion = nn.CrossEntropyLoss()\n",
    "\n",
    "print(str(model))"
   ]
  },
  {
   "cell_type": "code",
   "execution_count": null,
   "metadata": {},
   "outputs": [],
   "source": [
    "basic_tr_accuracy = []\n",
    "basic_ts_accuracy = []\n",
    "\n",
    "for epoch in range(epochs):\n",
    "    # Take scheduler step\n",
    "    scheduler.step()\n",
    "    \n",
    "    correct = 0 # initialize error counter\n",
    "    total = 0 # initialize total counter\n",
    "    model.train() # put model in training mode\n",
    "    # iterate over training set\n",
    "    for train_iter, data in enumerate(train_loader):\n",
    "        x_batch,y_batch = data\n",
    "        y_batch = y_batch.type(torch.long)\n",
    "        out = model(x_batch)\n",
    "        # Compute Loss\n",
    "        loss = criterion(out,y_batch)\n",
    "        # Zero gradients\n",
    "        opt.zero_grad()\n",
    "        # Compute gradients using back propagation\n",
    "        loss.backward()\n",
    "        # Take an optimization 'step'\n",
    "        opt.step()\n",
    "        \n",
    "        # Compute Accuracy\n",
    "        _, predicted = torch.max(out.data, 1)\n",
    "        total += y_batch.size(0)\n",
    "        correct += (predicted == y_batch).sum().item()\n",
    "        \n",
    "\n",
    "    basic_tr_accuracy.append( 100*correct/total )\n",
    "    \n",
    "    correct = 0\n",
    "    total = 0\n",
    "    model.eval() # put model in evaluation mode\n",
    "    with torch.no_grad():\n",
    "        for data in test_loader:\n",
    "            images, labels = data\n",
    "            labels = labels.type(torch.long)\n",
    "            outputs = model(images)\n",
    "            _, predicted = torch.max(outputs.data, 1)\n",
    "            total += labels.size(0)\n",
    "            correct += (predicted == labels).sum().item()\n",
    "    \n",
    "    basic_ts_accuracy.append( 100*correct/total )\n",
    "    \n",
    "    # Print details every print_mod epoch\n",
    "    print('Epoch: {0:2d}   Train Accuracy: {1:.3f}%   Test Accuracy: {2:.3f}%'.format(epoch+1, basic_tr_accuracy[epoch], basic_ts_accuracy[epoch]))\n",
    "        \n",
    "\n",
    "print('Done!')"
   ]
  },
  {
   "cell_type": "code",
   "execution_count": null,
   "metadata": {},
   "outputs": [],
   "source": [
    "# network with dropout and BN\n",
    "class DropoutNet(nn.Module):\n",
    "    def __init__(self):\n",
    "        super(DropoutNet, self).__init__()\n",
    "        self.relu = nn.ReLU()\n",
    "        self.conv1 = nn.Conv2d(1,16,3,padding=1)\n",
    "        self.pool = nn.MaxPool2d(2,2)\n",
    "        self.bn1 = nn.BatchNorm2d(16)\n",
    "        self.dropout1 = nn.Dropout2d(p=0.25)\n",
    "        self.conv2 = nn.Conv2d(16,16,3,padding=1)\n",
    "        self.bn2 = nn.BatchNorm1d(16*7**2)\n",
    "        self.dropout2 = nn.Dropout(p=0.5)\n",
    "        self.fc1 = nn.Linear(16*7**2, 392)\n",
    "        self.bn3 = nn.BatchNorm1d(392)\n",
    "        self.dropout3 = nn.Dropout(p=0.5)\n",
    "        self.fc2 = nn.Linear(392, num_classes)\n",
    "        \n",
    "    def forward(self,x):\n",
    "        x = self.dropout1(self.bn1(self.pool(self.relu(self.conv1(x)))))\n",
    "        #x = self.bn1(self.pool(self.relu(self.conv1(x))))\n",
    "        x = self.pool(self.relu(self.conv2(x)))\n",
    "        x = self.dropout2(self.bn2(x.view(x.size(0),-1)))\n",
    "        x = self.dropout3(self.bn3(self.relu(self.fc1(x))))\n",
    "        x = self.fc2(x)\n",
    "        return x\n",
    "\n",
    "model = DropoutNet()\n",
    "\n",
    "# initiate Adam optimizer\n",
    "opt = optim.Adam(model.parameters(), lr=lrate)\n",
    "\n",
    "# Create learning rate scheduler\n",
    "lambda1 = lambda epoch: lrate - decay*epoch\n",
    "scheduler = optim.lr_scheduler.LambdaLR(opt, lr_lambda=lambda1)\n",
    "\n",
    "# initiate loss function\n",
    "criterion = nn.CrossEntropyLoss()\n",
    "\n",
    "print(str(model))"
   ]
  },
  {
   "cell_type": "code",
   "execution_count": null,
   "metadata": {},
   "outputs": [],
   "source": [
    "basic_tr_accuracy = []\n",
    "basic_ts_accuracy = []\n",
    "\n",
    "for epoch in range(epochs):\n",
    "    # Take scheduler step\n",
    "    scheduler.step()\n",
    "    \n",
    "    correct = 0 # initialize error counter\n",
    "    total = 0 # initialize total counter\n",
    "    model.train() # put model in training mode\n",
    "    # iterate over training set\n",
    "    for train_iter, data in enumerate(train_loader):\n",
    "        x_batch,y_batch = data\n",
    "        y_batch = y_batch.type(torch.long)\n",
    "        out = model(x_batch)\n",
    "        # Compute Loss\n",
    "        loss = criterion(out,y_batch)\n",
    "        # Zero gradients\n",
    "        opt.zero_grad()\n",
    "        # Compute gradients using back propagation\n",
    "        loss.backward()\n",
    "        # Take an optimization 'step'\n",
    "        opt.step()\n",
    "        \n",
    "        # Compute Accuracy\n",
    "        _, predicted = torch.max(out.data, 1)\n",
    "        total += y_batch.size(0)\n",
    "        correct += (predicted == y_batch).sum().item()\n",
    "        \n",
    "\n",
    "    basic_tr_accuracy.append( 100*correct/total )\n",
    "    \n",
    "    correct = 0\n",
    "    total = 0\n",
    "    model.eval() # put model in evaluation mode\n",
    "    with torch.no_grad():\n",
    "        for data in test_loader:\n",
    "            images, labels = data\n",
    "            labels = labels.type(torch.long)\n",
    "            outputs = model(images)\n",
    "            _, predicted = torch.max(outputs.data, 1)\n",
    "            total += labels.size(0)\n",
    "            correct += (predicted == labels).sum().item()\n",
    "    \n",
    "    basic_ts_accuracy.append( 100*correct/total )\n",
    "    \n",
    "    # Print details every print_mod epoch\n",
    "    print('Epoch: {0:2d}   Train Accuracy: {1:.3f}%   Test Accuracy: {2:.3f}%'.format(epoch+1, basic_tr_accuracy[epoch], basic_ts_accuracy[epoch]))\n",
    "        \n",
    "\n",
    "print('Done!')"
   ]
  },
  {
   "cell_type": "code",
   "execution_count": null,
   "metadata": {},
   "outputs": [],
   "source": [
    "# network with dropout and BN\n",
    "class DropoutNet(nn.Module):\n",
    "    def __init__(self):\n",
    "        super(DropoutNet, self).__init__()\n",
    "        self.relu = nn.ReLU()\n",
    "        self.pool = nn.MaxPool2d(2,2)\n",
    "        self.conv1 = nn.Conv2d(1,32,5,padding=1)\n",
    "        self.bn1 = nn.BatchNorm2d(32)\n",
    "        self.dropout1 = nn.Dropout2d(p=0.25)\n",
    "        self.conv2 = nn.Conv2d(32,24,4,padding=1)\n",
    "        self.bn2 = nn.BatchNorm2d(24)\n",
    "        self.dropout2 = nn.Dropout2d(p=0.25)\n",
    "        self.conv3 = nn.Conv2d(24,16,3,padding=1)\n",
    "        self.bn3 = nn.BatchNorm1d(864)\n",
    "        self.dropout3 = nn.Dropout(p=0.5)\n",
    "        self.fc1 = nn.Linear(864, 432)\n",
    "        self.bn4 = nn.BatchNorm1d(432)\n",
    "        self.dropout4 = nn.Dropout(p=0.5)\n",
    "        self.fc2 = nn.Linear(432, num_classes)\n",
    "        \n",
    "    def forward(self,x):\n",
    "        #x = self.dropout1(self.bn1(self.pool(self.relu(self.conv1(x)))))\n",
    "        x = self.bn1(self.pool(self.relu(self.conv1(x))))\n",
    "        X = self.dropout2(self.bn2(self.pool(self.relu(self.conv2(x)))))\n",
    "        x = self.pool(self.relu(self.conv3(x)))\n",
    "        x = self.dropout2(self.bn2(x.view(x.size(0),-1)))\n",
    "        x = self.dropout3(self.bn3(self.relu(self.fc1(x))))\n",
    "        x = self.fc2(x)\n",
    "        return x\n",
    "\n",
    "model = DropoutNet()\n",
    "\n",
    "# initiate Adam optimizer\n",
    "opt = optim.Adam(model.parameters(), lr=lrate)\n",
    "\n",
    "# Create learning rate scheduler\n",
    "lambda1 = lambda epoch: lrate - decay*epoch\n",
    "scheduler = optim.lr_scheduler.LambdaLR(opt, lr_lambda=lambda1)\n",
    "\n",
    "# initiate loss function\n",
    "criterion = nn.CrossEntropyLoss()\n",
    "\n",
    "print(str(model))"
   ]
  },
  {
   "cell_type": "code",
   "execution_count": null,
   "metadata": {},
   "outputs": [],
   "source": [
    "basic_tr_accuracy = []\n",
    "basic_ts_accuracy = []\n",
    "\n",
    "for epoch in range(epochs):\n",
    "    # Take scheduler step\n",
    "    scheduler.step()\n",
    "    \n",
    "    correct = 0 # initialize error counter\n",
    "    total = 0 # initialize total counter\n",
    "    model.train() # put model in training mode\n",
    "    # iterate over training set\n",
    "    for train_iter, data in enumerate(train_loader):\n",
    "        x_batch,y_batch = data\n",
    "        y_batch = y_batch.type(torch.long)\n",
    "        out = model(x_batch)\n",
    "        # Compute Loss\n",
    "        loss = criterion(out,y_batch)\n",
    "        # Zero gradients\n",
    "        opt.zero_grad()\n",
    "        # Compute gradients using back propagation\n",
    "        loss.backward()\n",
    "        # Take an optimization 'step'\n",
    "        opt.step()\n",
    "        \n",
    "        # Compute Accuracy\n",
    "        _, predicted = torch.max(out.data, 1)\n",
    "        total += y_batch.size(0)\n",
    "        correct += (predicted == y_batch).sum().item()\n",
    "        \n",
    "\n",
    "    basic_tr_accuracy.append( 100*correct/total )\n",
    "    \n",
    "    correct = 0\n",
    "    total = 0\n",
    "    model.eval() # put model in evaluation mode\n",
    "    with torch.no_grad():\n",
    "        for data in test_loader:\n",
    "            images, labels = data\n",
    "            labels = labels.type(torch.long)\n",
    "            outputs = model(images)\n",
    "            _, predicted = torch.max(outputs.data, 1)\n",
    "            total += labels.size(0)\n",
    "            correct += (predicted == labels).sum().item()\n",
    "    \n",
    "    basic_ts_accuracy.append( 100*correct/total )\n",
    "    \n",
    "    # Print details every print_mod epoch\n",
    "    print('Epoch: {0:2d}   Train Accuracy: {1:.3f}%   Test Accuracy: {2:.3f}%'.format(epoch+1, basic_tr_accuracy[epoch], basic_ts_accuracy[epoch]))\n",
    "        \n",
    "\n",
    "print('Done!')"
   ]
  },
  {
   "cell_type": "code",
   "execution_count": null,
   "metadata": {},
   "outputs": [],
   "source": []
  }
 ],
 "metadata": {
  "kernelspec": {
   "display_name": "Python 3",
   "language": "python",
   "name": "python3"
  },
  "language_info": {
   "codemirror_mode": {
    "name": "ipython",
    "version": 3
   },
   "file_extension": ".py",
   "mimetype": "text/x-python",
   "name": "python",
   "nbconvert_exporter": "python",
   "pygments_lexer": "ipython3",
   "version": "3.7.3"
  }
 },
 "nbformat": 4,
 "nbformat_minor": 2
}
