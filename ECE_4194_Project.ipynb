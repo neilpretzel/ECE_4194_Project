{
 "cells": [
  {
   "cell_type": "code",
   "execution_count": 3,
   "metadata": {},
   "outputs": [],
   "source": [
    "import pandas as pd\n",
    "import numpy as np\n",
    "import sklearn\n",
    "import matplotlib.pyplot as plt\n",
    "\n",
    "import sklearn\n",
    "from sklearn import datasets, linear_model, preprocessing\n",
    "\n"
   ]
  },
  {
   "cell_type": "code",
   "execution_count": 4,
   "metadata": {},
   "outputs": [
    {
     "data": {
      "text/html": [
       "<div>\n",
       "<style scoped>\n",
       "    .dataframe tbody tr th:only-of-type {\n",
       "        vertical-align: middle;\n",
       "    }\n",
       "\n",
       "    .dataframe tbody tr th {\n",
       "        vertical-align: top;\n",
       "    }\n",
       "\n",
       "    .dataframe thead th {\n",
       "        text-align: right;\n",
       "    }\n",
       "</style>\n",
       "<table border=\"1\" class=\"dataframe\">\n",
       "  <thead>\n",
       "    <tr style=\"text-align: right;\">\n",
       "      <th></th>\n",
       "      <th>label</th>\n",
       "      <th>pixel1</th>\n",
       "      <th>pixel2</th>\n",
       "      <th>pixel3</th>\n",
       "      <th>pixel4</th>\n",
       "      <th>pixel5</th>\n",
       "      <th>pixel6</th>\n",
       "      <th>pixel7</th>\n",
       "      <th>pixel8</th>\n",
       "      <th>pixel9</th>\n",
       "      <th>...</th>\n",
       "      <th>pixel775</th>\n",
       "      <th>pixel776</th>\n",
       "      <th>pixel777</th>\n",
       "      <th>pixel778</th>\n",
       "      <th>pixel779</th>\n",
       "      <th>pixel780</th>\n",
       "      <th>pixel781</th>\n",
       "      <th>pixel782</th>\n",
       "      <th>pixel783</th>\n",
       "      <th>pixel784</th>\n",
       "    </tr>\n",
       "  </thead>\n",
       "  <tbody>\n",
       "    <tr>\n",
       "      <th>0</th>\n",
       "      <td>3</td>\n",
       "      <td>107</td>\n",
       "      <td>118</td>\n",
       "      <td>127</td>\n",
       "      <td>134</td>\n",
       "      <td>139</td>\n",
       "      <td>143</td>\n",
       "      <td>146</td>\n",
       "      <td>150</td>\n",
       "      <td>153</td>\n",
       "      <td>...</td>\n",
       "      <td>207</td>\n",
       "      <td>207</td>\n",
       "      <td>207</td>\n",
       "      <td>207</td>\n",
       "      <td>206</td>\n",
       "      <td>206</td>\n",
       "      <td>206</td>\n",
       "      <td>204</td>\n",
       "      <td>203</td>\n",
       "      <td>202</td>\n",
       "    </tr>\n",
       "    <tr>\n",
       "      <th>1</th>\n",
       "      <td>6</td>\n",
       "      <td>155</td>\n",
       "      <td>157</td>\n",
       "      <td>156</td>\n",
       "      <td>156</td>\n",
       "      <td>156</td>\n",
       "      <td>157</td>\n",
       "      <td>156</td>\n",
       "      <td>158</td>\n",
       "      <td>158</td>\n",
       "      <td>...</td>\n",
       "      <td>69</td>\n",
       "      <td>149</td>\n",
       "      <td>128</td>\n",
       "      <td>87</td>\n",
       "      <td>94</td>\n",
       "      <td>163</td>\n",
       "      <td>175</td>\n",
       "      <td>103</td>\n",
       "      <td>135</td>\n",
       "      <td>149</td>\n",
       "    </tr>\n",
       "    <tr>\n",
       "      <th>2</th>\n",
       "      <td>2</td>\n",
       "      <td>187</td>\n",
       "      <td>188</td>\n",
       "      <td>188</td>\n",
       "      <td>187</td>\n",
       "      <td>187</td>\n",
       "      <td>186</td>\n",
       "      <td>187</td>\n",
       "      <td>188</td>\n",
       "      <td>187</td>\n",
       "      <td>...</td>\n",
       "      <td>202</td>\n",
       "      <td>201</td>\n",
       "      <td>200</td>\n",
       "      <td>199</td>\n",
       "      <td>198</td>\n",
       "      <td>199</td>\n",
       "      <td>198</td>\n",
       "      <td>195</td>\n",
       "      <td>194</td>\n",
       "      <td>195</td>\n",
       "    </tr>\n",
       "    <tr>\n",
       "      <th>3</th>\n",
       "      <td>2</td>\n",
       "      <td>211</td>\n",
       "      <td>211</td>\n",
       "      <td>212</td>\n",
       "      <td>212</td>\n",
       "      <td>211</td>\n",
       "      <td>210</td>\n",
       "      <td>211</td>\n",
       "      <td>210</td>\n",
       "      <td>210</td>\n",
       "      <td>...</td>\n",
       "      <td>235</td>\n",
       "      <td>234</td>\n",
       "      <td>233</td>\n",
       "      <td>231</td>\n",
       "      <td>230</td>\n",
       "      <td>226</td>\n",
       "      <td>225</td>\n",
       "      <td>222</td>\n",
       "      <td>229</td>\n",
       "      <td>163</td>\n",
       "    </tr>\n",
       "    <tr>\n",
       "      <th>4</th>\n",
       "      <td>13</td>\n",
       "      <td>164</td>\n",
       "      <td>167</td>\n",
       "      <td>170</td>\n",
       "      <td>172</td>\n",
       "      <td>176</td>\n",
       "      <td>179</td>\n",
       "      <td>180</td>\n",
       "      <td>184</td>\n",
       "      <td>185</td>\n",
       "      <td>...</td>\n",
       "      <td>92</td>\n",
       "      <td>105</td>\n",
       "      <td>105</td>\n",
       "      <td>108</td>\n",
       "      <td>133</td>\n",
       "      <td>163</td>\n",
       "      <td>157</td>\n",
       "      <td>163</td>\n",
       "      <td>164</td>\n",
       "      <td>179</td>\n",
       "    </tr>\n",
       "  </tbody>\n",
       "</table>\n",
       "<p>5 rows × 785 columns</p>\n",
       "</div>"
      ],
      "text/plain": [
       "   label  pixel1  pixel2  pixel3  pixel4  pixel5  pixel6  pixel7  pixel8  \\\n",
       "0      3     107     118     127     134     139     143     146     150   \n",
       "1      6     155     157     156     156     156     157     156     158   \n",
       "2      2     187     188     188     187     187     186     187     188   \n",
       "3      2     211     211     212     212     211     210     211     210   \n",
       "4     13     164     167     170     172     176     179     180     184   \n",
       "\n",
       "   pixel9  ...  pixel775  pixel776  pixel777  pixel778  pixel779  pixel780  \\\n",
       "0     153  ...       207       207       207       207       206       206   \n",
       "1     158  ...        69       149       128        87        94       163   \n",
       "2     187  ...       202       201       200       199       198       199   \n",
       "3     210  ...       235       234       233       231       230       226   \n",
       "4     185  ...        92       105       105       108       133       163   \n",
       "\n",
       "   pixel781  pixel782  pixel783  pixel784  \n",
       "0       206       204       203       202  \n",
       "1       175       103       135       149  \n",
       "2       198       195       194       195  \n",
       "3       225       222       229       163  \n",
       "4       157       163       164       179  \n",
       "\n",
       "[5 rows x 785 columns]"
      ]
     },
     "execution_count": 4,
     "metadata": {},
     "output_type": "execute_result"
    }
   ],
   "source": [
    "df_train = pd.read_csv(\"sign_mnist_train.csv\")\n",
    "df_test = pd.read_csv(\"sign_mnist_test.csv\")\n",
    "\n",
    "df_train.head()"
   ]
  },
  {
   "cell_type": "code",
   "execution_count": 5,
   "metadata": {
    "scrolled": true
   },
   "outputs": [
    {
     "data": {
      "text/html": [
       "<div>\n",
       "<style scoped>\n",
       "    .dataframe tbody tr th:only-of-type {\n",
       "        vertical-align: middle;\n",
       "    }\n",
       "\n",
       "    .dataframe tbody tr th {\n",
       "        vertical-align: top;\n",
       "    }\n",
       "\n",
       "    .dataframe thead th {\n",
       "        text-align: right;\n",
       "    }\n",
       "</style>\n",
       "<table border=\"1\" class=\"dataframe\">\n",
       "  <thead>\n",
       "    <tr style=\"text-align: right;\">\n",
       "      <th></th>\n",
       "      <th>pixel1</th>\n",
       "      <th>pixel2</th>\n",
       "      <th>pixel3</th>\n",
       "      <th>pixel4</th>\n",
       "      <th>pixel5</th>\n",
       "      <th>pixel6</th>\n",
       "      <th>pixel7</th>\n",
       "      <th>pixel8</th>\n",
       "      <th>pixel9</th>\n",
       "      <th>pixel10</th>\n",
       "      <th>...</th>\n",
       "      <th>pixel775</th>\n",
       "      <th>pixel776</th>\n",
       "      <th>pixel777</th>\n",
       "      <th>pixel778</th>\n",
       "      <th>pixel779</th>\n",
       "      <th>pixel780</th>\n",
       "      <th>pixel781</th>\n",
       "      <th>pixel782</th>\n",
       "      <th>pixel783</th>\n",
       "      <th>pixel784</th>\n",
       "    </tr>\n",
       "  </thead>\n",
       "  <tbody>\n",
       "    <tr>\n",
       "      <th>0</th>\n",
       "      <td>107</td>\n",
       "      <td>118</td>\n",
       "      <td>127</td>\n",
       "      <td>134</td>\n",
       "      <td>139</td>\n",
       "      <td>143</td>\n",
       "      <td>146</td>\n",
       "      <td>150</td>\n",
       "      <td>153</td>\n",
       "      <td>156</td>\n",
       "      <td>...</td>\n",
       "      <td>207</td>\n",
       "      <td>207</td>\n",
       "      <td>207</td>\n",
       "      <td>207</td>\n",
       "      <td>206</td>\n",
       "      <td>206</td>\n",
       "      <td>206</td>\n",
       "      <td>204</td>\n",
       "      <td>203</td>\n",
       "      <td>202</td>\n",
       "    </tr>\n",
       "    <tr>\n",
       "      <th>1</th>\n",
       "      <td>155</td>\n",
       "      <td>157</td>\n",
       "      <td>156</td>\n",
       "      <td>156</td>\n",
       "      <td>156</td>\n",
       "      <td>157</td>\n",
       "      <td>156</td>\n",
       "      <td>158</td>\n",
       "      <td>158</td>\n",
       "      <td>157</td>\n",
       "      <td>...</td>\n",
       "      <td>69</td>\n",
       "      <td>149</td>\n",
       "      <td>128</td>\n",
       "      <td>87</td>\n",
       "      <td>94</td>\n",
       "      <td>163</td>\n",
       "      <td>175</td>\n",
       "      <td>103</td>\n",
       "      <td>135</td>\n",
       "      <td>149</td>\n",
       "    </tr>\n",
       "    <tr>\n",
       "      <th>2</th>\n",
       "      <td>187</td>\n",
       "      <td>188</td>\n",
       "      <td>188</td>\n",
       "      <td>187</td>\n",
       "      <td>187</td>\n",
       "      <td>186</td>\n",
       "      <td>187</td>\n",
       "      <td>188</td>\n",
       "      <td>187</td>\n",
       "      <td>186</td>\n",
       "      <td>...</td>\n",
       "      <td>202</td>\n",
       "      <td>201</td>\n",
       "      <td>200</td>\n",
       "      <td>199</td>\n",
       "      <td>198</td>\n",
       "      <td>199</td>\n",
       "      <td>198</td>\n",
       "      <td>195</td>\n",
       "      <td>194</td>\n",
       "      <td>195</td>\n",
       "    </tr>\n",
       "    <tr>\n",
       "      <th>3</th>\n",
       "      <td>211</td>\n",
       "      <td>211</td>\n",
       "      <td>212</td>\n",
       "      <td>212</td>\n",
       "      <td>211</td>\n",
       "      <td>210</td>\n",
       "      <td>211</td>\n",
       "      <td>210</td>\n",
       "      <td>210</td>\n",
       "      <td>211</td>\n",
       "      <td>...</td>\n",
       "      <td>235</td>\n",
       "      <td>234</td>\n",
       "      <td>233</td>\n",
       "      <td>231</td>\n",
       "      <td>230</td>\n",
       "      <td>226</td>\n",
       "      <td>225</td>\n",
       "      <td>222</td>\n",
       "      <td>229</td>\n",
       "      <td>163</td>\n",
       "    </tr>\n",
       "    <tr>\n",
       "      <th>4</th>\n",
       "      <td>164</td>\n",
       "      <td>167</td>\n",
       "      <td>170</td>\n",
       "      <td>172</td>\n",
       "      <td>176</td>\n",
       "      <td>179</td>\n",
       "      <td>180</td>\n",
       "      <td>184</td>\n",
       "      <td>185</td>\n",
       "      <td>186</td>\n",
       "      <td>...</td>\n",
       "      <td>92</td>\n",
       "      <td>105</td>\n",
       "      <td>105</td>\n",
       "      <td>108</td>\n",
       "      <td>133</td>\n",
       "      <td>163</td>\n",
       "      <td>157</td>\n",
       "      <td>163</td>\n",
       "      <td>164</td>\n",
       "      <td>179</td>\n",
       "    </tr>\n",
       "  </tbody>\n",
       "</table>\n",
       "<p>5 rows × 784 columns</p>\n",
       "</div>"
      ],
      "text/plain": [
       "   pixel1  pixel2  pixel3  pixel4  pixel5  pixel6  pixel7  pixel8  pixel9  \\\n",
       "0     107     118     127     134     139     143     146     150     153   \n",
       "1     155     157     156     156     156     157     156     158     158   \n",
       "2     187     188     188     187     187     186     187     188     187   \n",
       "3     211     211     212     212     211     210     211     210     210   \n",
       "4     164     167     170     172     176     179     180     184     185   \n",
       "\n",
       "   pixel10  ...  pixel775  pixel776  pixel777  pixel778  pixel779  pixel780  \\\n",
       "0      156  ...       207       207       207       207       206       206   \n",
       "1      157  ...        69       149       128        87        94       163   \n",
       "2      186  ...       202       201       200       199       198       199   \n",
       "3      211  ...       235       234       233       231       230       226   \n",
       "4      186  ...        92       105       105       108       133       163   \n",
       "\n",
       "   pixel781  pixel782  pixel783  pixel784  \n",
       "0       206       204       203       202  \n",
       "1       175       103       135       149  \n",
       "2       198       195       194       195  \n",
       "3       225       222       229       163  \n",
       "4       157       163       164       179  \n",
       "\n",
       "[5 rows x 784 columns]"
      ]
     },
     "execution_count": 5,
     "metadata": {},
     "output_type": "execute_result"
    }
   ],
   "source": [
    "# Here we are splitting the label from the pixels\n",
    "# https://stackoverflow.com/questions/41624241/pandas-split-dataframe-into-two-dataframes\n",
    "df_train_targets = df_train.iloc[:, 0]\n",
    "df_train_images = df_train.iloc[:, 1:]\n",
    "df_test_targets = df_test.iloc[:, 0]\n",
    "df_test_images = df_test.iloc[:, 1:]\n",
    "\n",
    "df_train_images.head()"
   ]
  },
  {
   "cell_type": "code",
   "execution_count": 6,
   "metadata": {
    "scrolled": true
   },
   "outputs": [],
   "source": [
    "# Change the DataFrames into matrices/arrays\n",
    "X_train = df_train_images.values\n",
    "y_train = df_train_targets.values\n",
    "X_test = df_test_images.values\n",
    "y_test = df_test_targets.values"
   ]
  },
  {
   "cell_type": "markdown",
   "metadata": {},
   "source": [
    "## Normalizing and Adjusting the Data\n",
    "\n",
    "In the following sections we will normalize our data from [-1, 1] and shift the values of our label to skip J."
   ]
  },
  {
   "cell_type": "code",
   "execution_count": 7,
   "metadata": {},
   "outputs": [
    {
     "name": "stdout",
     "output_type": "stream",
     "text": [
      "[ 0  1  2  3  4  5  6  7  8  9 10 11 12 13 14 15 16 17 18 19 20 21 22 23]\n"
     ]
    }
   ],
   "source": [
    "# J and Z do not appear in dataset as they include movement\n",
    "# shifts labels because of the missing J in the alphabet (value 9)\n",
    "# Now instead of 0-24 we have 0-23 after removing the value for J\n",
    "# Note: Z would be in spot 25, but since it never shows, y_train is default 0-24\n",
    "for i in range(np.shape(y_train)[0]):\n",
    "    if (y_train[i] > 9):\n",
    "        y_train[i] -= 1\n",
    "        \n",
    "for i in range(np.shape(y_test)[0]):\n",
    "    if (y_test[i] > 9):\n",
    "        y_test[i] -= 1\n",
    "\n",
    "print(np.unique(y_test))"
   ]
  },
  {
   "cell_type": "code",
   "execution_count": 8,
   "metadata": {},
   "outputs": [],
   "source": [
    "# Normalize data (From demo_mnist_svm)\n",
    "X_train = X_train/255.0*2 - 1 # convert to range [-1,1]\n",
    "X_test = X_test/255.0*2 - 1 # convert to range [-1,1]"
   ]
  },
  {
   "cell_type": "markdown",
   "metadata": {},
   "source": [
    "## Showing the Dataset\n",
    "\n",
    "In the following sections we will create an array of characters (A-Y w/o J) corresponding to each label (0-23).\n",
    "Then we will show what each character looks like in sign language. "
   ]
  },
  {
   "cell_type": "code",
   "execution_count": 9,
   "metadata": {},
   "outputs": [
    {
     "name": "stdout",
     "output_type": "stream",
     "text": [
      "['D' 'G' 'C' ... 'S' 'R' 'X']\n",
      "['G' 'F' 'K' ... 'C' 'E' 'C']\n"
     ]
    }
   ],
   "source": [
    "# https://codereview.stackexchange.com/questions/183658/replacing-letters-with-numbers-with-its-position-in-alphabet\n",
    "# https://docs.python.org/2/library/string.html\n",
    "\n",
    "alphabet = \"ABCDEFGHIKLMNOPQRSTUVWXY\"\n",
    "\n",
    "# function to convert 0-23 number to A-Z character (minus J and Z)\n",
    "def to_char(num, char = None):\n",
    "    char = alphabet[num]\n",
    "    return char\n",
    "\n",
    "y_tr_char = np.empty((y_train.shape[0], ), dtype = np.str)\n",
    "for i in range(y_train.shape[0]):\n",
    "    y_tr_char[i] = to_char(y_train[i])\n",
    "print(y_tr_char)\n",
    "\n",
    "y_ts_char = np.empty((y_test.shape[0], ), dtype = np.str)\n",
    "for i in range(y_test.shape[0]):\n",
    "    y_ts_char[i] = to_char(y_test[i])\n",
    "print(y_ts_char)"
   ]
  },
  {
   "cell_type": "code",
   "execution_count": 11,
   "metadata": {
    "scrolled": true
   },
   "outputs": [
    {
     "data": {
      "image/png": "[encoded data removed]",
      "text/plain": [
       "<Figure size 1152x432 with 24 Axes>"
      ]
     },
     "metadata": {},
     "output_type": "display_data"
    }
   ],
   "source": [
    "# From demo \"demo_mnist_svm\" with modifications\n",
    "# https://stackoverflow.com/questions/27671748/how-to-print-y-axis-label-horizontally-in-a-matplotlib-pylab-chart\n",
    "def plt_image(x):\n",
    "    nrow = 28\n",
    "    ncol = 28\n",
    "    xsq = x.reshape((nrow,ncol))\n",
    "    plt.imshow(xsq,  cmap='Greys_r')\n",
    "    plt.xticks([])\n",
    "    plt.yticks([])\n",
    "    \n",
    "Iperm = np.random.permutation(X_train.shape[0])\n",
    "\n",
    "plt.figure(figsize=(16, 6))\n",
    "for i in range(24):\n",
    "    plt.subplot(4,6,i+1)\n",
    "    j = 0\n",
    "    while (y_train[j] != (i)): # find a label equal to i\n",
    "        j += 1\n",
    "    plt_image(X_train[j])\n",
    "    # https://matplotlib.org/api/text_api.html#matplotlib.text.Text\n",
    "    plt.ylabel(y_tr_char[j], rotation = 0, fontsize=20, labelpad=20, verticalalignment = 'center')\n",
    "    \n",
    "# plt.figure(figsize=(15, 4))\n",
    "# for i in range(nplt):        \n",
    "#     plt.subplot(1,nplt,i+1)        \n",
    "#     ind = Iperm[i]    \n",
    "#     plt_digit(X_test[ind,:]) \n",
    "#     title = \"true=\" + to_char(y_test[ind]) + \" est=\" + to_char(yhat_logreg[ind])\n",
    "#     plt.title(title)"
   ]
  },
  {
   "cell_type": "markdown",
   "metadata": {},
   "source": [
    "## Logistic Regression\n",
    "\n",
    "In the following section we see how well we can fit the data using Logistic Regression. This section is taken direcly from \"demo_mnist_svm\"."
   ]
  },
  {
   "cell_type": "code",
   "execution_count": 12,
   "metadata": {
    "scrolled": true
   },
   "outputs": [
    {
     "name": "stderr",
     "output_type": "stream",
     "text": [
      "[Parallel(n_jobs=1)]: Using backend SequentialBackend with 1 concurrent workers.\n",
      "/anaconda3/lib/python3.7/site-packages/sklearn/linear_model/logistic.py:758: ConvergenceWarning: lbfgs failed to converge. Increase the number of iterations.\n",
      "  \"of iterations.\", ConvergenceWarning)\n",
      "[Parallel(n_jobs=1)]: Done   1 out of   1 | elapsed:   45.1s finished\n"
     ]
    },
    {
     "data": {
      "text/plain": [
       "LogisticRegression(C=1.0, class_weight=None, dual=False, fit_intercept=True,\n",
       "          intercept_scaling=1, max_iter=500, multi_class='multinomial',\n",
       "          n_jobs=None, penalty='l2', random_state=None, solver='lbfgs',\n",
       "          tol=0.0001, verbose=1, warm_start=False)"
      ]
     },
     "execution_count": 12,
     "metadata": {},
     "output_type": "execute_result"
    }
   ],
   "source": [
    "logreg = linear_model.LogisticRegression(verbose=1, multi_class='multinomial', \n",
    "                                         solver='lbfgs', max_iter=500)\n",
    "logreg.fit(X_train,y_train)"
   ]
  },
  {
   "cell_type": "code",
   "execution_count": 13,
   "metadata": {
    "scrolled": true
   },
   "outputs": [
    {
     "name": "stdout",
     "output_type": "stream",
     "text": [
      "Accuracy = 0.686977\n"
     ]
    }
   ],
   "source": [
    "yhat_logreg = logreg.predict(X_test)\n",
    "acc_logreg = np.mean(yhat_logreg == y_test)\n",
    "print('Accuracy = {0:f}'.format(acc_logreg))"
   ]
  },
  {
   "cell_type": "code",
   "execution_count": 15,
   "metadata": {
    "scrolled": true
   },
   "outputs": [
    {
     "data": {
      "image/png": "[encoded data removed]",
      "text/plain": [
       "<Figure size 1296x360 with 8 Axes>"
      ]
     },
     "metadata": {},
     "output_type": "display_data"
    }
   ],
   "source": [
    "# Here we show what the data got wrong \n",
    "\n",
    "nplt = 8\n",
    "Ierr = np.where(y_test != yhat_logreg)[0]\n",
    "\n",
    "Iperm = np.random.permutation(Ierr)\n",
    "\n",
    "plt.figure(figsize=(18, 5))\n",
    "for i in range(nplt):        \n",
    "    plt.subplot(1,nplt,i+1)        \n",
    "    ind = Iperm[i]    \n",
    "    plt_image(X_test[ind,:]) \n",
    "    title = \"true=\" + to_char(y_test[ind]) + \" est=\" + to_char(yhat_logreg[ind])\n",
    "    plt.title(title)"
   ]
  },
  {
   "cell_type": "code",
   "execution_count": 22,
   "metadata": {
    "scrolled": false
   },
   "outputs": [
    {
     "data": {
      "text/plain": [
       "<matplotlib.colorbar.Colorbar at 0x1a1ed73a20>"
      ]
     },
     "execution_count": 22,
     "metadata": {},
     "output_type": "execute_result"
    },
    {
     "data": {
      "image/png": "[encoded data removed]",
      "text/plain": [
       "<Figure size 864x864 with 2 Axes>"
      ]
     },
     "metadata": {
      "needs_background": "light"
     },
     "output_type": "display_data"
    }
   ],
   "source": [
    "# https://scikit-learn.org/stable/auto_examples/model_selection/plot_confusion_matrix.html\n",
    "# https://matplotlib.org/api/text_api.html#matplotlib.text.Text\n",
    "from sklearn.metrics import confusion_matrix\n",
    "C = confusion_matrix(y_test,yhat_logreg)\n",
    "\n",
    "# Normalize the confusion matrix\n",
    "Csum = np.sum(C,1)\n",
    "C = C / Csum[None,:]\n",
    "\n",
    "# Print the confusion matrix\n",
    "plt.figure(figsize=(12, 12))\n",
    "plt.subplots_adjust(left=.2, right=0.95, bottom=0.4, top=0.95)\n",
    "plt.imshow(C, interpolation='none')\n",
    "plt.xlabel(\"Predicted\", fontsize= 'x-large')\n",
    "plt.ylabel(\"True\", fontsize= 'x-large')\n",
    "plt.title(\"Predicted vs. True of Logistic Regression\", fontsize= 'xx-large')\n",
    "plt.xticks(np.arange(24), alphabet)\n",
    "plt.yticks(np.arange(24), alphabet)\n",
    "plt.colorbar()"
   ]
  },
  {
   "cell_type": "markdown",
   "metadata": {},
   "source": [
    "## SVC\n",
    "\n",
    "In the following section we see how well we can fit the data using SVC. This section is taken direcly from \"demo_mnist_svm\"."
   ]
  },
  {
   "cell_type": "code",
   "execution_count": 17,
   "metadata": {},
   "outputs": [
    {
     "name": "stdout",
     "output_type": "stream",
     "text": [
      "[LibSVM]"
     ]
    },
    {
     "data": {
      "text/plain": [
       "SVC(C=1.0, cache_size=200, class_weight=None, coef0=0.0,\n",
       "  decision_function_shape='ovr', degree=3, gamma='auto_deprecated',\n",
       "  kernel='linear', max_iter=-1, probability=False, random_state=None,\n",
       "  shrinking=True, tol=0.001, verbose=1)"
      ]
     },
     "execution_count": 17,
     "metadata": {},
     "output_type": "execute_result"
    }
   ],
   "source": [
    "from sklearn import svm\n",
    "# Create a classifier: a support vector classifier with linear kernel\n",
    "svc = svm.SVC(probability=False, kernel=\"linear\", verbose=1)\n",
    "svc.fit(X_train,y_train)"
   ]
  },
  {
   "cell_type": "code",
   "execution_count": 25,
   "metadata": {
    "scrolled": true
   },
   "outputs": [
    {
     "name": "stdout",
     "output_type": "stream",
     "text": [
      "Accuracy = 0.781651\n"
     ]
    }
   ],
   "source": [
    "yhat_svc = svc.predict(X_test)\n",
    "acc_svc = np.mean(yhat_svc == y_test)\n",
    "print('Accuracy = {0:f}'.format(acc_svc))"
   ]
  },
  {
   "cell_type": "code",
   "execution_count": 26,
   "metadata": {
    "scrolled": false
   },
   "outputs": [
    {
     "data": {
      "text/plain": [
       "<matplotlib.colorbar.Colorbar at 0x1a1f280588>"
      ]
     },
     "execution_count": 26,
     "metadata": {},
     "output_type": "execute_result"
    },
    {
     "data": {
      "image/png": "[encoded data removed]",
      "text/plain": [
       "<Figure size 864x864 with 2 Axes>"
      ]
     },
     "metadata": {
      "needs_background": "light"
     },
     "output_type": "display_data"
    }
   ],
   "source": [
    "# https://scikit-learn.org/stable/auto_examples/model_selection/plot_confusion_matrix.html\n",
    "# https://matplotlib.org/api/text_api.html#matplotlib.text.Text\n",
    "\n",
    "C = confusion_matrix(y_test,yhat_svc)\n",
    "\n",
    "# Normalize the confusion matrix\n",
    "Csum = np.sum(C,1)\n",
    "C = C / Csum[None,:]\n",
    "\n",
    "# Print the confusion matrix\n",
    "plt.figure(figsize=(12, 12))\n",
    "plt.subplots_adjust(left=.2, right=0.95, bottom=0.4, top=0.95)\n",
    "plt.imshow(C, interpolation='none')\n",
    "plt.xlabel(\"Predicted\", fontsize= 'x-large')\n",
    "plt.ylabel(\"True\", fontsize= 'x-large')\n",
    "plt.title(\"Predicted vs. True of SVC\", fontsize= 'xx-large')\n",
    "plt.xticks(np.arange(24), alphabet)\n",
    "plt.yticks(np.arange(24), alphabet)\n",
    "plt.colorbar()"
   ]
  },
  {
   "cell_type": "markdown",
   "metadata": {},
   "source": [
    "## Finding C and Gamma for SVM\n",
    "\n",
    "The following sections were used to find the optimal C and Gamma for SVM 'rbf'. This method was found on sklearn. We used StratifiedShuffleSplit which acted similar to K-Fold. We also used a smaller set of the data as this took a long time. \n",
    "\n",
    "We do not suggest running this code, you can skip to the SVM section."
   ]
  },
  {
   "cell_type": "code",
   "execution_count": 39,
   "metadata": {},
   "outputs": [],
   "source": [
    "X_train_subset = X_train[0:5000]\n",
    "y_train_subset = y_train[0:5000]"
   ]
  },
  {
   "cell_type": "code",
   "execution_count": 40,
   "metadata": {},
   "outputs": [
    {
     "name": "stdout",
     "output_type": "stream",
     "text": [
      "The best parameters are {'C': 100.0, 'gamma': 0.001} with a score of 0.99\n"
     ]
    }
   ],
   "source": [
    "# https://scikit-learn.org/stable/auto_examples/svm/plot_rbf_parameters.html\n",
    "\n",
    "from sklearn.model_selection import StratifiedShuffleSplit\n",
    "from sklearn.model_selection import GridSearchCV\n",
    "\n",
    "C_range = np.logspace(0,4,5)\n",
    "gamma_range = np.logspace(-5,-1,5)\n",
    "param_grid = dict(gamma=gamma_range, C=C_range)\n",
    "cv = StratifiedShuffleSplit(n_splits=5, test_size=0.2, random_state=42)\n",
    "grid = GridSearchCV(svm.SVC(kernel=\"rbf\"), param_grid=param_grid, cv=cv)\n",
    "grid.fit(X_train_subset, y_train_subset)\n",
    "\n",
    "print(\"The best parameters are %s with a score of %0.2f\"\n",
    "      % (grid.best_params_, grid.best_score_))"
   ]
  },
  {
   "cell_type": "code",
   "execution_count": 41,
   "metadata": {
    "scrolled": false
   },
   "outputs": [
    {
     "data": {
      "image/png": "[encoded data removed]",
      "text/plain": [
       "<Figure size 576x432 with 2 Axes>"
      ]
     },
     "metadata": {
      "needs_background": "light"
     },
     "output_type": "display_data"
    }
   ],
   "source": [
    "# https://scikit-learn.org/stable/auto_examples/svm/plot_rbf_parameters.html\n",
    "\n",
    "from matplotlib.colors import Normalize\n",
    "class MidpointNormalize(Normalize):\n",
    "\n",
    "    def __init__(self, vmin=None, vmax=None, midpoint=None, clip=False):\n",
    "        self.midpoint = midpoint\n",
    "        Normalize.__init__(self, vmin, vmax, clip)\n",
    "\n",
    "    def __call__(self, value, clip=None):\n",
    "        x, y = [self.vmin, self.midpoint, self.vmax], [0, 0.5, 1]\n",
    "        return np.ma.masked_array(np.interp(value, x, y))\n",
    "\n",
    "scores = grid.cv_results_['mean_test_score'].reshape(len(C_range), len(gamma_range))\n",
    "\n",
    "plt.figure(figsize=(8, 6))\n",
    "plt.subplots_adjust(left=.2, right=0.95, bottom=0.15, top=0.95)\n",
    "# https://matplotlib.org/tutorials/colors/colormaps.html\n",
    "plt.imshow(scores, interpolation='nearest', cmap=plt.cm.hot, norm=MidpointNormalize(vmin=0.2, midpoint=0.975))\n",
    "plt.xlabel('gamma')\n",
    "plt.ylabel('C')\n",
    "plt.colorbar()\n",
    "plt.xticks(np.arange(len(gamma_range)), gamma_range, rotation=45)\n",
    "plt.yticks(np.arange(len(C_range)), C_range)\n",
    "plt.title('Validation accuracy')\n",
    "plt.show()"
   ]
  },
  {
   "cell_type": "code",
   "execution_count": 42,
   "metadata": {
    "scrolled": false
   },
   "outputs": [
    {
     "name": "stdout",
     "output_type": "stream",
     "text": [
      "[[0.048  0.2674 0.6982 0.9464 0.8378]\n",
      " [0.2728 0.7058 0.9484 0.9876 0.8462]\n",
      " [0.705  0.9398 0.9928 0.9876 0.8462]\n",
      " [0.9396 0.992  0.9926 0.9876 0.8462]\n",
      " [0.9918 0.9922 0.9926 0.9876 0.8462]]\n"
     ]
    }
   ],
   "source": [
    "print(scores)"
   ]
  },
  {
   "cell_type": "markdown",
   "metadata": {},
   "source": [
    "## SVM\n",
    "\n",
    "In the following section we see how well we can fit the data using SVM. This section is taken direcly from \"demo_mnist_svm\"."
   ]
  },
  {
   "cell_type": "code",
   "execution_count": 45,
   "metadata": {},
   "outputs": [
    {
     "name": "stdout",
     "output_type": "stream",
     "text": [
      "[LibSVM]"
     ]
    },
    {
     "data": {
      "text/plain": [
       "SVC(C=10, cache_size=200, class_weight=None, coef0=0.0,\n",
       "  decision_function_shape='ovr', degree=3, gamma=0.01, kernel='rbf',\n",
       "  max_iter=-1, probability=False, random_state=None, shrinking=True,\n",
       "  tol=0.001, verbose=1)"
      ]
     },
     "execution_count": 45,
     "metadata": {},
     "output_type": "execute_result"
    }
   ],
   "source": [
    "# Create a classifier: a support vector classifier with RBF kernel\n",
    "svmrbf = svm.SVC(probability=False, kernel=\"rbf\", C=10, gamma=.01, verbose=1)\n",
    "svmrbf.fit(X_train,y_train)"
   ]
  },
  {
   "cell_type": "code",
   "execution_count": 46,
   "metadata": {
    "scrolled": true
   },
   "outputs": [
    {
     "name": "stdout",
     "output_type": "stream",
     "text": [
      "Accuracy = 0.840351\n"
     ]
    }
   ],
   "source": [
    "yhat_svm = svmrbf.predict(X_test)\n",
    "acc_svm = np.mean(yhat_svm == y_test)\n",
    "print('Accuracy = {0:f}'.format(acc_svm))\n",
    "# Accuracy before normalization = 0.815254 (with C=100, gamma=1e-7)\n",
    "# Accuracy after normalization  = 0.84"
   ]
  },
  {
   "cell_type": "code",
   "execution_count": 47,
   "metadata": {
    "scrolled": false
   },
   "outputs": [
    {
     "data": {
      "text/plain": [
       "<matplotlib.colorbar.Colorbar at 0x1a1f03bb70>"
      ]
     },
     "execution_count": 47,
     "metadata": {},
     "output_type": "execute_result"
    },
    {
     "data": {
      "image/png": "[encoded data removed]",
      "text/plain": [
       "<Figure size 864x864 with 2 Axes>"
      ]
     },
     "metadata": {
      "needs_background": "light"
     },
     "output_type": "display_data"
    }
   ],
   "source": [
    "C = confusion_matrix(y_test,yhat_svm)\n",
    "\n",
    "# Normalize the confusion matrix\n",
    "Csum = np.sum(C,1)\n",
    "C = C / Csum[None,:]\n",
    "\n",
    "# Print the confusion matrix\n",
    "plt.figure(figsize=(12, 12))\n",
    "plt.subplots_adjust(left=.2, right=0.95, bottom=0.4, top=0.95)\n",
    "plt.imshow(C, interpolation='none')\n",
    "plt.xlabel(\"Predicted\", fontsize= 'x-large')\n",
    "plt.ylabel(\"True\", fontsize= 'x-large')\n",
    "plt.title(\"Predicted vs. True of SVM RBF\", fontsize= 'xx-large')\n",
    "plt.xticks(np.arange(24), alphabet)\n",
    "plt.yticks(np.arange(24), alphabet)\n",
    "plt.colorbar()"
   ]
  },
  {
   "cell_type": "markdown",
   "metadata": {},
   "source": [
    "## Basic Neural Network\n",
    "\n",
    "In the following sections we will uses two layers to implement a very simple Neural Network. This is adapted from demo_mnist_neural."
   ]
  },
  {
   "cell_type": "code",
   "execution_count": 83,
   "metadata": {},
   "outputs": [],
   "source": [
    "# Basic Neural Network from MNIST Neural Network Demo\n",
    "import torch\n",
    "import torch.utils.data\n",
    "import torch.nn as nn\n",
    "import torch.optim as optim\n",
    "\n",
    "batch_size = 240\n",
    "\n",
    "# Convert the numpy arrays to PyTorch tensors\n",
    "Xtr_torch = torch.Tensor(X_train)\n",
    "ytr_torch = torch.Tensor(y_train)\n",
    "Xts_torch = torch.Tensor(X_test)\n",
    "yts_torch = torch.Tensor(y_test)\n",
    "\n",
    "# Create a training Dataset\n",
    "train_ds = torch.utils.data.TensorDataset(Xtr_torch, ytr_torch)\n",
    "# Creates a training DataLoader from this Dataset\n",
    "train_loader = torch.utils.data.DataLoader(train_ds, batch_size=batch_size, shuffle=True) \n",
    "\n",
    "# Create a testing Dataset\n",
    "test_ds = torch.utils.data.TensorDataset(Xts_torch, yts_torch)\n",
    "# Creates a testing DataLoader from this Dataset\n",
    "test_loader = torch.utils.data.DataLoader(test_ds, batch_size=batch_size)"
   ]
  },
  {
   "cell_type": "code",
   "execution_count": 84,
   "metadata": {},
   "outputs": [],
   "source": [
    "nin = X_train.shape[1] # dimension of input data\n",
    "nh = 240 # number of hidden units\n",
    "nout = int(np.max(y_train)+1) # number of outputs = 10 since there are 10 classes\n",
    "\n",
    "class Net(nn.Module):\n",
    "    def __init__(self,nin,nh,nout):\n",
    "        super(Net,self).__init__()\n",
    "        self.sigmoid = nn.Sigmoid()\n",
    "        self.Dense1 = nn.Linear(nin,nh)\n",
    "        self.Dense2 = nn.Linear(nh,nout)\n",
    "        \n",
    "    def forward(self,x):\n",
    "        x = self.sigmoid(self.Dense1(x))\n",
    "        out = self.Dense2(x)\n",
    "        return out\n",
    "\n",
    "model = Net(nin=nin, nh=nh, nout=nout)"
   ]
  },
  {
   "cell_type": "code",
   "execution_count": 85,
   "metadata": {},
   "outputs": [],
   "source": [
    "# if lr = .001 too high\n",
    "# if lr = .0001 then accuracy 62.69 after 50 epochs\n",
    "# if lr = .000075 then accuracy 67.5 after 50 epochs\n",
    "# if lr = .00005 then accuracy 70.69 after 50 epochs\n",
    "# if lr = .0000375 then accuracy 67.44 after 50 epochs\n",
    "# if lr = .000025 then accuracy 69.3 after 50 epochs\n",
    "# if lr = .00001 then accuracy 59.98 after 50 epochs\n",
    "opt = optim.Adam(model.parameters(), lr= 0.00005)\n",
    "\n",
    "criterion = nn.CrossEntropyLoss()"
   ]
  },
  {
   "cell_type": "code",
   "execution_count": 87,
   "metadata": {},
   "outputs": [
    {
     "name": "stdout",
     "output_type": "stream",
     "text": [
      "Epoch:  1   Train Loss: 1.632   Train Accuracy: 64.15    Test Loss: 1.743   Test Accuracy: 56.65\n",
      "Epoch:  2   Train Loss: 1.577   Train Accuracy: 65.47    Test Loss: 1.698   Test Accuracy: 58.14\n",
      "Epoch:  3   Train Loss: 1.524   Train Accuracy: 66.77    Test Loss: 1.657   Test Accuracy: 57.82\n",
      "Epoch:  4   Train Loss: 1.474   Train Accuracy: 67.65    Test Loss: 1.618   Test Accuracy: 58.69\n",
      "Epoch:  5   Train Loss: 1.427   Train Accuracy: 68.41    Test Loss: 1.578   Test Accuracy: 59.62\n",
      "Epoch:  6   Train Loss: 1.383   Train Accuracy: 69.01    Test Loss: 1.545   Test Accuracy: 60.28\n",
      "Epoch:  7   Train Loss: 1.341   Train Accuracy: 69.99    Test Loss: 1.510   Test Accuracy: 61.32\n",
      "Epoch:  8   Train Loss: 1.301   Train Accuracy: 71.16    Test Loss: 1.480   Test Accuracy: 61.78\n",
      "Epoch:  9   Train Loss: 1.262   Train Accuracy: 72.09    Test Loss: 1.450   Test Accuracy: 62.31\n",
      "Epoch: 10   Train Loss: 1.225   Train Accuracy: 72.88    Test Loss: 1.423   Test Accuracy: 63.19\n",
      "Epoch: 11   Train Loss: 1.190   Train Accuracy: 73.60    Test Loss: 1.395   Test Accuracy: 64.17\n",
      "Epoch: 12   Train Loss: 1.157   Train Accuracy: 74.43    Test Loss: 1.373   Test Accuracy: 64.50\n",
      "Epoch: 13   Train Loss: 1.125   Train Accuracy: 74.91    Test Loss: 1.348   Test Accuracy: 64.88\n",
      "Epoch: 14   Train Loss: 1.095   Train Accuracy: 75.55    Test Loss: 1.327   Test Accuracy: 65.56\n",
      "Epoch: 15   Train Loss: 1.065   Train Accuracy: 76.24    Test Loss: 1.307   Test Accuracy: 65.80\n",
      "Epoch: 16   Train Loss: 1.036   Train Accuracy: 76.91    Test Loss: 1.283   Test Accuracy: 66.20\n",
      "Epoch: 17   Train Loss: 1.009   Train Accuracy: 77.60    Test Loss: 1.265   Test Accuracy: 66.41\n",
      "Epoch: 18   Train Loss: 0.983   Train Accuracy: 78.04    Test Loss: 1.245   Test Accuracy: 66.84\n",
      "Epoch: 19   Train Loss: 0.958   Train Accuracy: 78.78    Test Loss: 1.230   Test Accuracy: 66.89\n",
      "Epoch: 20   Train Loss: 0.933   Train Accuracy: 79.40    Test Loss: 1.212   Test Accuracy: 67.09\n",
      "Epoch: 21   Train Loss: 0.910   Train Accuracy: 80.09    Test Loss: 1.199   Test Accuracy: 67.21\n",
      "Epoch: 22   Train Loss: 0.887   Train Accuracy: 80.82    Test Loss: 1.178   Test Accuracy: 68.27\n",
      "Epoch: 23   Train Loss: 0.864   Train Accuracy: 81.29    Test Loss: 1.166   Test Accuracy: 68.52\n",
      "Epoch: 24   Train Loss: 0.843   Train Accuracy: 82.02    Test Loss: 1.154   Test Accuracy: 68.18\n",
      "Epoch: 25   Train Loss: 0.823   Train Accuracy: 82.66    Test Loss: 1.141   Test Accuracy: 68.39\n",
      "Epoch: 26   Train Loss: 0.802   Train Accuracy: 83.29    Test Loss: 1.125   Test Accuracy: 69.35\n",
      "Epoch: 27   Train Loss: 0.783   Train Accuracy: 83.74    Test Loss: 1.114   Test Accuracy: 69.56\n",
      "Epoch: 28   Train Loss: 0.765   Train Accuracy: 84.20    Test Loss: 1.102   Test Accuracy: 69.81\n",
      "Epoch: 29   Train Loss: 0.746   Train Accuracy: 84.63    Test Loss: 1.089   Test Accuracy: 69.91\n",
      "Epoch: 30   Train Loss: 0.729   Train Accuracy: 85.10    Test Loss: 1.080   Test Accuracy: 69.66\n",
      "Epoch: 31   Train Loss: 0.711   Train Accuracy: 85.57    Test Loss: 1.071   Test Accuracy: 70.02\n",
      "Epoch: 32   Train Loss: 0.694   Train Accuracy: 86.02    Test Loss: 1.058   Test Accuracy: 70.45\n",
      "Epoch: 33   Train Loss: 0.677   Train Accuracy: 86.42    Test Loss: 1.050   Test Accuracy: 70.61\n",
      "Epoch: 34   Train Loss: 0.663   Train Accuracy: 86.84    Test Loss: 1.042   Test Accuracy: 70.26\n",
      "Epoch: 35   Train Loss: 0.647   Train Accuracy: 87.26    Test Loss: 1.033   Test Accuracy: 70.71\n",
      "Epoch: 36   Train Loss: 0.631   Train Accuracy: 87.74    Test Loss: 1.024   Test Accuracy: 70.73\n",
      "Epoch: 37   Train Loss: 0.617   Train Accuracy: 87.97    Test Loss: 1.014   Test Accuracy: 70.75\n",
      "Epoch: 38   Train Loss: 0.602   Train Accuracy: 88.40    Test Loss: 1.007   Test Accuracy: 70.98\n",
      "Epoch: 39   Train Loss: 0.589   Train Accuracy: 88.73    Test Loss: 1.000   Test Accuracy: 70.96\n",
      "Epoch: 40   Train Loss: 0.575   Train Accuracy: 89.12    Test Loss: 0.992   Test Accuracy: 70.97\n",
      "Epoch: 41   Train Loss: 0.561   Train Accuracy: 89.42    Test Loss: 0.988   Test Accuracy: 70.79\n",
      "Epoch: 42   Train Loss: 0.548   Train Accuracy: 89.81    Test Loss: 0.979   Test Accuracy: 71.08\n",
      "Epoch: 43   Train Loss: 0.536   Train Accuracy: 90.14    Test Loss: 0.973   Test Accuracy: 71.18\n",
      "Epoch: 44   Train Loss: 0.524   Train Accuracy: 90.50    Test Loss: 0.969   Test Accuracy: 71.04\n",
      "Epoch: 45   Train Loss: 0.512   Train Accuracy: 90.95    Test Loss: 0.962   Test Accuracy: 71.24\n",
      "Epoch: 46   Train Loss: 0.500   Train Accuracy: 91.27    Test Loss: 0.955   Test Accuracy: 71.22\n",
      "Epoch: 47   Train Loss: 0.488   Train Accuracy: 91.48    Test Loss: 0.948   Test Accuracy: 71.61\n",
      "Epoch: 48   Train Loss: 0.476   Train Accuracy: 92.02    Test Loss: 0.944   Test Accuracy: 71.65\n",
      "Epoch: 49   Train Loss: 0.466   Train Accuracy: 92.35    Test Loss: 0.935   Test Accuracy: 71.97\n",
      "Epoch: 50   Train Loss: 0.455   Train Accuracy: 92.55    Test Loss: 0.932   Test Accuracy: 72.13\n",
      "Epoch: 51   Train Loss: 0.444   Train Accuracy: 92.96    Test Loss: 0.926   Test Accuracy: 72.36\n",
      "Epoch: 52   Train Loss: 0.433   Train Accuracy: 93.19    Test Loss: 0.920   Test Accuracy: 72.63\n",
      "Epoch: 53   Train Loss: 0.424   Train Accuracy: 93.44    Test Loss: 0.919   Test Accuracy: 72.34\n",
      "Epoch: 54   Train Loss: 0.413   Train Accuracy: 93.82    Test Loss: 0.913   Test Accuracy: 72.78\n",
      "Epoch: 55   Train Loss: 0.404   Train Accuracy: 93.91    Test Loss: 0.909   Test Accuracy: 72.91\n",
      "Epoch: 56   Train Loss: 0.394   Train Accuracy: 94.17    Test Loss: 0.905   Test Accuracy: 72.84\n",
      "Epoch: 57   Train Loss: 0.385   Train Accuracy: 94.36    Test Loss: 0.901   Test Accuracy: 73.02\n",
      "Epoch: 58   Train Loss: 0.376   Train Accuracy: 94.71    Test Loss: 0.897   Test Accuracy: 73.27\n",
      "Epoch: 59   Train Loss: 0.366   Train Accuracy: 94.83    Test Loss: 0.895   Test Accuracy: 73.06\n",
      "Epoch: 60   Train Loss: 0.357   Train Accuracy: 95.06    Test Loss: 0.891   Test Accuracy: 73.56\n",
      "Epoch: 61   Train Loss: 0.348   Train Accuracy: 95.26    Test Loss: 0.885   Test Accuracy: 73.24\n",
      "Epoch: 62   Train Loss: 0.340   Train Accuracy: 95.40    Test Loss: 0.884   Test Accuracy: 73.56\n",
      "Epoch: 63   Train Loss: 0.332   Train Accuracy: 95.60    Test Loss: 0.882   Test Accuracy: 73.52\n",
      "Epoch: 64   Train Loss: 0.324   Train Accuracy: 95.68    Test Loss: 0.876   Test Accuracy: 73.62\n",
      "Epoch: 65   Train Loss: 0.316   Train Accuracy: 95.80    Test Loss: 0.876   Test Accuracy: 73.81\n",
      "Epoch: 66   Train Loss: 0.308   Train Accuracy: 96.02    Test Loss: 0.875   Test Accuracy: 73.87\n",
      "Epoch: 67   Train Loss: 0.301   Train Accuracy: 96.05    Test Loss: 0.871   Test Accuracy: 73.88\n",
      "Epoch: 68   Train Loss: 0.293   Train Accuracy: 96.22    Test Loss: 0.870   Test Accuracy: 73.76\n",
      "Epoch: 69   Train Loss: 0.286   Train Accuracy: 96.38    Test Loss: 0.869   Test Accuracy: 74.04\n",
      "Epoch: 70   Train Loss: 0.278   Train Accuracy: 96.54    Test Loss: 0.864   Test Accuracy: 74.37\n",
      "Epoch: 71   Train Loss: 0.271   Train Accuracy: 96.66    Test Loss: 0.863   Test Accuracy: 74.30\n",
      "Epoch: 72   Train Loss: 0.265   Train Accuracy: 96.79    Test Loss: 0.860   Test Accuracy: 74.53\n",
      "Epoch: 73   Train Loss: 0.258   Train Accuracy: 97.01    Test Loss: 0.859   Test Accuracy: 74.55\n",
      "Epoch: 74   Train Loss: 0.252   Train Accuracy: 97.12    Test Loss: 0.858   Test Accuracy: 74.53\n",
      "Epoch: 75   Train Loss: 0.245   Train Accuracy: 97.38    Test Loss: 0.857   Test Accuracy: 74.51\n",
      "Epoch: 76   Train Loss: 0.238   Train Accuracy: 97.48    Test Loss: 0.853   Test Accuracy: 74.80\n",
      "Epoch: 77   Train Loss: 0.232   Train Accuracy: 97.69    Test Loss: 0.853   Test Accuracy: 74.89\n",
      "Epoch: 78   Train Loss: 0.226   Train Accuracy: 97.85    Test Loss: 0.853   Test Accuracy: 75.10\n",
      "Epoch: 79   Train Loss: 0.220   Train Accuracy: 98.04    Test Loss: 0.850   Test Accuracy: 75.11\n",
      "Epoch: 80   Train Loss: 0.214   Train Accuracy: 98.23    Test Loss: 0.849   Test Accuracy: 75.17\n",
      "Epoch: 81   Train Loss: 0.209   Train Accuracy: 98.30    Test Loss: 0.845   Test Accuracy: 75.21\n",
      "Epoch: 82   Train Loss: 0.204   Train Accuracy: 98.49    Test Loss: 0.845   Test Accuracy: 75.18\n",
      "Epoch: 83   Train Loss: 0.198   Train Accuracy: 98.60    Test Loss: 0.845   Test Accuracy: 75.33\n",
      "Epoch: 84   Train Loss: 0.193   Train Accuracy: 98.68    Test Loss: 0.846   Test Accuracy: 75.36\n",
      "Epoch: 85   Train Loss: 0.188   Train Accuracy: 98.84    Test Loss: 0.845   Test Accuracy: 75.28\n"
     ]
    },
    {
     "name": "stdout",
     "output_type": "stream",
     "text": [
      "Epoch: 86   Train Loss: 0.182   Train Accuracy: 98.88    Test Loss: 0.846   Test Accuracy: 75.22\n",
      "Epoch: 87   Train Loss: 0.178   Train Accuracy: 98.99    Test Loss: 0.843   Test Accuracy: 75.53\n",
      "Epoch: 88   Train Loss: 0.173   Train Accuracy: 99.05    Test Loss: 0.843   Test Accuracy: 75.43\n",
      "Epoch: 89   Train Loss: 0.168   Train Accuracy: 99.12    Test Loss: 0.841   Test Accuracy: 75.46\n",
      "Epoch: 90   Train Loss: 0.164   Train Accuracy: 99.16    Test Loss: 0.843   Test Accuracy: 75.59\n",
      "Epoch: 91   Train Loss: 0.159   Train Accuracy: 99.24    Test Loss: 0.841   Test Accuracy: 75.61\n",
      "Epoch: 92   Train Loss: 0.155   Train Accuracy: 99.30    Test Loss: 0.842   Test Accuracy: 75.53\n",
      "Epoch: 93   Train Loss: 0.150   Train Accuracy: 99.36    Test Loss: 0.842   Test Accuracy: 75.67\n",
      "Epoch: 94   Train Loss: 0.146   Train Accuracy: 99.42    Test Loss: 0.842   Test Accuracy: 75.70\n",
      "Epoch: 95   Train Loss: 0.142   Train Accuracy: 99.51    Test Loss: 0.840   Test Accuracy: 75.74\n",
      "Epoch: 96   Train Loss: 0.138   Train Accuracy: 99.55    Test Loss: 0.842   Test Accuracy: 75.74\n",
      "Epoch: 97   Train Loss: 0.134   Train Accuracy: 99.59    Test Loss: 0.841   Test Accuracy: 75.77\n",
      "Epoch: 98   Train Loss: 0.130   Train Accuracy: 99.62    Test Loss: 0.842   Test Accuracy: 75.95\n",
      "Epoch: 99   Train Loss: 0.127   Train Accuracy: 99.69    Test Loss: 0.839   Test Accuracy: 75.98\n",
      "Epoch: 100   Train Loss: 0.123   Train Accuracy: 99.72    Test Loss: 0.840   Test Accuracy: 75.93\n"
     ]
    }
   ],
   "source": [
    "num_epoch = 100\n",
    "\n",
    "a_tr_loss = np.zeros([num_epoch])\n",
    "a_tr_accuracy = np.zeros([num_epoch])\n",
    "a_ts_loss = np.zeros([num_epoch])\n",
    "a_ts_accuracy = np.zeros([num_epoch])\n",
    "\n",
    "for epoch in range(num_epoch):\n",
    "\n",
    "    model.train() # put model in training mode\n",
    "    correct = 0 # initialize error counter\n",
    "    total = 0 # initialize total counter\n",
    "    batch_loss = []\n",
    "    # iterate over training set\n",
    "    for train_iter, data in enumerate(train_loader):\n",
    "        x_batch,y_batch = data\n",
    "        y_batch = y_batch.type(torch.long)\n",
    "        out = model(x_batch)\n",
    "        # Compute Loss\n",
    "        loss = criterion(out,y_batch)\n",
    "        batch_loss.append(loss.item())\n",
    "        # Compute gradients using back propagation\n",
    "        opt.zero_grad()\n",
    "        loss.backward()\n",
    "        # Take an optimization 'step'\n",
    "        opt.step()\n",
    "        # Do hard classification: index of largest score\n",
    "        _, predicted = torch.max(out.data, 1)\n",
    "        # Compute number of decision errors\n",
    "        total += y_batch.size(0)\n",
    "        correct += (predicted == y_batch).sum().item()\n",
    "        \n",
    "    tr_accuracy = 100*correct/total # Compute accuracy over epoch\n",
    "    a_tr_loss[epoch] = np.mean(batch_loss) # Compute average loss over epoch\n",
    "    a_tr_accuracy[epoch] = 100*correct/total\n",
    "\n",
    "    model.eval() # put model in evaluation mode\n",
    "    correct = 0 # initialize error counter\n",
    "    total = 0 # initialize total counter\n",
    "    batch_loss = []\n",
    "    with torch.no_grad():\n",
    "        for data in test_loader:\n",
    "            images, labels = data\n",
    "            labels = labels.type(torch.long)\n",
    "            outputs = model(images)\n",
    "            batch_loss.append(criterion(outputs,labels).item())\n",
    "            _, predicted = torch.max(outputs.data, 1)\n",
    "            total += labels.size(0)\n",
    "            correct += (predicted == labels).sum().item()\n",
    "            \n",
    "    a_ts_loss[epoch] = np.mean(batch_loss)\n",
    "    a_ts_accuracy[epoch] = 100*correct/total\n",
    "    # Print details every print_mod epoch\n",
    "    print('Epoch: {0:2d}   Train Loss: {1:.3f}   '.format(epoch+1, a_tr_loss[epoch])\n",
    "          +'Train Accuracy: {0:.2f}    Test Loss: {1:.3f}   '.format(a_tr_accuracy[epoch], a_ts_loss[epoch])\n",
    "          +'Test Accuracy: {0:.2f}'.format(a_ts_accuracy[epoch]))\n",
    "        "
   ]
  },
  {
   "cell_type": "code",
   "execution_count": 88,
   "metadata": {
    "scrolled": false
   },
   "outputs": [
    {
     "data": {
      "text/plain": [
       "<matplotlib.legend.Legend at 0x1a20a53320>"
      ]
     },
     "execution_count": 88,
     "metadata": {},
     "output_type": "execute_result"
    },
    {
     "data": {
      "image/png": "[encoded data removed]",
      "text/plain": [
       "<Figure size 432x288 with 1 Axes>"
      ]
     },
     "metadata": {
      "needs_background": "light"
     },
     "output_type": "display_data"
    }
   ],
   "source": [
    "plt.plot(a_tr_accuracy)\n",
    "plt.plot(a_ts_accuracy)\n",
    "plt.grid()\n",
    "plt.xlabel('epochs')\n",
    "plt.ylabel('accuracy')\n",
    "plt.legend(['training accuracy', 'test accuracy'])"
   ]
  },
  {
   "cell_type": "code",
   "execution_count": 89,
   "metadata": {},
   "outputs": [
    {
     "data": {
      "text/plain": [
       "<matplotlib.colorbar.Colorbar at 0x1a1f0e3550>"
      ]
     },
     "execution_count": 89,
     "metadata": {},
     "output_type": "execute_result"
    },
    {
     "data": {
      "image/png": "[encoded data removed]",
      "text/plain": [
       "<Figure size 864x864 with 2 Axes>"
      ]
     },
     "metadata": {
      "needs_background": "light"
     },
     "output_type": "display_data"
    }
   ],
   "source": [
    "# Here we use the model to see its prediction for all X test and compare the prediction to actual y_test\n",
    "yhat_temp = model(Xts_torch)\n",
    "_, yhat_nn = torch.max(yhat_temp.data, 1)\n",
    "C = confusion_matrix(y_test,yhat_nn)\n",
    "\n",
    "# Normalize the confusion matrix\n",
    "Csum = np.sum(C,1)\n",
    "C = C / Csum[None,:]\n",
    "\n",
    "# Print the confusion matrix\n",
    "plt.figure(figsize=(12, 12))\n",
    "plt.subplots_adjust(left=.2, right=0.95, bottom=0.4, top=0.95)\n",
    "plt.imshow(C, interpolation='none')\n",
    "plt.xlabel(\"Predicted\", fontsize= 'x-large')\n",
    "plt.ylabel(\"True\", fontsize= 'x-large')\n",
    "plt.title(\"Predicted vs. True of Simple NN\", fontsize= 'xx-large')\n",
    "plt.xticks(np.arange(24), alphabet)\n",
    "plt.yticks(np.arange(24), alphabet)\n",
    "plt.colorbar()"
   ]
  },
  {
   "cell_type": "markdown",
   "metadata": {},
   "source": [
    "## Basic Convolution Neural Network\n",
    "\n",
    "The following sections show how we made a CNN. We used parts of the cnn_convolutions and cnn_classifiers demos to help us reshape our tensors."
   ]
  },
  {
   "cell_type": "code",
   "execution_count": 90,
   "metadata": {},
   "outputs": [],
   "source": [
    "# Here we will reshape the 784 array into 28x28 images or boxes\n",
    "nrow = 28\n",
    "ncol = 28\n",
    "\n",
    "Xtr_box = np.zeros((X_train.shape[0],nrow,ncol))\n",
    "for i in range(np.shape(X_train)[0]):\n",
    "    Xtr_box[i] = X_train[i].reshape((nrow,ncol))\n",
    "\n",
    "Xts_box =  np.zeros((X_test.shape[0],nrow,ncol))\n",
    "for i in range(np.shape(X_test)[0]):\n",
    "    Xts_box[i] = X_test[i].reshape((nrow,ncol))"
   ]
  },
  {
   "cell_type": "code",
   "execution_count": 91,
   "metadata": {},
   "outputs": [
    {
     "name": "stdout",
     "output_type": "stream",
     "text": [
      "(7172, 1, 28, 28)\n"
     ]
    }
   ],
   "source": [
    "# Here we reshape again, adding channel to the dimension (1 channel)\n",
    "# This is adapted from a section of the convolution demo\n",
    "nchan_in = 1       # number of input channels = 1 since it is a greyscale image\n",
    "reshape_tr = (Xtr_box.shape[0],nchan_in,nrow,ncol)\n",
    "reshape_ts = (Xts_box.shape[0],nchan_in,nrow,ncol)\n",
    "\n",
    "Xtr = Xtr_box.reshape(reshape_tr)\n",
    "Xts = Xts_box.reshape(reshape_ts)\n",
    "print(Xts.shape)"
   ]
  },
  {
   "cell_type": "code",
   "execution_count": 92,
   "metadata": {
    "scrolled": true
   },
   "outputs": [],
   "source": [
    "# We got some assistance from the link below, but nothing is directly copied or used. Most is from the demos\n",
    "# https://adventuresinmachinelearning.com/convolutional-neural-networks-tutorial-in-pytorch/\n",
    "batch_size = 64\n",
    "\n",
    "# Convert the numpy arrays to PyTorch tensors\n",
    "Xtr_torch = torch.Tensor(Xtr)\n",
    "ytr_torch = torch.Tensor(y_train)\n",
    "Xts_torch = torch.Tensor(Xts)\n",
    "yts_torch = torch.Tensor(y_test)\n",
    "\n",
    "# Create a training Dataset\n",
    "train_ds = torch.utils.data.TensorDataset(Xtr_torch, ytr_torch)\n",
    "# Creates a training DataLoader from this Dataset\n",
    "train_loader = torch.utils.data.DataLoader(train_ds, batch_size=batch_size, shuffle=True) \n",
    "\n",
    "# Create a testing Dataset\n",
    "test_ds = torch.utils.data.TensorDataset(Xts_torch, yts_torch)\n",
    "# Creates a testing DataLoader from this Dataset\n",
    "test_loader = torch.utils.data.DataLoader(test_ds, batch_size=batch_size)"
   ]
  },
  {
   "cell_type": "code",
   "execution_count": 93,
   "metadata": {},
   "outputs": [],
   "source": [
    "# For making the model we had to change the input channel to 1, and our image started\n",
    "# as 28x28 so halved is 14x14 and again is 7x7\n",
    "\n",
    "num_classes = int(np.max(y_test)+1)\n",
    "\n",
    "class BasicCNN(nn.Module):\n",
    "    def __init__(self):\n",
    "        super(BasicCNN, self).__init__()\n",
    "        self.relu = nn.ReLU()\n",
    "        self.pool = nn.MaxPool2d(2,2)\n",
    "        \n",
    "        self.conv1 = nn.Conv2d(1,16,3,padding=1)\n",
    "        # outputs 16 channels of 14x14\n",
    "        \n",
    "        self.conv2 = nn.Conv2d(16,16,3,padding=1)\n",
    "        # outputs 16 channels of 7x7\n",
    "        \n",
    "        self.fc1 = nn.Linear(16*7*7, 392) #392 is 784/2\n",
    "        self.fc2 = nn.Linear(392, num_classes)\n",
    "        \n",
    "    def forward(self,x):\n",
    "        x = self.pool(self.relu(self.conv1(x)))\n",
    "        x = self.pool(self.relu(self.conv2(x)))\n",
    "        x = x.view(x.size(0),-1)\n",
    "        x = self.relu(self.fc1(x))\n",
    "        x = self.fc2(x)\n",
    "        return x\n",
    "\n",
    "model = BasicCNN()"
   ]
  },
  {
   "cell_type": "code",
   "execution_count": 94,
   "metadata": {},
   "outputs": [],
   "source": [
    "epochs = 20\n",
    "lrate = .05\n",
    "# with lr .05 = 93.6\n",
    "decay = lrate/epochs"
   ]
  },
  {
   "cell_type": "code",
   "execution_count": 95,
   "metadata": {},
   "outputs": [
    {
     "name": "stdout",
     "output_type": "stream",
     "text": [
      "BasicCNN(\n",
      "  (relu): ReLU()\n",
      "  (pool): MaxPool2d(kernel_size=2, stride=2, padding=0, dilation=1, ceil_mode=False)\n",
      "  (conv1): Conv2d(1, 16, kernel_size=(3, 3), stride=(1, 1), padding=(1, 1))\n",
      "  (conv2): Conv2d(16, 16, kernel_size=(3, 3), stride=(1, 1), padding=(1, 1))\n",
      "  (fc1): Linear(in_features=784, out_features=392, bias=True)\n",
      "  (fc2): Linear(in_features=392, out_features=24, bias=True)\n",
      ")\n"
     ]
    }
   ],
   "source": [
    "# initiate Adam optimizer\n",
    "opt = optim.Adam(model.parameters(), lr=lrate)\n",
    "\n",
    "# Create learning rate scheduler\n",
    "lambda1 = lambda epoch: lrate - decay*epoch\n",
    "scheduler = optim.lr_scheduler.LambdaLR(opt, lr_lambda=lambda1)\n",
    "\n",
    "# initiate loss function\n",
    "criterion = nn.CrossEntropyLoss()\n",
    "\n",
    "print(str(model))"
   ]
  },
  {
   "cell_type": "code",
   "execution_count": 96,
   "metadata": {},
   "outputs": [
    {
     "name": "stdout",
     "output_type": "stream",
     "text": [
      "Epoch:  1   Train Accuracy: 85.128%   Test Accuracy: 90.240%\n",
      "Epoch:  2   Train Accuracy: 99.858%   Test Accuracy: 92.150%\n",
      "Epoch:  3   Train Accuracy: 100.000%   Test Accuracy: 92.011%\n",
      "Epoch:  4   Train Accuracy: 99.017%   Test Accuracy: 92.331%\n",
      "Epoch:  5   Train Accuracy: 100.000%   Test Accuracy: 92.805%\n",
      "Epoch:  6   Train Accuracy: 100.000%   Test Accuracy: 92.819%\n",
      "Epoch:  7   Train Accuracy: 100.000%   Test Accuracy: 92.861%\n",
      "Epoch:  8   Train Accuracy: 100.000%   Test Accuracy: 92.959%\n",
      "Epoch:  9   Train Accuracy: 100.000%   Test Accuracy: 93.001%\n",
      "Epoch: 10   Train Accuracy: 100.000%   Test Accuracy: 93.015%\n",
      "Epoch: 11   Train Accuracy: 100.000%   Test Accuracy: 93.015%\n",
      "Epoch: 12   Train Accuracy: 100.000%   Test Accuracy: 93.015%\n",
      "Epoch: 13   Train Accuracy: 100.000%   Test Accuracy: 93.098%\n",
      "Epoch: 14   Train Accuracy: 100.000%   Test Accuracy: 93.056%\n",
      "Epoch: 15   Train Accuracy: 100.000%   Test Accuracy: 93.140%\n",
      "Epoch: 16   Train Accuracy: 100.000%   Test Accuracy: 93.154%\n",
      "Epoch: 17   Train Accuracy: 100.000%   Test Accuracy: 93.168%\n",
      "Epoch: 18   Train Accuracy: 100.000%   Test Accuracy: 93.210%\n",
      "Epoch: 19   Train Accuracy: 100.000%   Test Accuracy: 93.196%\n",
      "Epoch: 20   Train Accuracy: 100.000%   Test Accuracy: 93.196%\n",
      "Done!\n"
     ]
    }
   ],
   "source": [
    "basic_tr_accuracy = []\n",
    "basic_ts_accuracy = []\n",
    "\n",
    "for epoch in range(epochs):\n",
    "    # Take scheduler step\n",
    "    scheduler.step()\n",
    "    \n",
    "    correct = 0 # initialize error counter\n",
    "    total = 0 # initialize total counter\n",
    "    model.train() # put model in training mode\n",
    "    # iterate over training set\n",
    "    for train_iter, data in enumerate(train_loader):\n",
    "        x_batch,y_batch = data\n",
    "        y_batch = y_batch.type(torch.long)\n",
    "        out = model(x_batch)\n",
    "        # Compute Loss\n",
    "        loss = criterion(out,y_batch)\n",
    "        # Zero gradients\n",
    "        opt.zero_grad()\n",
    "        # Compute gradients using back propagation\n",
    "        loss.backward()\n",
    "        # Take an optimization 'step'\n",
    "        opt.step()\n",
    "        \n",
    "        # Compute Accuracy\n",
    "        _, predicted = torch.max(out.data, 1)\n",
    "        total += y_batch.size(0)\n",
    "        correct += (predicted == y_batch).sum().item()\n",
    "        \n",
    "\n",
    "    basic_tr_accuracy.append( 100*correct/total )\n",
    "    \n",
    "    correct = 0\n",
    "    total = 0\n",
    "    model.eval() # put model in evaluation mode\n",
    "    with torch.no_grad():\n",
    "        for data in test_loader:\n",
    "            images, labels = data\n",
    "            labels = labels.type(torch.long)\n",
    "            outputs = model(images)\n",
    "            _, predicted = torch.max(outputs.data, 1)\n",
    "            total += labels.size(0)\n",
    "            correct += (predicted == labels).sum().item()\n",
    "    \n",
    "    basic_ts_accuracy.append( 100*correct/total )\n",
    "    \n",
    "    # Print details every print_mod epoch\n",
    "    print('Epoch: {0:2d}   Train Accuracy: {1:.3f}%   Test Accuracy: {2:.3f}%'.format(epoch+1, basic_tr_accuracy[epoch], basic_ts_accuracy[epoch]))\n",
    "        \n",
    "\n",
    "print('Done!')"
   ]
  },
  {
   "cell_type": "code",
   "execution_count": 97,
   "metadata": {},
   "outputs": [
    {
     "data": {
      "text/plain": [
       "<matplotlib.colorbar.Colorbar at 0x1a2b2e62e8>"
      ]
     },
     "execution_count": 97,
     "metadata": {},
     "output_type": "execute_result"
    },
    {
     "data": {
      "image/png": "[encoded data removed]",
      "text/plain": [
       "<Figure size 864x864 with 2 Axes>"
      ]
     },
     "metadata": {
      "needs_background": "light"
     },
     "output_type": "display_data"
    }
   ],
   "source": [
    "yhat_temp = model(Xts_torch)\n",
    "_, yhat_cnn = torch.max(yhat_temp.data, 1)\n",
    "C = confusion_matrix(y_test,yhat_cnn)\n",
    "\n",
    "# Normalize the confusion matrix\n",
    "Csum = np.sum(C,1)\n",
    "C = C / Csum[None,:]\n",
    "\n",
    "# Print the confusion matrix\n",
    "plt.figure(figsize=(12, 12))\n",
    "plt.subplots_adjust(left=.2, right=0.95, bottom=0.4, top=0.95)\n",
    "plt.imshow(C, interpolation='none')\n",
    "plt.xlabel(\"Predicted\", fontsize= 'x-large')\n",
    "plt.ylabel(\"True\", fontsize= 'x-large')\n",
    "plt.title(\"Predicted vs. True of Basic CNN\", fontsize= 'xx-large')\n",
    "plt.xticks(np.arange(24), alphabet)\n",
    "plt.yticks(np.arange(24), alphabet)\n",
    "plt.colorbar()"
   ]
  },
  {
   "cell_type": "markdown",
   "metadata": {},
   "source": [
    "## Convolution Neural Network with Batch Norm\n",
    "\n",
    "The following sections show how we made a CNN with Batch Normalization. We used parts of the cnn_classifiers demo with modifications. "
   ]
  },
  {
   "cell_type": "code",
   "execution_count": 98,
   "metadata": {
    "scrolled": true
   },
   "outputs": [
    {
     "name": "stdout",
     "output_type": "stream",
     "text": [
      "BNNet(\n",
      "  (relu): ReLU()\n",
      "  (pool): MaxPool2d(kernel_size=2, stride=2, padding=0, dilation=1, ceil_mode=False)\n",
      "  (conv1): Conv2d(1, 16, kernel_size=(3, 3), stride=(1, 1), padding=(1, 1))\n",
      "  (bn1): BatchNorm2d(16, eps=1e-05, momentum=0.1, affine=True, track_running_stats=True)\n",
      "  (conv2): Conv2d(16, 16, kernel_size=(3, 3), stride=(1, 1), padding=(1, 1))\n",
      "  (bn2): BatchNorm1d(784, eps=1e-05, momentum=0.1, affine=True, track_running_stats=True)\n",
      "  (fc1): Linear(in_features=784, out_features=392, bias=True)\n",
      "  (bn3): BatchNorm1d(392, eps=1e-05, momentum=0.1, affine=True, track_running_stats=True)\n",
      "  (fc2): Linear(in_features=392, out_features=24, bias=True)\n",
      ")\n"
     ]
    }
   ],
   "source": [
    "class BNNet(nn.Module):\n",
    "    def __init__(self):\n",
    "        super(BNNet, self).__init__()\n",
    "        self.relu = nn.ReLU()\n",
    "        self.pool = nn.MaxPool2d(2,2)\n",
    "        self.conv1 = nn.Conv2d(1,16,3,padding=1)\n",
    "        self.bn1 = nn.BatchNorm2d(16)\n",
    "        self.conv2 = nn.Conv2d(16,16,3,padding=1)\n",
    "        self.bn2 = nn.BatchNorm1d(16*7**2)\n",
    "        self.fc1 = nn.Linear(16*7**2, 392)\n",
    "        self.bn3 = nn.BatchNorm1d(392)\n",
    "        self.fc2 = nn.Linear(392, num_classes)\n",
    "        \n",
    "    def forward(self,x):\n",
    "        x = self.bn1(self.pool(self.relu(self.conv1(x))))\n",
    "        x = self.pool(self.relu(self.conv2(x)))\n",
    "        x = self.bn2(x.view(x.size(0),-1))\n",
    "        x = self.bn3(self.relu(self.fc1(x)))\n",
    "        x = self.fc2(x)\n",
    "        return x\n",
    "\n",
    "\n",
    "model = BNNet()\n",
    "\n",
    "\n",
    "# initiate Adam optimizer\n",
    "opt = optim.Adam(model.parameters(), lr=lrate)\n",
    "\n",
    "# Create learning rate scheduler\n",
    "lambda1 = lambda epoch: lrate - decay*epoch\n",
    "scheduler = optim.lr_scheduler.LambdaLR(opt, lr_lambda=lambda1)\n",
    "\n",
    "# initiate loss function\n",
    "criterion = nn.CrossEntropyLoss()\n",
    "\n",
    "print(str(model))"
   ]
  },
  {
   "cell_type": "code",
   "execution_count": 99,
   "metadata": {},
   "outputs": [
    {
     "name": "stdout",
     "output_type": "stream",
     "text": [
      "Epoch:  1   Train Accuracy: 96.074%   Test Accuracy: 93.252%\n",
      "Epoch:  2   Train Accuracy: 100.000%   Test Accuracy: 93.949%\n",
      "Epoch:  3   Train Accuracy: 100.000%   Test Accuracy: 93.837%\n",
      "Epoch:  4   Train Accuracy: 100.000%   Test Accuracy: 94.200%\n",
      "Epoch:  5   Train Accuracy: 100.000%   Test Accuracy: 93.865%\n",
      "Epoch:  6   Train Accuracy: 100.000%   Test Accuracy: 94.074%\n",
      "Epoch:  7   Train Accuracy: 100.000%   Test Accuracy: 93.949%\n",
      "Epoch:  8   Train Accuracy: 100.000%   Test Accuracy: 93.991%\n",
      "Epoch:  9   Train Accuracy: 100.000%   Test Accuracy: 93.963%\n",
      "Epoch: 10   Train Accuracy: 100.000%   Test Accuracy: 93.949%\n",
      "Epoch: 11   Train Accuracy: 100.000%   Test Accuracy: 93.907%\n",
      "Epoch: 12   Train Accuracy: 100.000%   Test Accuracy: 94.074%\n",
      "Epoch: 13   Train Accuracy: 100.000%   Test Accuracy: 94.269%\n",
      "Epoch: 14   Train Accuracy: 100.000%   Test Accuracy: 94.130%\n",
      "Epoch: 15   Train Accuracy: 100.000%   Test Accuracy: 94.004%\n",
      "Epoch: 16   Train Accuracy: 100.000%   Test Accuracy: 93.977%\n",
      "Epoch: 17   Train Accuracy: 100.000%   Test Accuracy: 94.116%\n",
      "Epoch: 18   Train Accuracy: 100.000%   Test Accuracy: 94.172%\n",
      "Epoch: 19   Train Accuracy: 100.000%   Test Accuracy: 93.767%\n",
      "Epoch: 20   Train Accuracy: 100.000%   Test Accuracy: 93.823%\n",
      "Done!\n"
     ]
    }
   ],
   "source": [
    "batch_tr_accuracy = []\n",
    "batch_ts_accuracy = []\n",
    "\n",
    "for epoch in range(epochs):\n",
    "    # Take scheduler step\n",
    "    scheduler.step()\n",
    "    \n",
    "    correct = 0 # initialize error counter\n",
    "    total = 0 # initialize total counter\n",
    "    model.train() # put model in training mode\n",
    "    # iterate over training set\n",
    "    for train_iter, data in enumerate(train_loader):\n",
    "        x_batch,y_batch = data\n",
    "        y_batch = y_batch.type(torch.long)\n",
    "        out = model(x_batch)\n",
    "        # Compute Loss\n",
    "        loss = criterion(out,y_batch)\n",
    "        # Zero gradients\n",
    "        opt.zero_grad()\n",
    "        # Compute gradients using back propagation\n",
    "        loss.backward()\n",
    "        # Take an optimization 'step'\n",
    "        opt.step()\n",
    "        \n",
    "        # Compute Accuracy\n",
    "        _, predicted = torch.max(out.data, 1)\n",
    "        total += y_batch.size(0)\n",
    "        correct += (predicted == y_batch).sum().item()\n",
    "        \n",
    "\n",
    "    batch_tr_accuracy.append( 100*correct/total )\n",
    "    \n",
    "    correct = 0\n",
    "    total = 0\n",
    "    model.eval() # put model in evaluation mode\n",
    "    with torch.no_grad():\n",
    "        for data in test_loader:\n",
    "            images, labels = data\n",
    "            labels = labels.type(torch.long)\n",
    "            outputs = model(images)\n",
    "            _, predicted = torch.max(outputs.data, 1)\n",
    "            total += labels.size(0)\n",
    "            correct += (predicted == labels).sum().item()\n",
    "    \n",
    "    batch_ts_accuracy.append( 100*correct/total )\n",
    "    \n",
    "    # Print details every print_mod epoch\n",
    "    print('Epoch: {0:2d}   Train Accuracy: {1:.3f}%   Test Accuracy: {2:.3f}%'.format(epoch+1, batch_tr_accuracy[epoch], batch_ts_accuracy[epoch]))\n",
    "        \n",
    "\n",
    "print('Done!')"
   ]
  },
  {
   "cell_type": "code",
   "execution_count": 100,
   "metadata": {},
   "outputs": [
    {
     "data": {
      "text/plain": [
       "<matplotlib.colorbar.Colorbar at 0x1a1fbd79b0>"
      ]
     },
     "execution_count": 100,
     "metadata": {},
     "output_type": "execute_result"
    },
    {
     "data": {
      "image/png": "[encoded data removed]",
      "text/plain": [
       "<Figure size 864x864 with 2 Axes>"
      ]
     },
     "metadata": {
      "needs_background": "light"
     },
     "output_type": "display_data"
    }
   ],
   "source": [
    "yhat_temp = model(Xts_torch)\n",
    "_, yhat_batch = torch.max(yhat_temp.data, 1)\n",
    "C = confusion_matrix(y_test,yhat_batch)\n",
    "\n",
    "# Normalize the confusion matrix\n",
    "Csum = np.sum(C,1)\n",
    "C = C / Csum[None,:]\n",
    "\n",
    "# Print the confusion matrix\n",
    "plt.figure(figsize=(12, 12))\n",
    "plt.subplots_adjust(left=.2, right=0.95, bottom=0.4, top=0.95)\n",
    "plt.imshow(C, interpolation='none')\n",
    "plt.xlabel(\"Predicted\", fontsize= 'x-large')\n",
    "plt.ylabel(\"True\", fontsize= 'x-large')\n",
    "plt.title(\"Pred. vs. True of CNN with Batch Norm\", fontsize= 'xx-large')\n",
    "plt.xticks(np.arange(24), alphabet)\n",
    "plt.yticks(np.arange(24), alphabet)\n",
    "plt.colorbar()"
   ]
  },
  {
   "cell_type": "markdown",
   "metadata": {},
   "source": [
    "## Convolution Neural Network with Batch Norm and Dropout\n",
    "\n",
    "The following sections show how we made a CNN with Batch Normalization and Dropout. We used parts of the cnn_classifiers demo with modifications."
   ]
  },
  {
   "cell_type": "code",
   "execution_count": 101,
   "metadata": {},
   "outputs": [
    {
     "name": "stdout",
     "output_type": "stream",
     "text": [
      "DropoutNet(\n",
      "  (relu): ReLU()\n",
      "  (conv1): Conv2d(1, 16, kernel_size=(3, 3), stride=(1, 1), padding=(1, 1))\n",
      "  (pool): MaxPool2d(kernel_size=2, stride=2, padding=0, dilation=1, ceil_mode=False)\n",
      "  (bn1): BatchNorm2d(16, eps=1e-05, momentum=0.1, affine=True, track_running_stats=True)\n",
      "  (dropout1): Dropout2d(p=0.25)\n",
      "  (conv2): Conv2d(16, 16, kernel_size=(3, 3), stride=(1, 1), padding=(1, 1))\n",
      "  (bn2): BatchNorm1d(784, eps=1e-05, momentum=0.1, affine=True, track_running_stats=True)\n",
      "  (dropout2): Dropout(p=0.5)\n",
      "  (fc1): Linear(in_features=784, out_features=392, bias=True)\n",
      "  (bn3): BatchNorm1d(392, eps=1e-05, momentum=0.1, affine=True, track_running_stats=True)\n",
      "  (dropout3): Dropout(p=0.5)\n",
      "  (fc2): Linear(in_features=392, out_features=24, bias=True)\n",
      ")\n"
     ]
    }
   ],
   "source": [
    "# network with dropout and BN\n",
    "class DropoutNet(nn.Module):\n",
    "    def __init__(self):\n",
    "        super(DropoutNet, self).__init__()\n",
    "        self.relu = nn.ReLU()\n",
    "        self.conv1 = nn.Conv2d(1,16,3,padding=1)\n",
    "        self.pool = nn.MaxPool2d(2,2)\n",
    "        self.bn1 = nn.BatchNorm2d(16)\n",
    "        self.dropout1 = nn.Dropout2d(p=0.25)\n",
    "        self.conv2 = nn.Conv2d(16,16,3,padding=1)\n",
    "        self.bn2 = nn.BatchNorm1d(16*7**2)\n",
    "        self.dropout2 = nn.Dropout(p=0.5)\n",
    "        self.fc1 = nn.Linear(16*7**2, 392)\n",
    "        self.bn3 = nn.BatchNorm1d(392)\n",
    "        self.dropout3 = nn.Dropout(p=0.5)\n",
    "        self.fc2 = nn.Linear(392, num_classes)\n",
    "        \n",
    "    def forward(self,x):\n",
    "        x = self.dropout1(self.bn1(self.pool(self.relu(self.conv1(x)))))\n",
    "        #x = self.bn1(self.pool(self.relu(self.conv1(x))))\n",
    "        x = self.pool(self.relu(self.conv2(x)))\n",
    "        x = self.dropout2(self.bn2(x.view(x.size(0),-1)))\n",
    "        x = self.dropout3(self.bn3(self.relu(self.fc1(x))))\n",
    "        x = self.fc2(x)\n",
    "        return x\n",
    "\n",
    "model = DropoutNet()\n",
    "\n",
    "# initiate Adam optimizer\n",
    "opt = optim.Adam(model.parameters(), lr=lrate)\n",
    "\n",
    "# Create learning rate scheduler\n",
    "lambda1 = lambda epoch: lrate - decay*epoch\n",
    "scheduler = optim.lr_scheduler.LambdaLR(opt, lr_lambda=lambda1)\n",
    "\n",
    "# initiate loss function\n",
    "criterion = nn.CrossEntropyLoss()\n",
    "\n",
    "print(str(model))"
   ]
  },
  {
   "cell_type": "code",
   "execution_count": 102,
   "metadata": {},
   "outputs": [
    {
     "name": "stdout",
     "output_type": "stream",
     "text": [
      "Epoch:  1   Train Accuracy: 81.246%   Test Accuracy: 91.718%\n",
      "Epoch:  2   Train Accuracy: 95.236%   Test Accuracy: 94.855%\n",
      "Epoch:  3   Train Accuracy: 96.911%   Test Accuracy: 94.548%\n",
      "Epoch:  4   Train Accuracy: 97.618%   Test Accuracy: 94.702%\n",
      "Epoch:  5   Train Accuracy: 97.844%   Test Accuracy: 95.106%\n",
      "Epoch:  6   Train Accuracy: 98.230%   Test Accuracy: 95.050%\n",
      "Epoch:  7   Train Accuracy: 98.587%   Test Accuracy: 95.747%\n",
      "Epoch:  8   Train Accuracy: 98.561%   Test Accuracy: 95.482%\n",
      "Epoch:  9   Train Accuracy: 98.824%   Test Accuracy: 95.106%\n",
      "Epoch: 10   Train Accuracy: 98.933%   Test Accuracy: 96.263%\n",
      "Epoch: 11   Train Accuracy: 98.893%   Test Accuracy: 96.291%\n",
      "Epoch: 12   Train Accuracy: 99.009%   Test Accuracy: 95.510%\n",
      "Epoch: 13   Train Accuracy: 99.199%   Test Accuracy: 95.901%\n",
      "Epoch: 14   Train Accuracy: 99.235%   Test Accuracy: 96.166%\n",
      "Epoch: 15   Train Accuracy: 99.381%   Test Accuracy: 96.249%\n",
      "Epoch: 16   Train Accuracy: 99.432%   Test Accuracy: 96.166%\n",
      "Epoch: 17   Train Accuracy: 99.454%   Test Accuracy: 95.761%\n",
      "Epoch: 18   Train Accuracy: 99.526%   Test Accuracy: 96.305%\n",
      "Epoch: 19   Train Accuracy: 99.530%   Test Accuracy: 96.431%\n",
      "Epoch: 20   Train Accuracy: 99.519%   Test Accuracy: 96.333%\n",
      "Done!\n"
     ]
    }
   ],
   "source": [
    "drop_tr_accuracy = []\n",
    "drop_ts_accuracy = []\n",
    "\n",
    "for epoch in range(epochs):\n",
    "    # Take scheduler step\n",
    "    scheduler.step()\n",
    "    \n",
    "    correct = 0 # initialize error counter\n",
    "    total = 0 # initialize total counter\n",
    "    model.train() # put model in training mode\n",
    "    # iterate over training set\n",
    "    for train_iter, data in enumerate(train_loader):\n",
    "        x_batch,y_batch = data\n",
    "        y_batch = y_batch.type(torch.long)\n",
    "        out = model(x_batch)\n",
    "        # Compute Loss\n",
    "        loss = criterion(out,y_batch)\n",
    "        # Zero gradients\n",
    "        opt.zero_grad()\n",
    "        # Compute gradients using back propagation\n",
    "        loss.backward()\n",
    "        # Take an optimization 'step'\n",
    "        opt.step()\n",
    "        \n",
    "        # Compute Accuracy\n",
    "        _, predicted = torch.max(out.data, 1)\n",
    "        total += y_batch.size(0)\n",
    "        correct += (predicted == y_batch).sum().item()\n",
    "        \n",
    "\n",
    "    drop_tr_accuracy.append( 100*correct/total )\n",
    "    \n",
    "    correct = 0\n",
    "    total = 0\n",
    "    model.eval() # put model in evaluation mode\n",
    "    with torch.no_grad():\n",
    "        for data in test_loader:\n",
    "            images, labels = data\n",
    "            labels = labels.type(torch.long)\n",
    "            outputs = model(images)\n",
    "            _, predicted = torch.max(outputs.data, 1)\n",
    "            total += labels.size(0)\n",
    "            correct += (predicted == labels).sum().item()\n",
    "    \n",
    "    drop_ts_accuracy.append( 100*correct/total )\n",
    "    \n",
    "    # Print details every print_mod epoch\n",
    "    print('Epoch: {0:2d}   Train Accuracy: {1:.3f}%   Test Accuracy: {2:.3f}%'.format(epoch+1, drop_tr_accuracy[epoch], drop_ts_accuracy[epoch]))\n",
    "        \n",
    "\n",
    "print('Done!')"
   ]
  },
  {
   "cell_type": "code",
   "execution_count": 103,
   "metadata": {},
   "outputs": [
    {
     "data": {
      "text/plain": [
       "<matplotlib.colorbar.Colorbar at 0x1a1fc87940>"
      ]
     },
     "execution_count": 103,
     "metadata": {},
     "output_type": "execute_result"
    },
    {
     "data": {
      "image/png": "[encoded data removed]",
      "text/plain": [
       "<Figure size 864x864 with 2 Axes>"
      ]
     },
     "metadata": {
      "needs_background": "light"
     },
     "output_type": "display_data"
    }
   ],
   "source": [
    "yhat_temp = model(Xts_torch)\n",
    "_, yhat_drop = torch.max(yhat_temp.data, 1)\n",
    "C = confusion_matrix(y_test,yhat_drop)\n",
    "\n",
    "# Normalize the confusion matrix\n",
    "Csum = np.sum(C,1)\n",
    "C = C / Csum[None,:]\n",
    "\n",
    "# Print the confusion matrix\n",
    "plt.figure(figsize=(12, 12))\n",
    "plt.subplots_adjust(left=.2, right=0.95, bottom=0.4, top=0.95)\n",
    "plt.imshow(C, interpolation='none')\n",
    "plt.xlabel(\"Predicted\", fontsize= 'x-large')\n",
    "plt.ylabel(\"True\", fontsize= 'x-large')\n",
    "plt.title(\"Pred. vs. True of CNN with BN & Dropout\", fontsize= 'xx-large')\n",
    "plt.xticks(np.arange(24), alphabet)\n",
    "plt.yticks(np.arange(24), alphabet)\n",
    "plt.colorbar()"
   ]
  },
  {
   "cell_type": "markdown",
   "metadata": {},
   "source": [
    "## A Slightly More Advanced CNN\n",
    "\n",
    "In the next section we messed around with some settings and added a few layers to see how it would impact overall prediction. "
   ]
  },
  {
   "cell_type": "code",
   "execution_count": 111,
   "metadata": {},
   "outputs": [
    {
     "name": "stdout",
     "output_type": "stream",
     "text": [
      "AdvNet(\n",
      "  (relu): ReLU()\n",
      "  (pool): MaxPool2d(kernel_size=2, stride=2, padding=0, dilation=1, ceil_mode=False)\n",
      "  (avg): AvgPool2d(kernel_size=2, stride=1, padding=0)\n",
      "  (conv1): Conv2d(1, 32, kernel_size=(5, 5), stride=(1, 1), padding=(2, 2))\n",
      "  (bn1): BatchNorm2d(32, eps=1e-05, momentum=0.1, affine=True, track_running_stats=True)\n",
      "  (dropout1): Dropout2d(p=0.25)\n",
      "  (conv2): Conv2d(32, 24, kernel_size=(4, 4), stride=(1, 1), padding=(1, 1))\n",
      "  (bn2): BatchNorm2d(24, eps=1e-05, momentum=0.1, affine=True, track_running_stats=True)\n",
      "  (dropout2): Dropout2d(p=0.25)\n",
      "  (conv3): Conv2d(24, 16, kernel_size=(3, 3), stride=(1, 1), padding=(1, 1))\n",
      "  (bn3): BatchNorm1d(576, eps=1e-05, momentum=0.1, affine=True, track_running_stats=True)\n",
      "  (dropout3): Dropout(p=0.25)\n",
      "  (fc1): Linear(in_features=576, out_features=288, bias=True)\n",
      "  (bn4): BatchNorm1d(288, eps=1e-05, momentum=0.1, affine=True, track_running_stats=True)\n",
      "  (dropout4): Dropout(p=0.25)\n",
      "  (fc2): Linear(in_features=288, out_features=144, bias=True)\n",
      "  (bn5): BatchNorm1d(144, eps=1e-05, momentum=0.1, affine=True, track_running_stats=True)\n",
      "  (dropout5): Dropout(p=0.25)\n",
      "  (fc3): Linear(in_features=144, out_features=24, bias=True)\n",
      ")\n"
     ]
    }
   ],
   "source": [
    "# network with dropout and BN\n",
    "# https://pytorch.org/docs/stable/nn\n",
    "\n",
    "# Inspiration for making this more advanced from here:\n",
    "# https://adventuresinmachinelearning.com/convolutional-neural-networks-tutorial-in-pytorch/\n",
    "    \n",
    "class AdvNet(nn.Module):\n",
    "    def __init__(self):\n",
    "        super(AdvNet, self).__init__()\n",
    "        self.relu = nn.ReLU()\n",
    "        self.pool = nn.MaxPool2d(2,2)\n",
    "        self.avg = nn.AvgPool2d(2,stride=1) #using average pooling for first convolution layer\n",
    "        \n",
    "        # 3 convolution layers that get smaller in channel size and image size\n",
    "        self.conv1 = nn.Conv2d(1,32,5,padding=2)\n",
    "        self.bn1 = nn.BatchNorm2d(32)\n",
    "        self.dropout1 = nn.Dropout2d(p=0.25)\n",
    "        self.conv2 = nn.Conv2d(32,24,4,padding=1)\n",
    "        self.bn2 = nn.BatchNorm2d(24)\n",
    "        self.dropout2 = nn.Dropout2d(p=0.25)\n",
    "        self.conv3 = nn.Conv2d(24,16,3,padding=1)\n",
    "        self.bn3 = nn.BatchNorm1d(576)\n",
    "        self.dropout3 = nn.Dropout(p=0.25)\n",
    "        \n",
    "        # 3 linear layers that get smaller\n",
    "        self.fc1 = nn.Linear(576, 288)\n",
    "        self.bn4 = nn.BatchNorm1d(288)\n",
    "        self.dropout4 = nn.Dropout(p=0.25)\n",
    "        self.fc2 = nn.Linear(288, 144)\n",
    "        self.bn5 = nn.BatchNorm1d(144)\n",
    "        self.dropout5 = nn.Dropout(p=0.25)\n",
    "        self.fc3 = nn.Linear(144, num_classes)\n",
    "        \n",
    "    def forward(self,x):\n",
    "        x = self.dropout1(self.bn1(self.avg(self.relu(self.conv1(x)))))\n",
    "        x = self.dropout2(self.bn2(self.pool(self.relu(self.conv2(x)))))\n",
    "        x = self.pool(self.relu(self.conv3(x)))\n",
    "        \n",
    "        x = self.dropout3(self.bn3(x.view(x.size(0),-1)))\n",
    "        \n",
    "        x = self.dropout4(self.bn4(self.relu(self.fc1(x))))\n",
    "        x = self.dropout5(self.bn5(self.relu(self.fc2(x))))\n",
    "        x = self.fc3(x)\n",
    "        return x\n",
    "\n",
    "model = AdvNet()\n",
    "\n",
    "# initiate Adam optimizer\n",
    "opt = optim.Adam(model.parameters(), lr=lrate)\n",
    "\n",
    "# Create learning rate scheduler\n",
    "lambda1 = lambda epoch: lrate - decay*epoch\n",
    "scheduler = optim.lr_scheduler.LambdaLR(opt, lr_lambda=lambda1)\n",
    "\n",
    "# initiate loss function\n",
    "criterion = nn.CrossEntropyLoss()\n",
    "\n",
    "print(str(model))"
   ]
  },
  {
   "cell_type": "code",
   "execution_count": 112,
   "metadata": {
    "scrolled": true
   },
   "outputs": [
    {
     "name": "stdout",
     "output_type": "stream",
     "text": [
      "Epoch:  1   Train Accuracy: 84.447%   Test Accuracy: 94.646%\n",
      "Epoch:  2   Train Accuracy: 98.164%   Test Accuracy: 96.152%\n",
      "Epoch:  3   Train Accuracy: 98.827%   Test Accuracy: 96.514%\n",
      "Epoch:  4   Train Accuracy: 99.049%   Test Accuracy: 96.110%\n",
      "Epoch:  5   Train Accuracy: 99.505%   Test Accuracy: 96.110%\n",
      "Epoch:  6   Train Accuracy: 99.392%   Test Accuracy: 96.361%\n",
      "Epoch:  7   Train Accuracy: 99.494%   Test Accuracy: 96.026%\n",
      "Epoch:  8   Train Accuracy: 99.581%   Test Accuracy: 96.695%\n",
      "Epoch:  9   Train Accuracy: 99.720%   Test Accuracy: 95.956%\n",
      "Epoch: 10   Train Accuracy: 99.665%   Test Accuracy: 95.984%\n",
      "Epoch: 11   Train Accuracy: 99.778%   Test Accuracy: 96.960%\n",
      "Epoch: 12   Train Accuracy: 99.760%   Test Accuracy: 97.030%\n",
      "Epoch: 13   Train Accuracy: 99.825%   Test Accuracy: 97.295%\n",
      "Epoch: 14   Train Accuracy: 99.883%   Test Accuracy: 96.933%\n",
      "Epoch: 15   Train Accuracy: 99.822%   Test Accuracy: 96.291%\n",
      "Epoch: 16   Train Accuracy: 99.883%   Test Accuracy: 96.877%\n",
      "Epoch: 17   Train Accuracy: 99.924%   Test Accuracy: 96.807%\n",
      "Epoch: 18   Train Accuracy: 99.931%   Test Accuracy: 97.476%\n",
      "Epoch: 19   Train Accuracy: 99.927%   Test Accuracy: 96.933%\n",
      "Epoch: 20   Train Accuracy: 99.931%   Test Accuracy: 97.434%\n",
      "Done!\n"
     ]
    }
   ],
   "source": [
    "adv_tr_accuracy = []\n",
    "adv_ts_accuracy = []\n",
    "\n",
    "for epoch in range(epochs):\n",
    "    # Take scheduler step\n",
    "    scheduler.step()\n",
    "    \n",
    "    correct = 0 # initialize error counter\n",
    "    total = 0 # initialize total counter\n",
    "    model.train() # put model in training mode\n",
    "    # iterate over training set\n",
    "    for train_iter, data in enumerate(train_loader):\n",
    "        x_batch,y_batch = data\n",
    "        y_batch = y_batch.type(torch.long)\n",
    "        out = model(x_batch)\n",
    "        # Compute Loss\n",
    "        loss = criterion(out,y_batch)\n",
    "        # Zero gradients\n",
    "        opt.zero_grad()\n",
    "        # Compute gradients using back propagation\n",
    "        loss.backward()\n",
    "        # Take an optimization 'step'\n",
    "        opt.step()\n",
    "        \n",
    "        # Compute Accuracy\n",
    "        _, predicted = torch.max(out.data, 1)\n",
    "        total += y_batch.size(0)\n",
    "        correct += (predicted == y_batch).sum().item()\n",
    "        \n",
    "\n",
    "    adv_tr_accuracy.append( 100*correct/total )\n",
    "    \n",
    "    correct = 0\n",
    "    total = 0\n",
    "    model.eval() # put model in evaluation mode\n",
    "    with torch.no_grad():\n",
    "        for data in test_loader:\n",
    "            images, labels = data\n",
    "            labels = labels.type(torch.long)\n",
    "            outputs = model(images)\n",
    "            _, predicted = torch.max(outputs.data, 1)\n",
    "            total += labels.size(0)\n",
    "            correct += (predicted == labels).sum().item()\n",
    "    \n",
    "    adv_ts_accuracy.append( 100*correct/total )\n",
    "    \n",
    "    # Print details every print_mod epoch\n",
    "    print('Epoch: {0:2d}   Train Accuracy: {1:.3f}%   Test Accuracy: {2:.3f}%'.format(epoch+1, adv_tr_accuracy[epoch], adv_ts_accuracy[epoch]))\n",
    "        \n",
    "\n",
    "print('Done!')"
   ]
  },
  {
   "cell_type": "code",
   "execution_count": 114,
   "metadata": {
    "scrolled": false
   },
   "outputs": [
    {
     "data": {
      "text/plain": [
       "<matplotlib.colorbar.Colorbar at 0x1a2b3a5940>"
      ]
     },
     "execution_count": 114,
     "metadata": {},
     "output_type": "execute_result"
    },
    {
     "data": {
      "image/png": "[encoded data removed]",
      "text/plain": [
       "<Figure size 864x864 with 2 Axes>"
      ]
     },
     "metadata": {
      "needs_background": "light"
     },
     "output_type": "display_data"
    }
   ],
   "source": [
    "yhat_temp = model(Xts_torch)\n",
    "_, yhat_adv = torch.max(yhat_temp.data, 1)\n",
    "C = confusion_matrix(y_test,yhat_adv)\n",
    "\n",
    "# Normalize the confusion matrix\n",
    "Csum = np.sum(C,1)\n",
    "C = C / Csum[None,:]\n",
    "\n",
    "# Print the confusion matrix\n",
    "plt.figure(figsize=(12, 12))\n",
    "plt.subplots_adjust(left=.2, right=0.95, bottom=0.4, top=0.95)\n",
    "plt.imshow(C, interpolation='none')\n",
    "plt.xlabel(\"Predicted\", fontsize= 'x-large')\n",
    "plt.ylabel(\"True\", fontsize= 'x-large')\n",
    "plt.title(\"Pred. vs. True of Advanced CNN\", fontsize= 'xx-large')\n",
    "plt.xticks(np.arange(24), alphabet)\n",
    "plt.yticks(np.arange(24), alphabet)\n",
    "plt.colorbar()"
   ]
  },
  {
   "cell_type": "code",
   "execution_count": 123,
   "metadata": {},
   "outputs": [
    {
     "name": "stdout",
     "output_type": "stream",
     "text": [
      "[6 5 9 ... 2 4 2]\n"
     ]
    }
   ],
   "source": [
    "# https://stackoverflow.com/questions/52215711/tensorflow-tensor-to-numpy-array-conversion-without-running-any-session\n",
    "# Changes a tensor into numpy array\n",
    "print(yhat_adv.numpy())"
   ]
  },
  {
   "cell_type": "code",
   "execution_count": 144,
   "metadata": {
    "scrolled": true
   },
   "outputs": [
    {
     "data": {
      "image/png": "[encoded data removed]",
      "text/plain": [
       "<Figure size 1296x360 with 8 Axes>"
      ]
     },
     "metadata": {},
     "output_type": "display_data"
    }
   ],
   "source": [
    "# Now that we have 97% accuracy, lets se what the model is not predicting correctly\n",
    "nplt = 8\n",
    "Ierr = np.where(y_test != yhat_adv.numpy())[0]\n",
    "\n",
    "Iperm = np.random.permutation(Ierr)\n",
    "\n",
    "plt.figure(figsize=(18, 5))\n",
    "for i in range(nplt):        \n",
    "    plt.subplot(1,nplt,i+1)        \n",
    "    ind = Iperm[i]    \n",
    "    plt_image(X_test[ind,:]) \n",
    "    title = \"true=\" + to_char(y_test[ind]) + \" est=\" + to_char(yhat_adv[ind])\n",
    "    plt.title(title)"
   ]
  },
  {
   "cell_type": "markdown",
   "metadata": {},
   "source": [
    "* T, H, and G all point to the right \n",
    "* K, U, D, and R all point up\n",
    "* V and Y both have two fingers up\n",
    "* A, M, N, and S have all fingers closed"
   ]
  },
  {
   "cell_type": "markdown",
   "metadata": {},
   "source": [
    "## A Comparison of the CNN models"
   ]
  },
  {
   "cell_type": "code",
   "execution_count": 116,
   "metadata": {},
   "outputs": [
    {
     "data": {
      "text/plain": [
       "<matplotlib.legend.Legend at 0x1a551b0c88>"
      ]
     },
     "execution_count": 116,
     "metadata": {},
     "output_type": "execute_result"
    },
    {
     "data": {
      "image/png": "[encoded data removed]",
      "text/plain": [
       "<Figure size 1152x432 with 2 Axes>"
      ]
     },
     "metadata": {
      "needs_background": "light"
     },
     "output_type": "display_data"
    }
   ],
   "source": [
    "# from demo_cnn_classifier with modifications\n",
    "\n",
    "plt.figure(figsize=(16, 6))\n",
    "plt.subplot(1,2,1)\n",
    "epochsn=np.arange(1,epochs+1)\n",
    "plt.plot(epochsn,basic_tr_accuracy)\n",
    "plt.plot(epochsn,batch_tr_accuracy)\n",
    "plt.plot(epochsn,drop_tr_accuracy)\n",
    "plt.plot(epochsn,adv_tr_accuracy)\n",
    "plt.xlim((1,epochs))\n",
    "plt.grid()\n",
    "plt.xlabel('epochs')\n",
    "plt.ylabel('accuarcy')\n",
    "plt.title('Training Accuracy')\n",
    "plt.legend(['Baseline', 'BN', 'BN+Dropout', 'Advanced'])\n",
    "\n",
    "plt.subplot(1,2,2)\n",
    "plt.plot(epochsn,basic_ts_accuracy)\n",
    "plt.plot(epochsn,batch_ts_accuracy)\n",
    "plt.plot(epochsn,drop_ts_accuracy)\n",
    "plt.plot(epochsn,adv_ts_accuracy)\n",
    "plt.xlim((1,epochs))\n",
    "plt.grid()\n",
    "plt.xlabel('epochs')\n",
    "plt.ylabel('accuarcy')\n",
    "plt.title('Validation Accuracy')\n",
    "plt.legend(['Baseline', 'BN', 'BN+Dropout', 'Advanced'])"
   ]
  },
  {
   "cell_type": "code",
   "execution_count": null,
   "metadata": {},
   "outputs": [],
   "source": []
  }
 ],
 "metadata": {
  "kernelspec": {
   "display_name": "Python 3",
   "language": "python",
   "name": "python3"
  },
  "language_info": {
   "codemirror_mode": {
    "name": "ipython",
    "version": 3
   },
   "file_extension": ".py",
   "mimetype": "text/x-python",
   "name": "python",
   "nbconvert_exporter": "python",
   "pygments_lexer": "ipython3",
   "version": "3.7.3"
  }
 },
 "nbformat": 4,
 "nbformat_minor": 2
}
